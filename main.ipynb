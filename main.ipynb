{
 "cells": [
  {
   "cell_type": "markdown",
   "metadata": {},
   "source": [
    "### Find Unusual Patterns in Hourly Google Search Traffic\n",
    "The goal here is to find out if there is a link between financial events for MercadoLibre and Google search traffic. \n",
    "We will dive into May 2020, when MercadoLibre released a quarterly financial report"
   ]
  },
  {
   "cell_type": "code",
   "execution_count": 150,
   "metadata": {},
   "outputs": [],
   "source": [
    "import pandas as pd\n",
    "import holoviews as hv\n",
    "import hvplot.pandas\n",
    "import seaborn as sns\n",
    "import numpy as np\n",
    "from datetime import datetime\n",
    "from pytz import timezone"
   ]
  },
  {
   "cell_type": "code",
   "execution_count": 170,
   "metadata": {},
   "outputs": [],
   "source": [
    "# Read in the search trends data\n",
    "meli_search_df = pd.read_csv('resources/google_hourly_search_trends.csv', infer_datetime_format=True, parse_dates=True)\n",
    "\n",
    "# Slice the frame to just the month of May 2020. We first need to convert our Date column to Datetime\n",
    "meli_search_df['Date'] = pd.to_datetime(meli_search_df['Date'], infer_datetime_format=True, utc=True)\n",
    "\n",
    "# Convert the Date Column to US/Eastern time\n",
    "#meli_search_df['Date'] = meli_search_df['Date'].dt.tz_convert('US/Eastern')\n",
    "\n",
    "# Set the index to our Datetime column for simple lookup / plot statements\n",
    "meli_search_df = meli_search_df.set_index('Date')"
   ]
  },
  {
   "cell_type": "code",
   "execution_count": 171,
   "metadata": {},
   "outputs": [
    {
     "data": {
      "text/html": [
       "<div>\n",
       "<style scoped>\n",
       "    .dataframe tbody tr th:only-of-type {\n",
       "        vertical-align: middle;\n",
       "    }\n",
       "\n",
       "    .dataframe tbody tr th {\n",
       "        vertical-align: top;\n",
       "    }\n",
       "\n",
       "    .dataframe thead th {\n",
       "        text-align: right;\n",
       "    }\n",
       "</style>\n",
       "<table border=\"1\" class=\"dataframe\">\n",
       "  <thead>\n",
       "    <tr style=\"text-align: right;\">\n",
       "      <th></th>\n",
       "      <th>Search Trends</th>\n",
       "    </tr>\n",
       "    <tr>\n",
       "      <th>Date</th>\n",
       "      <th></th>\n",
       "    </tr>\n",
       "  </thead>\n",
       "  <tbody>\n",
       "    <tr>\n",
       "      <th>2020-09-07 20:00:00+00:00</th>\n",
       "      <td>71</td>\n",
       "    </tr>\n",
       "    <tr>\n",
       "      <th>2020-09-07 21:00:00+00:00</th>\n",
       "      <td>83</td>\n",
       "    </tr>\n",
       "    <tr>\n",
       "      <th>2020-09-07 22:00:00+00:00</th>\n",
       "      <td>96</td>\n",
       "    </tr>\n",
       "    <tr>\n",
       "      <th>2020-09-07 23:00:00+00:00</th>\n",
       "      <td>97</td>\n",
       "    </tr>\n",
       "    <tr>\n",
       "      <th>2020-09-08 00:00:00+00:00</th>\n",
       "      <td>96</td>\n",
       "    </tr>\n",
       "  </tbody>\n",
       "</table>\n",
       "</div>"
      ],
      "text/plain": [
       "                           Search Trends\n",
       "Date                                    \n",
       "2020-09-07 20:00:00+00:00             71\n",
       "2020-09-07 21:00:00+00:00             83\n",
       "2020-09-07 22:00:00+00:00             96\n",
       "2020-09-07 23:00:00+00:00             97\n",
       "2020-09-08 00:00:00+00:00             96"
      ]
     },
     "execution_count": 171,
     "metadata": {},
     "output_type": "execute_result"
    }
   ],
   "source": [
    "meli_search_df.tail()"
   ]
  },
  {
   "cell_type": "code",
   "execution_count": 172,
   "metadata": {},
   "outputs": [],
   "source": [
    "# Because the end of the dataset coincides with the beginning of the month, \n",
    "# We will trim data from Sept. 2020 from the data set so that our measures of centrality are more representative\n",
    "\n",
    "meli_search_df = meli_search_df.loc[:'2020-08-31']\n"
   ]
  },
  {
   "cell_type": "markdown",
   "metadata": {},
   "source": [
    "## Zoom in on May 2020, month of Quarterly Financial Report"
   ]
  },
  {
   "cell_type": "code",
   "execution_count": 173,
   "metadata": {},
   "outputs": [
    {
     "data": {},
     "metadata": {},
     "output_type": "display_data"
    },
    {
     "data": {
      "application/vnd.holoviews_exec.v0+json": "",
      "text/html": [
       "<div id='8629'>\n",
       "\n",
       "\n",
       "\n",
       "\n",
       "\n",
       "  <div class=\"bk-root\" id=\"1135a74c-979d-4af4-84e6-5c892174a33d\" data-root-id=\"8629\"></div>\n",
       "</div>\n",
       "<script type=\"application/javascript\">(function(root) {\n",
       "  function embed_document(root) {\n",
       "    var docs_json = {\"bd454a3d-e2ae-4c2b-9ac8-9139a4584b7d\":{\"defs\":[{\"extends\":null,\"module\":null,\"name\":\"ReactiveHTML1\",\"overrides\":[],\"properties\":[]},{\"extends\":null,\"module\":null,\"name\":\"FlexBox1\",\"overrides\":[],\"properties\":[{\"default\":\"flex-start\",\"kind\":null,\"name\":\"align_content\"},{\"default\":\"flex-start\",\"kind\":null,\"name\":\"align_items\"},{\"default\":\"row\",\"kind\":null,\"name\":\"flex_direction\"},{\"default\":\"wrap\",\"kind\":null,\"name\":\"flex_wrap\"},{\"default\":\"flex-start\",\"kind\":null,\"name\":\"justify_content\"}]},{\"extends\":null,\"module\":null,\"name\":\"TemplateActions1\",\"overrides\":[],\"properties\":[{\"default\":0,\"kind\":null,\"name\":\"open_modal\"},{\"default\":0,\"kind\":null,\"name\":\"close_modal\"}]},{\"extends\":null,\"module\":null,\"name\":\"MaterialTemplateActions1\",\"overrides\":[],\"properties\":[{\"default\":0,\"kind\":null,\"name\":\"open_modal\"},{\"default\":0,\"kind\":null,\"name\":\"close_modal\"}]}],\"roots\":{\"references\":[{\"attributes\":{\"coordinates\":null,\"group\":null,\"text\":\"May 2020 Search Trend Data\",\"text_color\":\"black\",\"text_font_size\":\"12pt\"},\"id\":\"8635\",\"type\":\"Title\"},{\"attributes\":{\"overlay\":{\"id\":\"8656\"}},\"id\":\"8654\",\"type\":\"BoxZoomTool\"},{\"attributes\":{},\"id\":\"8639\",\"type\":\"LinearScale\"},{\"attributes\":{\"days\":[1,2,3,4,5,6,7,8,9,10,11,12,13,14,15,16,17,18,19,20,21,22,23,24,25,26,27,28,29,30,31]},\"id\":\"8692\",\"type\":\"DaysTicker\"},{\"attributes\":{},\"id\":\"8700\",\"type\":\"YearsTicker\"},{\"attributes\":{\"mantissas\":[1,2,5],\"max_interval\":500.0,\"num_minor_ticks\":0},\"id\":\"8689\",\"type\":\"AdaptiveTicker\"},{\"attributes\":{\"base\":24,\"mantissas\":[1,2,4,6,8,12],\"max_interval\":43200000.0,\"min_interval\":3600000.0,\"num_minor_ticks\":0},\"id\":\"8691\",\"type\":\"AdaptiveTicker\"},{\"attributes\":{\"axis_label\":\"Date\",\"coordinates\":null,\"formatter\":{\"id\":\"8674\"},\"group\":null,\"major_label_policy\":{\"id\":\"8675\"},\"ticker\":{\"id\":\"8644\"}},\"id\":\"8643\",\"type\":\"DatetimeAxis\"},{\"attributes\":{},\"id\":\"8653\",\"type\":\"WheelZoomTool\"},{\"attributes\":{},\"id\":\"8674\",\"type\":\"DatetimeTickFormatter\"},{\"attributes\":{\"line_alpha\":0.2,\"line_color\":\"#30a2da\",\"line_width\":2,\"x\":{\"field\":\"Date\"},\"y\":{\"field\":\"Search Trends\"}},\"id\":\"8669\",\"type\":\"Line\"},{\"attributes\":{},\"id\":\"8648\",\"type\":\"BasicTicker\"},{\"attributes\":{\"num_minor_ticks\":5,\"tickers\":[{\"id\":\"8689\"},{\"id\":\"8690\"},{\"id\":\"8691\"},{\"id\":\"8692\"},{\"id\":\"8693\"},{\"id\":\"8694\"},{\"id\":\"8695\"},{\"id\":\"8696\"},{\"id\":\"8697\"},{\"id\":\"8698\"},{\"id\":\"8699\"},{\"id\":\"8700\"}]},\"id\":\"8644\",\"type\":\"DatetimeTicker\"},{\"attributes\":{\"base\":60,\"mantissas\":[1,2,5,10,15,20,30],\"max_interval\":1800000.0,\"min_interval\":1000.0,\"num_minor_ticks\":0},\"id\":\"8690\",\"type\":\"AdaptiveTicker\"},{\"attributes\":{},\"id\":\"8641\",\"type\":\"LinearScale\"},{\"attributes\":{},\"id\":\"8665\",\"type\":\"Selection\"},{\"attributes\":{\"days\":[1,4,7,10,13,16,19,22,25,28]},\"id\":\"8693\",\"type\":\"DaysTicker\"},{\"attributes\":{\"axis_label\":\"Search Trends\",\"coordinates\":null,\"formatter\":{\"id\":\"8677\"},\"group\":null,\"major_label_policy\":{\"id\":\"8678\"},\"ticker\":{\"id\":\"8648\"}},\"id\":\"8647\",\"type\":\"LinearAxis\"},{\"attributes\":{},\"id\":\"8677\",\"type\":\"BasicTickFormatter\"},{\"attributes\":{\"end\":136.9,\"reset_end\":136.9,\"reset_start\":-5.9,\"start\":-5.9,\"tags\":[[[\"Search Trends\",\"Search Trends\",null]]]},\"id\":\"8632\",\"type\":\"Range1d\"},{\"attributes\":{\"axis\":{\"id\":\"8643\"},\"coordinates\":null,\"grid_line_color\":null,\"group\":null,\"ticker\":null},\"id\":\"8646\",\"type\":\"Grid\"},{\"attributes\":{\"months\":[0,1,2,3,4,5,6,7,8,9,10,11]},\"id\":\"8696\",\"type\":\"MonthsTicker\"},{\"attributes\":{\"data\":{\"Date\":{\"__ndarray__\":\"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\",\"dtype\":\"float64\",\"order\":\"little\",\"shape\":[744]},\"Search Trends\":[80,80,76,66,53,33,19,12,8,6,9,13,21,30,38,41,45,50,53,54,60,68,83,89,88,85,80,69,56,36,22,13,8,7,9,16,25,36,45,51,55,57,58,62,65,72,86,91,87,82,78,72,55,38,24,14,9,7,8,13,22,31,39,45,50,54,57,61,66,77,90,94,89,84,78,68,51,32,18,11,7,6,9,18,29,40,48,56,58,60,62,67,71,83,95,98,119,110,103,89,71,44,23,13,9,9,13,24,38,49,61,66,70,76,79,84,93,105,124,125,98,92,87,74,58,33,18,10,7,8,11,20,32,44,51,57,57,60,61,65,69,79,94,97,95,88,85,71,52,33,18,11,8,8,12,20,32,42,48,54,56,58,62,64,70,80,92,94,93,89,83,70,50,32,17,11,8,8,12,21,34,43,51,54,58,58,61,64,65,74,89,90,86,83,80,68,54,33,19,12,8,8,10,18,29,38,47,51,54,56,58,58,62,69,84,89,83,80,74,67,51,36,21,12,8,7,7,12,21,28,35,41,43,46,50,53,58,71,85,90,85,83,77,64,49,30,18,11,7,7,9,18,29,39,47,54,58,61,63,65,72,82,97,98,95,91,86,70,52,30,16,10,7,6,11,20,31,39,50,54,56,60,62,66,72,83,94,100,95,92,86,70,51,31,17,10,7,7,10,20,33,43,50,55,58,61,64,68,72,82,93,99,95,89,85,70,51,30,17,10,7,7,10,20,32,42,50,55,59,61,63,64,71,81,94,97,94,90,84,71,50,31,17,10,7,7,11,21,34,43,50,54,58,60,60,65,68,75,89,94,92,88,84,70,53,35,21,12,9,8,11,19,31,39,47,52,55,59,61,62,63,73,86,91,87,85,81,74,57,37,23,13,9,8,9,14,23,32,41,47,53,55,58,61,65,77,92,96,91,88,83,69,50,32,18,10,7,7,10,19,32,43,52,57,61,63,66,70,74,83,95,100,96,93,88,70,49,30,16,10,7,7,12,21,32,44,51,57,60,64,65,68,72,82,95,97,96,88,81,69,50,32,17,10,8,7,11,21,34,44,49,54,59,60,62,67,67,78,89,93,90,87,82,70,50,30,16,10,7,8,11,20,33,42,51,55,58,61,64,69,68,80,93,94,90,89,83,71,53,34,19,11,7,7,11,21,32,43,49,55,57,60,62,66,70,77,90,93,91,88,84,70,53,36,21,13,8,7,10,17,28,38,45,50,53,58,58,61,63,73,86,86,86,82,80,71,54,36,22,13,8,7,8,13,23,31,41,47,52,54,57,61,66,76,91,99,97,91,82,74,52,33,19,11,7,6,8,14,24,34,43,51,55,57,61,63,68,78,94,98,95,89,85,68,52,30,17,9,6,6,10,19,30,39,48,52,58,60,62,63,70,82,98,100,96,93,85,69,49,29,17,9,7,7,10,18,30,39,48,54,56,61,62,63,66,80,92,99,95,91,85,70,48,29,16,10,7,7,10,18,28,39,47,54,56,60,61,65,68,76,93,97,95,92,83,67,49,30,16,10,7,7,11,19,30,40,47,52,54,57,60,63,66,73,87,94,91,86,82,69,50,33,20,12,8,8,10,17,27,38,46,51,55,57,59,56,64,72,88,94,90,84,80,69,53,35,22,13,8,7,8,13,21,32,40,47,52,51,57,59,64,76,90,96],\"Search_Trends\":[80,80,76,66,53,33,19,12,8,6,9,13,21,30,38,41,45,50,53,54,60,68,83,89,88,85,80,69,56,36,22,13,8,7,9,16,25,36,45,51,55,57,58,62,65,72,86,91,87,82,78,72,55,38,24,14,9,7,8,13,22,31,39,45,50,54,57,61,66,77,90,94,89,84,78,68,51,32,18,11,7,6,9,18,29,40,48,56,58,60,62,67,71,83,95,98,119,110,103,89,71,44,23,13,9,9,13,24,38,49,61,66,70,76,79,84,93,105,124,125,98,92,87,74,58,33,18,10,7,8,11,20,32,44,51,57,57,60,61,65,69,79,94,97,95,88,85,71,52,33,18,11,8,8,12,20,32,42,48,54,56,58,62,64,70,80,92,94,93,89,83,70,50,32,17,11,8,8,12,21,34,43,51,54,58,58,61,64,65,74,89,90,86,83,80,68,54,33,19,12,8,8,10,18,29,38,47,51,54,56,58,58,62,69,84,89,83,80,74,67,51,36,21,12,8,7,7,12,21,28,35,41,43,46,50,53,58,71,85,90,85,83,77,64,49,30,18,11,7,7,9,18,29,39,47,54,58,61,63,65,72,82,97,98,95,91,86,70,52,30,16,10,7,6,11,20,31,39,50,54,56,60,62,66,72,83,94,100,95,92,86,70,51,31,17,10,7,7,10,20,33,43,50,55,58,61,64,68,72,82,93,99,95,89,85,70,51,30,17,10,7,7,10,20,32,42,50,55,59,61,63,64,71,81,94,97,94,90,84,71,50,31,17,10,7,7,11,21,34,43,50,54,58,60,60,65,68,75,89,94,92,88,84,70,53,35,21,12,9,8,11,19,31,39,47,52,55,59,61,62,63,73,86,91,87,85,81,74,57,37,23,13,9,8,9,14,23,32,41,47,53,55,58,61,65,77,92,96,91,88,83,69,50,32,18,10,7,7,10,19,32,43,52,57,61,63,66,70,74,83,95,100,96,93,88,70,49,30,16,10,7,7,12,21,32,44,51,57,60,64,65,68,72,82,95,97,96,88,81,69,50,32,17,10,8,7,11,21,34,44,49,54,59,60,62,67,67,78,89,93,90,87,82,70,50,30,16,10,7,8,11,20,33,42,51,55,58,61,64,69,68,80,93,94,90,89,83,71,53,34,19,11,7,7,11,21,32,43,49,55,57,60,62,66,70,77,90,93,91,88,84,70,53,36,21,13,8,7,10,17,28,38,45,50,53,58,58,61,63,73,86,86,86,82,80,71,54,36,22,13,8,7,8,13,23,31,41,47,52,54,57,61,66,76,91,99,97,91,82,74,52,33,19,11,7,6,8,14,24,34,43,51,55,57,61,63,68,78,94,98,95,89,85,68,52,30,17,9,6,6,10,19,30,39,48,52,58,60,62,63,70,82,98,100,96,93,85,69,49,29,17,9,7,7,10,18,30,39,48,54,56,61,62,63,66,80,92,99,95,91,85,70,48,29,16,10,7,7,10,18,28,39,47,54,56,60,61,65,68,76,93,97,95,92,83,67,49,30,16,10,7,7,11,19,30,40,47,52,54,57,60,63,66,73,87,94,91,86,82,69,50,33,20,12,8,8,10,17,27,38,46,51,55,57,59,56,64,72,88,94,90,84,80,69,53,35,22,13,8,7,8,13,21,32,40,47,52,51,57,59,64,76,90,96]},\"selected\":{\"id\":\"8665\"},\"selection_policy\":{\"id\":\"8686\"}},\"id\":\"8664\",\"type\":\"ColumnDataSource\"},{\"attributes\":{\"days\":[1,8,15,22]},\"id\":\"8694\",\"type\":\"DaysTicker\"},{\"attributes\":{\"end\":1590966000000.0,\"reset_end\":1590966000000.0,\"reset_start\":1588291200000.0,\"start\":1588291200000.0,\"tags\":[[[\"Date\",\"Date\",null]]]},\"id\":\"8631\",\"type\":\"Range1d\"},{\"attributes\":{\"line_color\":\"#30a2da\",\"line_width\":2,\"x\":{\"field\":\"Date\"},\"y\":{\"field\":\"Search Trends\"}},\"id\":\"8672\",\"type\":\"Line\"},{\"attributes\":{},\"id\":\"8675\",\"type\":\"AllLabels\"},{\"attributes\":{\"days\":[1,15]},\"id\":\"8695\",\"type\":\"DaysTicker\"},{\"attributes\":{\"axis\":{\"id\":\"8647\"},\"coordinates\":null,\"dimension\":1,\"grid_line_color\":null,\"group\":null,\"ticker\":null},\"id\":\"8650\",\"type\":\"Grid\"},{\"attributes\":{\"margin\":[5,5,5,5],\"name\":\"HSpacer13154\",\"sizing_mode\":\"stretch_width\"},\"id\":\"8630\",\"type\":\"Spacer\"},{\"attributes\":{},\"id\":\"8686\",\"type\":\"UnionRenderers\"},{\"attributes\":{\"months\":[0,2,4,6,8,10]},\"id\":\"8697\",\"type\":\"MonthsTicker\"},{\"attributes\":{\"callback\":null,\"formatters\":{\"@{Date}\":\"datetime\"},\"renderers\":[{\"id\":\"8670\"}],\"tags\":[\"hv_created\"],\"tooltips\":[[\"Date\",\"@{Date}{%F %T}\"],[\"Search Trends\",\"@{Search_Trends}\"]]},\"id\":\"8633\",\"type\":\"HoverTool\"},{\"attributes\":{\"source\":{\"id\":\"8664\"}},\"id\":\"8671\",\"type\":\"CDSView\"},{\"attributes\":{\"below\":[{\"id\":\"8643\"}],\"center\":[{\"id\":\"8646\"},{\"id\":\"8650\"}],\"height\":300,\"left\":[{\"id\":\"8647\"}],\"margin\":[5,5,5,5],\"min_border_bottom\":10,\"min_border_left\":10,\"min_border_right\":10,\"min_border_top\":10,\"renderers\":[{\"id\":\"8670\"}],\"sizing_mode\":\"fixed\",\"title\":{\"id\":\"8635\"},\"toolbar\":{\"id\":\"8657\"},\"width\":700,\"x_range\":{\"id\":\"8631\"},\"x_scale\":{\"id\":\"8639\"},\"y_range\":{\"id\":\"8632\"},\"y_scale\":{\"id\":\"8641\"}},\"id\":\"8634\",\"subtype\":\"Figure\",\"type\":\"Plot\"},{\"attributes\":{\"months\":[0,4,8]},\"id\":\"8698\",\"type\":\"MonthsTicker\"},{\"attributes\":{\"coordinates\":null,\"data_source\":{\"id\":\"8664\"},\"glyph\":{\"id\":\"8667\"},\"group\":null,\"hover_glyph\":null,\"muted_glyph\":{\"id\":\"8669\"},\"nonselection_glyph\":{\"id\":\"8668\"},\"selection_glyph\":{\"id\":\"8672\"},\"view\":{\"id\":\"8671\"}},\"id\":\"8670\",\"type\":\"GlyphRenderer\"},{\"attributes\":{\"line_color\":\"#30a2da\",\"line_width\":2,\"x\":{\"field\":\"Date\"},\"y\":{\"field\":\"Search Trends\"}},\"id\":\"8667\",\"type\":\"Line\"},{\"attributes\":{\"margin\":[5,5,5,5],\"name\":\"HSpacer13155\",\"sizing_mode\":\"stretch_width\"},\"id\":\"8723\",\"type\":\"Spacer\"},{\"attributes\":{\"tools\":[{\"id\":\"8633\"},{\"id\":\"8651\"},{\"id\":\"8652\"},{\"id\":\"8653\"},{\"id\":\"8654\"},{\"id\":\"8655\"}]},\"id\":\"8657\",\"type\":\"Toolbar\"},{\"attributes\":{\"months\":[0,6]},\"id\":\"8699\",\"type\":\"MonthsTicker\"},{\"attributes\":{\"bottom_units\":\"screen\",\"coordinates\":null,\"fill_alpha\":0.5,\"fill_color\":\"lightgrey\",\"group\":null,\"left_units\":\"screen\",\"level\":\"overlay\",\"line_alpha\":1.0,\"line_color\":\"black\",\"line_dash\":[4,4],\"line_width\":2,\"right_units\":\"screen\",\"syncable\":false,\"top_units\":\"screen\"},\"id\":\"8656\",\"type\":\"BoxAnnotation\"},{\"attributes\":{\"children\":[{\"id\":\"8630\"},{\"id\":\"8634\"},{\"id\":\"8723\"}],\"margin\":[0,0,0,0],\"name\":\"Row13150\",\"tags\":[\"embedded\"]},\"id\":\"8629\",\"type\":\"Row\"},{\"attributes\":{},\"id\":\"8651\",\"type\":\"SaveTool\"},{\"attributes\":{},\"id\":\"8652\",\"type\":\"PanTool\"},{\"attributes\":{},\"id\":\"8678\",\"type\":\"AllLabels\"},{\"attributes\":{},\"id\":\"8655\",\"type\":\"ResetTool\"},{\"attributes\":{\"line_alpha\":0.1,\"line_color\":\"#30a2da\",\"line_width\":2,\"x\":{\"field\":\"Date\"},\"y\":{\"field\":\"Search Trends\"}},\"id\":\"8668\",\"type\":\"Line\"}],\"root_ids\":[\"8629\"]},\"title\":\"Bokeh Application\",\"version\":\"2.4.2\"}};\n",
       "    var render_items = [{\"docid\":\"bd454a3d-e2ae-4c2b-9ac8-9139a4584b7d\",\"root_ids\":[\"8629\"],\"roots\":{\"8629\":\"1135a74c-979d-4af4-84e6-5c892174a33d\"}}];\n",
       "    root.Bokeh.embed.embed_items_notebook(docs_json, render_items);\n",
       "  }\n",
       "  if (root.Bokeh !== undefined && root.Bokeh.Panel !== undefined) {\n",
       "    embed_document(root);\n",
       "  } else {\n",
       "    var attempts = 0;\n",
       "    var timer = setInterval(function(root) {\n",
       "      if (root.Bokeh !== undefined && root.Bokeh.Panel !== undefined) {\n",
       "        clearInterval(timer);\n",
       "        embed_document(root);\n",
       "      } else if (document.readyState == \"complete\") {\n",
       "        attempts++;\n",
       "        if (attempts > 200) {\n",
       "          clearInterval(timer);\n",
       "          console.log(\"Bokeh: ERROR: Unable to run BokehJS code because BokehJS library is missing\");\n",
       "        }\n",
       "      }\n",
       "    }, 25, root)\n",
       "  }\n",
       "})(window);</script>"
      ],
      "text/plain": [
       ":Curve   [Date]   (Search Trends)"
      ]
     },
     "execution_count": 173,
     "metadata": {
      "application/vnd.holoviews_exec.v0+json": {
       "id": "8629"
      }
     },
     "output_type": "execute_result"
    }
   ],
   "source": [
    "\n",
    "fig_march = meli_search_df.loc['2020-05'].hvplot(title= 'May 2020 Search Trend Data')\n",
    "fig_march"
   ]
  },
  {
   "cell_type": "markdown",
   "metadata": {},
   "source": [
    "### Interesting Spikes on May 5th \n",
    "The chart appears to be a stochastic process oscillating between ~10 and ~100 with reliable cyclicality. However, the data for **May 5th** seems elevated relative to the rest of the month. Let's see if the entire month was anomalous.\n",
    "\n",
    "### Compare May 2020 to Monthly Median\n"
   ]
  },
  {
   "cell_type": "code",
   "execution_count": 174,
   "metadata": {},
   "outputs": [
    {
     "name": "stdout",
     "output_type": "stream",
     "text": [
      "Median Google Search Traffic: 35201.0\n",
      "Total for May, 2020: 38181.0, an 8.47% increase in search traffic\n"
     ]
    }
   ],
   "source": [
    "#Group the data by year and month, so that we see a time series of years and months\n",
    "df_yr_mnth_group = meli_search_df.groupby(by=[meli_search_df.index.year, meli_search_df.index.month]).sum()\n",
    "my_median = df_yr_mnth_group.median()\n",
    "may_2020_total = float(df_yr_mnth_group.loc[(2020, 5)])\n",
    "print(f'Median Google Search Traffic: {float(my_median)}')\n",
    "print(f'Total for May, 2020: {may_2020_total}, an {round(float(((may_2020_total-my_median)/my_median)*100),2)}% increase in search traffic')"
   ]
  },
  {
   "cell_type": "markdown",
   "metadata": {},
   "source": [
    "## The month of May, 2020 brought a meaningful increase in our search traffic above the median\n",
    "We could use this data to aid our marketing team and our investor relations team coordinate SEO and other marketing efforts to drive search traffic towards our own press releases or paid sponsorship articles."
   ]
  },
  {
   "cell_type": "markdown",
   "metadata": {},
   "source": [
    "## Mine the Search Traffic Data for Seasonality\n",
    "Next we want to see if we can *track* and *predict* interest in the company to help our marketing team concentrate their efforts around more optimal hours and days of the week. To do this we'll very cimple plot a heat map. Along the x-axis you'll see the hour of the day (military time), and alond the y-axis you'll see the day of week"
   ]
  },
  {
   "cell_type": "code",
   "execution_count": 176,
   "metadata": {},
   "outputs": [
    {
     "data": {},
     "metadata": {},
     "output_type": "display_data"
    },
    {
     "data": {
      "application/vnd.holoviews_exec.v0+json": "",
      "text/html": [
       "<div id='8835'>\n",
       "\n",
       "\n",
       "\n",
       "\n",
       "\n",
       "  <div class=\"bk-root\" id=\"aff3d2fd-a360-4ff3-bb3f-bcd56617d068\" data-root-id=\"8835\"></div>\n",
       "</div>\n",
       "<script type=\"application/javascript\">(function(root) {\n",
       "  function embed_document(root) {\n",
       "    var docs_json = {\"e8186869-e2ea-4fa8-be4a-f9772b25ba60\":{\"defs\":[{\"extends\":null,\"module\":null,\"name\":\"ReactiveHTML1\",\"overrides\":[],\"properties\":[]},{\"extends\":null,\"module\":null,\"name\":\"FlexBox1\",\"overrides\":[],\"properties\":[{\"default\":\"flex-start\",\"kind\":null,\"name\":\"align_content\"},{\"default\":\"flex-start\",\"kind\":null,\"name\":\"align_items\"},{\"default\":\"row\",\"kind\":null,\"name\":\"flex_direction\"},{\"default\":\"wrap\",\"kind\":null,\"name\":\"flex_wrap\"},{\"default\":\"flex-start\",\"kind\":null,\"name\":\"justify_content\"}]},{\"extends\":null,\"module\":null,\"name\":\"TemplateActions1\",\"overrides\":[],\"properties\":[{\"default\":0,\"kind\":null,\"name\":\"open_modal\"},{\"default\":0,\"kind\":null,\"name\":\"close_modal\"}]},{\"extends\":null,\"module\":null,\"name\":\"MaterialTemplateActions1\",\"overrides\":[],\"properties\":[{\"default\":0,\"kind\":null,\"name\":\"open_modal\"},{\"default\":0,\"kind\":null,\"name\":\"close_modal\"}]}],\"roots\":{\"references\":[{\"attributes\":{},\"id\":\"8854\",\"type\":\"BasicTicker\"},{\"attributes\":{\"axis\":{\"id\":\"8853\"},\"coordinates\":null,\"dimension\":1,\"grid_line_color\":null,\"group\":null,\"ticker\":null},\"id\":\"8856\",\"type\":\"Grid\"},{\"attributes\":{\"source\":{\"id\":\"8871\"}},\"id\":\"8879\",\"type\":\"CDSView\"},{\"attributes\":{\"high\":95.13636363636364,\"low\":5.572727272727272,\"nan_color\":\"white\",\"palette\":[\"#3a4cc0\",\"#3b4dc1\",\"#3c4fc3\",\"#3e51c4\",\"#3f53c6\",\"#4054c7\",\"#4156c9\",\"#4258ca\",\"#435acc\",\"#455bcd\",\"#465dcf\",\"#475fd0\",\"#4860d1\",\"#4962d3\",\"#4b64d4\",\"#4c66d6\",\"#4d67d7\",\"#4e69d8\",\"#506bda\",\"#516cdb\",\"#526edc\",\"#5370dd\",\"#5571de\",\"#5673e0\",\"#5775e1\",\"#5876e2\",\"#5a78e3\",\"#5b79e4\",\"#5c7be5\",\"#5d7de6\",\"#5f7ee7\",\"#6080e8\",\"#6182ea\",\"#6383ea\",\"#6485eb\",\"#6586ec\",\"#6788ed\",\"#6889ee\",\"#698bef\",\"#6b8df0\",\"#6c8ef1\",\"#6d90f1\",\"#6f91f2\",\"#7093f3\",\"#7194f4\",\"#7395f4\",\"#7497f5\",\"#7598f6\",\"#779af6\",\"#789bf7\",\"#7a9df8\",\"#7b9ef8\",\"#7ca0f9\",\"#7ea1f9\",\"#7fa2fa\",\"#80a4fa\",\"#82a5fb\",\"#83a6fb\",\"#85a8fb\",\"#86a9fc\",\"#87aafc\",\"#89acfc\",\"#8aadfd\",\"#8baefd\",\"#8daffd\",\"#8eb1fd\",\"#90b2fe\",\"#91b3fe\",\"#92b4fe\",\"#94b5fe\",\"#95b7fe\",\"#97b8fe\",\"#98b9fe\",\"#99bafe\",\"#9bbbfe\",\"#9cbcfe\",\"#9dbdfe\",\"#9fbefe\",\"#a0bffe\",\"#a2c0fe\",\"#a3c1fe\",\"#a4c2fe\",\"#a6c3fd\",\"#a7c4fd\",\"#a8c5fd\",\"#aac6fd\",\"#abc7fc\",\"#acc8fc\",\"#aec9fc\",\"#afcafb\",\"#b0cbfb\",\"#b2cbfb\",\"#b3ccfa\",\"#b4cdfa\",\"#b6cef9\",\"#b7cff9\",\"#b8cff8\",\"#b9d0f8\",\"#bbd1f7\",\"#bcd1f6\",\"#bdd2f6\",\"#bed3f5\",\"#c0d3f5\",\"#c1d4f4\",\"#c2d4f3\",\"#c3d5f2\",\"#c5d5f2\",\"#c6d6f1\",\"#c7d6f0\",\"#c8d7ef\",\"#c9d7ee\",\"#cad8ee\",\"#ccd8ed\",\"#cdd9ec\",\"#ced9eb\",\"#cfd9ea\",\"#d0dae9\",\"#d1dae8\",\"#d2dae7\",\"#d3dbe6\",\"#d5dbe5\",\"#d6dbe4\",\"#d7dbe2\",\"#d8dbe1\",\"#d9dce0\",\"#dadcdf\",\"#dbdcde\",\"#dcdcdd\",\"#dddcdb\",\"#dedbda\",\"#dfdbd9\",\"#e0dad7\",\"#e1dad6\",\"#e2d9d4\",\"#e3d9d3\",\"#e4d8d1\",\"#e5d8d0\",\"#e6d7cf\",\"#e7d6cd\",\"#e7d6cc\",\"#e8d5ca\",\"#e9d4c9\",\"#ead3c7\",\"#ebd3c6\",\"#ecd2c4\",\"#ecd1c3\",\"#edd0c1\",\"#edcfc0\",\"#eecfbe\",\"#efcebc\",\"#efcdbb\",\"#f0ccb9\",\"#f1cbb8\",\"#f1cab6\",\"#f2c9b5\",\"#f2c8b3\",\"#f2c7b2\",\"#f3c6b0\",\"#f3c5af\",\"#f4c4ad\",\"#f4c3ab\",\"#f4c2aa\",\"#f5c1a8\",\"#f5c0a7\",\"#f5bfa5\",\"#f6bda4\",\"#f6bca2\",\"#f6bba0\",\"#f6ba9f\",\"#f6b99d\",\"#f6b79c\",\"#f6b69a\",\"#f7b598\",\"#f7b397\",\"#f7b295\",\"#f7b194\",\"#f7b092\",\"#f7ae91\",\"#f7ad8f\",\"#f6ab8d\",\"#f6aa8c\",\"#f6a98a\",\"#f6a789\",\"#f6a687\",\"#f6a486\",\"#f6a384\",\"#f5a182\",\"#f5a081\",\"#f59e7f\",\"#f49d7e\",\"#f49b7c\",\"#f49a7b\",\"#f39879\",\"#f39678\",\"#f39576\",\"#f29375\",\"#f29173\",\"#f19072\",\"#f18e70\",\"#f08d6f\",\"#f08b6d\",\"#ef896c\",\"#ee876a\",\"#ee8669\",\"#ed8467\",\"#ec8266\",\"#ec8064\",\"#eb7f63\",\"#ea7d61\",\"#ea7b60\",\"#e9795e\",\"#e8775d\",\"#e7755c\",\"#e6745a\",\"#e67259\",\"#e57057\",\"#e46e56\",\"#e36c54\",\"#e26a53\",\"#e16852\",\"#e06650\",\"#df644f\",\"#de624e\",\"#dd604c\",\"#dc5e4b\",\"#db5c4a\",\"#da5a48\",\"#d95847\",\"#d85646\",\"#d75444\",\"#d65243\",\"#d44f42\",\"#d34d40\",\"#d24b3f\",\"#d1493e\",\"#cf463d\",\"#ce443c\",\"#cd423a\",\"#cc3f39\",\"#ca3d38\",\"#c93b37\",\"#c83835\",\"#c63534\",\"#c53233\",\"#c43032\",\"#c22d31\",\"#c12a30\",\"#bf282e\",\"#be232d\",\"#bc1f2c\",\"#bb1a2b\",\"#b9162a\",\"#b81129\",\"#b60d28\",\"#b50827\",\"#b30326\"]},\"id\":\"8870\",\"type\":\"LinearColorMapper\"},{\"attributes\":{},\"id\":\"8880\",\"type\":\"BasicTicker\"},{\"attributes\":{},\"id\":\"8886\",\"type\":\"BasicTickFormatter\"},{\"attributes\":{},\"id\":\"8850\",\"type\":\"BasicTicker\"},{\"attributes\":{\"coordinates\":null,\"group\":null,\"text\":\"Daily HeatMap by Hour\",\"text_color\":\"black\",\"text_font_size\":\"12pt\"},\"id\":\"8841\",\"type\":\"Title\"},{\"attributes\":{\"bar_line_color\":\"black\",\"color_mapper\":{\"id\":\"8870\"},\"coordinates\":null,\"group\":null,\"label_standoff\":8,\"location\":[0,0],\"major_label_policy\":{\"id\":\"8892\"},\"major_tick_line_color\":\"black\",\"ticker\":{\"id\":\"8880\"}},\"id\":\"8881\",\"type\":\"ColorBar\"},{\"attributes\":{\"data\":{\"Search_Trends\":[\"86.905\",\"94.918\",\"92.48\",\"91.405\",\"89.805\",\"84.455\",\"78.327\",\"81.968\",\"90.178\",\"88.45\",\"87.191\",\"85.827\",\"81.491\",\"75.814\",\"74.477\",\"80.68\",\"79.259\",\"78.364\",\"77.323\",\"74.582\",\"70.241\",\"60.727\",\"63.539\",\"62.941\",\"62.218\",\"61.864\",\"62.064\",\"60.2\",\"42.368\",\"43.329\",\"42.927\",\"42.718\",\"43.027\",\"45.459\",\"46.05\",\"25.295\",\"25.027\",\"24.786\",\"24.941\",\"25.309\",\"28.645\",\"30.755\",\"13.377\",\"13.224\",\"13.095\",\"13.241\",\"13.55\",\"16.441\",\"18.255\",\"7.6727\",\"7.6438\",\"7.5455\",\"7.7091\",\"7.9273\",\"9.6136\",\"10.468\",\"5.5727\",\"5.9361\",\"5.8909\",\"5.9636\",\"6.1455\",\"6.7682\",\"6.7591\",\"6.7955\",\"7.7808\",\"7.8591\",\"7.9364\",\"8.0909\",\"7.2591\",\"5.9955\",\"12.023\",\"14.014\",\"14.25\",\"14.25\",\"14.409\",\"11.686\",\"8.3682\",\"22.2\",\"24.927\",\"25.214\",\"25.264\",\"25.182\",\"20.35\",\"14.691\",\"34.059\",\"36.379\",\"36.786\",\"36.668\",\"36.591\",\"30.505\",\"23.373\",\"43.036\",\"44.251\",\"44.786\",\"44.527\",\"44.373\",\"38.968\",\"31.786\",\"50.109\",\"50.557\",\"50.95\",\"50.414\",\"50.036\",\"44.491\",\"38.268\",\"54.568\",\"54.489\",\"54.591\",\"53.886\",\"53.264\",\"47.595\",\"42.332\",\"56.595\",\"56.32\",\"56.3\",\"55.595\",\"54.564\",\"49.423\",\"44.636\",\"59.541\",\"59.009\",\"58.836\",\"58.264\",\"57.014\",\"51.105\",\"46.995\",\"61.65\",\"60.721\",\"60.791\",\"60.486\",\"59.191\",\"51.973\",\"48.868\",\"63.891\",\"62.785\",\"62.559\",\"62.5\",\"61.127\",\"53.045\",\"50.609\",\"67.527\",\"66.059\",\"65.577\",\"65.464\",\"63.159\",\"55.841\",\"54.859\",\"75.445\",\"73.689\",\"72.973\",\"71.936\",\"68.441\",\"62.15\",\"63.873\",\"87.441\",\"85.598\",\"84.336\",\"82.473\",\"77.186\",\"71.191\",\"77.073\",\"95.136\",\"93.005\",\"91.818\",\"89.514\",\"83.645\",\"77.827\",\"86.786\"],\"height\":{\"__ndarray__\":\"AAAAAAAA8D8AAAAAAADwPwAAAAAAAPA/AAAAAAAA8D8AAAAAAADwPwAAAAAAAPA/AAAAAAAA8D8AAAAAAADwPwAAAAAAAPA/AAAAAAAA8D8AAAAAAADwPwAAAAAAAPA/AAAAAAAA8D8AAAAAAADwPwAAAAAAAPA/AAAAAAAA8D8AAAAAAADwPwAAAAAAAPA/AAAAAAAA8D8AAAAAAADwPwAAAAAAAPA/AAAAAAAA8D8AAAAAAADwPwAAAAAAAPA/AAAAAAAA8D8AAAAAAADwPwAAAAAAAPA/AAAAAAAA8D8AAAAAAADwPwAAAAAAAPA/AAAAAAAA8D8AAAAAAADwPwAAAAAAAPA/AAAAAAAA8D8AAAAAAADwPwAAAAAAAPA/AAAAAAAA8D8AAAAAAADwPwAAAAAAAPA/AAAAAAAA8D8AAAAAAADwPwAAAAAAAPA/AAAAAAAA8D8AAAAAAADwPwAAAAAAAPA/AAAAAAAA8D8AAAAAAADwPwAAAAAAAPA/AAAAAAAA8D8AAAAAAADwPwAAAAAAAPA/AAAAAAAA8D8AAAAAAADwPwAAAAAAAPA/AAAAAAAA8D8AAAAAAADwPwAAAAAAAPA/AAAAAAAA8D8AAAAAAADwPwAAAAAAAPA/AAAAAAAA8D8AAAAAAADwPwAAAAAAAPA/AAAAAAAA8D8AAAAAAADwPwAAAAAAAPA/AAAAAAAA8D8AAAAAAADwPwAAAAAAAPA/AAAAAAAA8D8AAAAAAADwPwAAAAAAAPA/AAAAAAAA8D8AAAAAAADwPwAAAAAAAPA/AAAAAAAA8D8AAAAAAADwPwAAAAAAAPA/AAAAAAAA8D8AAAAAAADwPwAAAAAAAPA/AAAAAAAA8D8AAAAAAADwPwAAAAAAAPA/AAAAAAAA8D8AAAAAAADwPwAAAAAAAPA/AAAAAAAA8D8AAAAAAADwPwAAAAAAAPA/AAAAAAAA8D8AAAAAAADwPwAAAAAAAPA/AAAAAAAA8D8AAAAAAADwPwAAAAAAAPA/AAAAAAAA8D8AAAAAAADwPwAAAAAAAPA/AAAAAAAA8D8AAAAAAADwPwAAAAAAAPA/AAAAAAAA8D8AAAAAAADwPwAAAAAAAPA/AAAAAAAA8D8AAAAAAADwPwAAAAAAAPA/AAAAAAAA8D8AAAAAAADwPwAAAAAAAPA/AAAAAAAA8D8AAAAAAADwPwAAAAAAAPA/AAAAAAAA8D8AAAAAAADwPwAAAAAAAPA/AAAAAAAA8D8AAAAAAADwPwAAAAAAAPA/AAAAAAAA8D8AAAAAAADwPwAAAAAAAPA/AAAAAAAA8D8AAAAAAADwPwAAAAAAAPA/AAAAAAAA8D8AAAAAAADwPwAAAAAAAPA/AAAAAAAA8D8AAAAAAADwPwAAAAAAAPA/AAAAAAAA8D8AAAAAAADwPwAAAAAAAPA/AAAAAAAA8D8AAAAAAADwPwAAAAAAAPA/AAAAAAAA8D8AAAAAAADwPwAAAAAAAPA/AAAAAAAA8D8AAAAAAADwPwAAAAAAAPA/AAAAAAAA8D8AAAAAAADwPwAAAAAAAPA/AAAAAAAA8D8AAAAAAADwPwAAAAAAAPA/AAAAAAAA8D8AAAAAAADwPwAAAAAAAPA/AAAAAAAA8D8AAAAAAADwPwAAAAAAAPA/AAAAAAAA8D8AAAAAAADwPwAAAAAAAPA/AAAAAAAA8D8AAAAAAADwPwAAAAAAAPA/AAAAAAAA8D8AAAAAAADwPwAAAAAAAPA/AAAAAAAA8D8AAAAAAADwPwAAAAAAAPA/\",\"dtype\":\"float64\",\"order\":\"little\",\"shape\":[168]},\"index_full_stop_dayofweek\":[0,1,2,3,4,5,6,0,1,2,3,4,5,6,0,1,2,3,4,5,6,0,1,2,3,4,5,6,0,1,2,3,4,5,6,0,1,2,3,4,5,6,0,1,2,3,4,5,6,0,1,2,3,4,5,6,0,1,2,3,4,5,6,0,1,2,3,4,5,6,0,1,2,3,4,5,6,0,1,2,3,4,5,6,0,1,2,3,4,5,6,0,1,2,3,4,5,6,0,1,2,3,4,5,6,0,1,2,3,4,5,6,0,1,2,3,4,5,6,0,1,2,3,4,5,6,0,1,2,3,4,5,6,0,1,2,3,4,5,6,0,1,2,3,4,5,6,0,1,2,3,4,5,6,0,1,2,3,4,5,6,0,1,2,3,4,5,6],\"index_full_stop_hour\":[0,0,0,0,0,0,0,1,1,1,1,1,1,1,2,2,2,2,2,2,2,3,3,3,3,3,3,3,4,4,4,4,4,4,4,5,5,5,5,5,5,5,6,6,6,6,6,6,6,7,7,7,7,7,7,7,8,8,8,8,8,8,8,9,9,9,9,9,9,9,10,10,10,10,10,10,10,11,11,11,11,11,11,11,12,12,12,12,12,12,12,13,13,13,13,13,13,13,14,14,14,14,14,14,14,15,15,15,15,15,15,15,16,16,16,16,16,16,16,17,17,17,17,17,17,17,18,18,18,18,18,18,18,19,19,19,19,19,19,19,20,20,20,20,20,20,20,21,21,21,21,21,21,21,22,22,22,22,22,22,22,23,23,23,23,23,23,23],\"width\":{\"__ndarray__\":\"AAAAAAAA8D8AAAAAAADwPwAAAAAAAPA/AAAAAAAA8D8AAAAAAADwPwAAAAAAAPA/AAAAAAAA8D8AAAAAAADwPwAAAAAAAPA/AAAAAAAA8D8AAAAAAADwPwAAAAAAAPA/AAAAAAAA8D8AAAAAAADwPwAAAAAAAPA/AAAAAAAA8D8AAAAAAADwPwAAAAAAAPA/AAAAAAAA8D8AAAAAAADwPwAAAAAAAPA/AAAAAAAA8D8AAAAAAADwPwAAAAAAAPA/AAAAAAAA8D8AAAAAAADwPwAAAAAAAPA/AAAAAAAA8D8AAAAAAADwPwAAAAAAAPA/AAAAAAAA8D8AAAAAAADwPwAAAAAAAPA/AAAAAAAA8D8AAAAAAADwPwAAAAAAAPA/AAAAAAAA8D8AAAAAAADwPwAAAAAAAPA/AAAAAAAA8D8AAAAAAADwPwAAAAAAAPA/AAAAAAAA8D8AAAAAAADwPwAAAAAAAPA/AAAAAAAA8D8AAAAAAADwPwAAAAAAAPA/AAAAAAAA8D8AAAAAAADwPwAAAAAAAPA/AAAAAAAA8D8AAAAAAADwPwAAAAAAAPA/AAAAAAAA8D8AAAAAAADwPwAAAAAAAPA/AAAAAAAA8D8AAAAAAADwPwAAAAAAAPA/AAAAAAAA8D8AAAAAAADwPwAAAAAAAPA/AAAAAAAA8D8AAAAAAADwPwAAAAAAAPA/AAAAAAAA8D8AAAAAAADwPwAAAAAAAPA/AAAAAAAA8D8AAAAAAADwPwAAAAAAAPA/AAAAAAAA8D8AAAAAAADwPwAAAAAAAPA/AAAAAAAA8D8AAAAAAADwPwAAAAAAAPA/AAAAAAAA8D8AAAAAAADwPwAAAAAAAPA/AAAAAAAA8D8AAAAAAADwPwAAAAAAAPA/AAAAAAAA8D8AAAAAAADwPwAAAAAAAPA/AAAAAAAA8D8AAAAAAADwPwAAAAAAAPA/AAAAAAAA8D8AAAAAAADwPwAAAAAAAPA/AAAAAAAA8D8AAAAAAADwPwAAAAAAAPA/AAAAAAAA8D8AAAAAAADwPwAAAAAAAPA/AAAAAAAA8D8AAAAAAADwPwAAAAAAAPA/AAAAAAAA8D8AAAAAAADwPwAAAAAAAPA/AAAAAAAA8D8AAAAAAADwPwAAAAAAAPA/AAAAAAAA8D8AAAAAAADwPwAAAAAAAPA/AAAAAAAA8D8AAAAAAADwPwAAAAAAAPA/AAAAAAAA8D8AAAAAAADwPwAAAAAAAPA/AAAAAAAA8D8AAAAAAADwPwAAAAAAAPA/AAAAAAAA8D8AAAAAAADwPwAAAAAAAPA/AAAAAAAA8D8AAAAAAADwPwAAAAAAAPA/AAAAAAAA8D8AAAAAAADwPwAAAAAAAPA/AAAAAAAA8D8AAAAAAADwPwAAAAAAAPA/AAAAAAAA8D8AAAAAAADwPwAAAAAAAPA/AAAAAAAA8D8AAAAAAADwPwAAAAAAAPA/AAAAAAAA8D8AAAAAAADwPwAAAAAAAPA/AAAAAAAA8D8AAAAAAADwPwAAAAAAAPA/AAAAAAAA8D8AAAAAAADwPwAAAAAAAPA/AAAAAAAA8D8AAAAAAADwPwAAAAAAAPA/AAAAAAAA8D8AAAAAAADwPwAAAAAAAPA/AAAAAAAA8D8AAAAAAADwPwAAAAAAAPA/AAAAAAAA8D8AAAAAAADwPwAAAAAAAPA/AAAAAAAA8D8AAAAAAADwPwAAAAAAAPA/AAAAAAAA8D8AAAAAAADwPwAAAAAAAPA/AAAAAAAA8D8AAAAAAADwPwAAAAAAAPA/\",\"dtype\":\"float64\",\"order\":\"little\",\"shape\":[168]},\"zvalues\":{\"__ndarray__\":\"KkGeEuS5VUCsV69evbpXQGSynmOyHldAKkGeEuTZVkDD2jesfXNWQF100UUXHVVAlSBPCfKUU0AOa9+w9n1UQLZs2bJli1ZAzczMzMwcVkCsfcPaN8xVQJUgTwnydFVA37D2DWtfVEDkKUGeEvRSQC+66KKLnlJAucbiGosrVEAhTwnylNBTQBdddNFFl1NABXlKkKdUU0AlyFOCPKVSQN+w9g1rj1FAXXTRRRddTkBP9D3R98RPQFj7hrVveE9AHNa+Ye0bT0Avuuiii+5OQMhTgjwlCE9AmpmZmZkZTkBPCfKUIC9FQKFChQoVqkVA9w1r37B2RUAc1r5h7VtFQMPaN6x9g0VA2zesfcO6RkBmZmZmZgZHQIwuuuiiSzlAcODAgQMHOUAJ8pQgT8k4QLH2DWvf8DhATwnylCBPOUAlyFOCPKU8QEGeEuQpwT5AQZ4S5CnBKkApp6OcjnIqQLH2DWvfMCpA+4a1b1h7KkCamZmZmRkrQLH2DWvfcDBAQZ4S5ClBMkCx9g1r37AeQDVp0qRJkx5AL7rooosuHkDWvmHtG9YeQLZvWPuGtR9Auuiiiy46I0BwWPuGte8kQEqQpwR5ShZA6Xui74m+F0CQpwR5SpAXQNs3rH3D2hdAlSBPCfKUGEAT5ClBnhIbQAnylCBPCRtAL7rooosuG0D58ePHjx8fQHBY+4a1bx9Av2HtG9a+H0Avuuiiiy4gQAnylCBPCR1A+4a1b1j7F0CMLrroogsoQHDgwIEDByxAAAAAAACALEAAAAAAAIAsQNFFF1100SxA37D2DWtfJ0A9JchTgrwgQDMzMzMzMzZA1f5S+0vtOED3DWvfsDY5QMPaN6x9QzlAL7rooosuOUCamZmZmVk0QGLtG9a+YS1AqAR5SpAHQUAIuyDsgjBCQAV5SpCnZEJAtm9Y+4ZVQkCMLrrooktCQEGeEuQpgT5A37D2DWtfN0AFeUqQp4RFQAJaCWglIEZABXlKkKdkRkDD2jesfUNGQHBY+4a1L0ZAHNa+Ye17Q0AJ8pQgT8k/QA5r37D2DUlAdZTTUU5HSUCamZmZmXlJQJUgTwnyNElABXlKkKcESUC/Ye0b1j5GQII8JchTIkNA6aKLLrpIS0Dpe6LviT5LQIwuuuiiS0tA0UUXXXTxSkBi7RvWvqFKQKx9w9o3zEdASpCnBHkqRUCsfcPaN0xMQI9yOsrpKExAZmZmZmYmTECsfcPaN8xLQMhTgjwlSEtA1r5h7Ru2SEDRRRdddFFGQCXIU4I8xU1AE9BKQCuBTUBr37D2DWtNQGLtG9a+IU1AYu0b1r6BTEDtG9a+YY1JQN+w9g1rf0dAMzMzMzPTTkDGNRbXWFxOQCXIU4I8ZU5AnhLkKUE+TkBY+4a1b5hNQD0lyFOC/ElATwnylCBvSEDylCBPCfJPQEjmIZmHZE9AqAR5SpBHT0AAAAAAAEBPQJCnBHlKkE5ARhdddNGFSkAOa9+w9k1JQGLtG9a+4VBAPSTzkMyDUECVIE8J8mRQQH7D2jesXVBAdNFFF12UT0CMLrrooutLQA5r37D2bUtAPSXIU4LcUkDCLgi7IGxSQJ4S5ClBPlJAHNa+Ye37UUCsfcPaNxxRQDMzMzMzE09AcFj7hrXvT0CsfcPaN9xVQGUeknlIZlVAtm9Y+4YVVUCeEuQpQZ5UQBzWvmHtS1NArH3D2jfMUUAFeUqQp0RTQOmiiy66yFdABbQS0EpAV0B00UUXXfRWQLH2DWvfYFZACfKUIE/pVECVIE8J8nRTQII8JchTslVA\",\"dtype\":\"float64\",\"order\":\"little\",\"shape\":[168]}},\"selected\":{\"id\":\"8872\"},\"selection_policy\":{\"id\":\"8896\"}},\"id\":\"8871\",\"type\":\"ColumnDataSource\"},{\"attributes\":{\"tools\":[{\"id\":\"8839\"},{\"id\":\"8857\"},{\"id\":\"8858\"},{\"id\":\"8859\"},{\"id\":\"8860\"},{\"id\":\"8861\"}]},\"id\":\"8863\",\"type\":\"Toolbar\"},{\"attributes\":{\"bottom_units\":\"screen\",\"coordinates\":null,\"fill_alpha\":0.5,\"fill_color\":\"lightgrey\",\"group\":null,\"left_units\":\"screen\",\"level\":\"overlay\",\"line_alpha\":1.0,\"line_color\":\"black\",\"line_dash\":[4,4],\"line_width\":2,\"right_units\":\"screen\",\"syncable\":false,\"top_units\":\"screen\"},\"id\":\"8862\",\"type\":\"BoxAnnotation\"},{\"attributes\":{},\"id\":\"8857\",\"type\":\"SaveTool\"},{\"attributes\":{\"children\":[{\"id\":\"8836\"},{\"id\":\"8840\"},{\"id\":\"8910\"}],\"margin\":[0,0,0,0],\"name\":\"Row13316\",\"tags\":[\"embedded\"]},\"id\":\"8835\",\"type\":\"Row\"},{\"attributes\":{\"end\":23.5,\"reset_end\":23.5,\"reset_start\":-0.5,\"start\":-0.5,\"tags\":[[[\"index.hour\",\"index.hour\",null]]]},\"id\":\"8837\",\"type\":\"Range1d\"},{\"attributes\":{},\"id\":\"8858\",\"type\":\"PanTool\"},{\"attributes\":{},\"id\":\"8887\",\"type\":\"AllLabels\"},{\"attributes\":{},\"id\":\"8861\",\"type\":\"ResetTool\"},{\"attributes\":{},\"id\":\"8883\",\"type\":\"BasicTickFormatter\"},{\"attributes\":{},\"id\":\"8859\",\"type\":\"WheelZoomTool\"},{\"attributes\":{},\"id\":\"8892\",\"type\":\"NoOverlap\"},{\"attributes\":{\"overlay\":{\"id\":\"8862\"}},\"id\":\"8860\",\"type\":\"BoxZoomTool\"},{\"attributes\":{},\"id\":\"8872\",\"type\":\"Selection\"},{\"attributes\":{\"fill_color\":{\"field\":\"zvalues\",\"transform\":{\"id\":\"8870\"}},\"height\":{\"field\":\"height\"},\"line_alpha\":{\"value\":0},\"line_color\":{\"value\":\"#1f77b4\"},\"width\":{\"field\":\"width\"},\"x\":{\"field\":\"index_full_stop_hour\"},\"y\":{\"field\":\"index_full_stop_dayofweek\"}},\"id\":\"8876\",\"type\":\"Rect\"},{\"attributes\":{},\"id\":\"8845\",\"type\":\"LinearScale\"},{\"attributes\":{\"callback\":null,\"renderers\":[{\"id\":\"8878\"}],\"tags\":[\"hv_created\"],\"tooltips\":[[\"index.hour\",\"@{index_full_stop_hour}\"],[\"index.dayofweek\",\"@{index_full_stop_dayofweek}\"],[\"Search Trends\",\"@{Search_Trends}\"]]},\"id\":\"8839\",\"type\":\"HoverTool\"},{\"attributes\":{},\"id\":\"8884\",\"type\":\"AllLabels\"},{\"attributes\":{\"axis_label\":\"index.dayofweek\",\"coordinates\":null,\"formatter\":{\"id\":\"8886\"},\"group\":null,\"major_label_policy\":{\"id\":\"8887\"},\"ticker\":{\"id\":\"8854\"}},\"id\":\"8853\",\"type\":\"LinearAxis\"},{\"attributes\":{\"margin\":[5,5,5,5],\"name\":\"HSpacer13320\",\"sizing_mode\":\"stretch_width\"},\"id\":\"8836\",\"type\":\"Spacer\"},{\"attributes\":{\"coordinates\":null,\"data_source\":{\"id\":\"8871\"},\"glyph\":{\"id\":\"8874\"},\"group\":null,\"hover_glyph\":null,\"muted_glyph\":{\"id\":\"8877\"},\"nonselection_glyph\":{\"id\":\"8875\"},\"selection_glyph\":{\"id\":\"8876\"},\"view\":{\"id\":\"8879\"}},\"id\":\"8878\",\"type\":\"GlyphRenderer\"},{\"attributes\":{\"axis\":{\"id\":\"8849\"},\"coordinates\":null,\"grid_line_color\":null,\"group\":null,\"ticker\":null},\"id\":\"8852\",\"type\":\"Grid\"},{\"attributes\":{\"end\":6.5,\"reset_end\":6.5,\"reset_start\":-0.5,\"start\":-0.5,\"tags\":[[[\"index.dayofweek\",\"index.dayofweek\",null]]]},\"id\":\"8838\",\"type\":\"Range1d\"},{\"attributes\":{\"fill_alpha\":{\"value\":0.2},\"fill_color\":{\"field\":\"zvalues\",\"transform\":{\"id\":\"8870\"}},\"hatch_alpha\":{\"value\":0.2},\"height\":{\"field\":\"height\"},\"line_alpha\":{\"value\":0},\"line_color\":{\"value\":\"#1f77b4\"},\"width\":{\"field\":\"width\"},\"x\":{\"field\":\"index_full_stop_hour\"},\"y\":{\"field\":\"index_full_stop_dayofweek\"}},\"id\":\"8877\",\"type\":\"Rect\"},{\"attributes\":{\"margin\":[5,5,5,5],\"name\":\"HSpacer13321\",\"sizing_mode\":\"stretch_width\"},\"id\":\"8910\",\"type\":\"Spacer\"},{\"attributes\":{},\"id\":\"8847\",\"type\":\"LinearScale\"},{\"attributes\":{\"below\":[{\"id\":\"8849\"}],\"center\":[{\"id\":\"8852\"},{\"id\":\"8856\"}],\"height\":300,\"left\":[{\"id\":\"8853\"}],\"margin\":[5,5,5,5],\"min_border_bottom\":10,\"min_border_left\":10,\"min_border_right\":10,\"min_border_top\":10,\"renderers\":[{\"id\":\"8878\"}],\"right\":[{\"id\":\"8881\"}],\"sizing_mode\":\"fixed\",\"title\":{\"id\":\"8841\"},\"toolbar\":{\"id\":\"8863\"},\"width\":700,\"x_range\":{\"id\":\"8837\"},\"x_scale\":{\"id\":\"8845\"},\"y_range\":{\"id\":\"8838\"},\"y_scale\":{\"id\":\"8847\"}},\"id\":\"8840\",\"subtype\":\"Figure\",\"type\":\"Plot\"},{\"attributes\":{\"fill_color\":{\"field\":\"zvalues\",\"transform\":{\"id\":\"8870\"}},\"height\":{\"field\":\"height\"},\"line_alpha\":{\"value\":0},\"line_color\":{\"value\":\"#1f77b4\"},\"width\":{\"field\":\"width\"},\"x\":{\"field\":\"index_full_stop_hour\"},\"y\":{\"field\":\"index_full_stop_dayofweek\"}},\"id\":\"8874\",\"type\":\"Rect\"},{\"attributes\":{\"axis_label\":\"index.hour\",\"coordinates\":null,\"formatter\":{\"id\":\"8883\"},\"group\":null,\"major_label_policy\":{\"id\":\"8884\"},\"ticker\":{\"id\":\"8850\"}},\"id\":\"8849\",\"type\":\"LinearAxis\"},{\"attributes\":{\"fill_alpha\":{\"value\":0.1},\"fill_color\":{\"field\":\"zvalues\",\"transform\":{\"id\":\"8870\"}},\"hatch_alpha\":{\"value\":0.1},\"height\":{\"field\":\"height\"},\"line_alpha\":{\"value\":0},\"line_color\":{\"value\":\"#1f77b4\"},\"width\":{\"field\":\"width\"},\"x\":{\"field\":\"index_full_stop_hour\"},\"y\":{\"field\":\"index_full_stop_dayofweek\"}},\"id\":\"8875\",\"type\":\"Rect\"},{\"attributes\":{},\"id\":\"8896\",\"type\":\"UnionRenderers\"}],\"root_ids\":[\"8835\"]},\"title\":\"Bokeh Application\",\"version\":\"2.4.2\"}};\n",
       "    var render_items = [{\"docid\":\"e8186869-e2ea-4fa8-be4a-f9772b25ba60\",\"root_ids\":[\"8835\"],\"roots\":{\"8835\":\"aff3d2fd-a360-4ff3-bb3f-bcd56617d068\"}}];\n",
       "    root.Bokeh.embed.embed_items_notebook(docs_json, render_items);\n",
       "  }\n",
       "  if (root.Bokeh !== undefined && root.Bokeh.Panel !== undefined) {\n",
       "    embed_document(root);\n",
       "  } else {\n",
       "    var attempts = 0;\n",
       "    var timer = setInterval(function(root) {\n",
       "      if (root.Bokeh !== undefined && root.Bokeh.Panel !== undefined) {\n",
       "        clearInterval(timer);\n",
       "        embed_document(root);\n",
       "      } else if (document.readyState == \"complete\") {\n",
       "        attempts++;\n",
       "        if (attempts > 200) {\n",
       "          clearInterval(timer);\n",
       "          console.log(\"Bokeh: ERROR: Unable to run BokehJS code because BokehJS library is missing\");\n",
       "        }\n",
       "      }\n",
       "    }, 25, root)\n",
       "  }\n",
       "})(window);</script>"
      ],
      "text/plain": [
       ":HeatMap   [index.hour,index.dayofweek]   (Search Trends)"
      ]
     },
     "execution_count": 176,
     "metadata": {
      "application/vnd.holoviews_exec.v0+json": {
       "id": "8835"
      }
     },
     "output_type": "execute_result"
    }
   ],
   "source": [
    "# Plot a heat map with the hour as X and the Day of week as Y\n",
    "meli_search_df.hvplot.heatmap(\n",
    "    title = 'Daily HeatMap by Hour',\n",
    "    x='index.hour',\n",
    "    y='index.dayofweek',\n",
    "    C= 'Search Trends',\n",
    "    cmap= 'coolwarm'\n",
    ").aggregate(function=np.mean)"
   ]
  },
  {
   "cell_type": "markdown",
   "metadata": {},
   "source": [
    "### Peak Search Traffic Hours: 0:00-1:00 UTC , 22:00-23:00 UTC\n",
    "### Peak Search Traffic Days of Week: Monday-Friday, with the best day being Tuesday"
   ]
  },
  {
   "cell_type": "code",
   "execution_count": 240,
   "metadata": {},
   "outputs": [
    {
     "data": {
      "text/html": [
       "<div>\n",
       "<style scoped>\n",
       "    .dataframe tbody tr th:only-of-type {\n",
       "        vertical-align: middle;\n",
       "    }\n",
       "\n",
       "    .dataframe tbody tr th {\n",
       "        vertical-align: top;\n",
       "    }\n",
       "\n",
       "    .dataframe thead th {\n",
       "        text-align: right;\n",
       "    }\n",
       "</style>\n",
       "<table border=\"1\" class=\"dataframe\">\n",
       "  <thead>\n",
       "    <tr style=\"text-align: right;\">\n",
       "      <th></th>\n",
       "      <th>Search Trends</th>\n",
       "    </tr>\n",
       "  </thead>\n",
       "  <tbody>\n",
       "    <tr>\n",
       "      <th>12:00am</th>\n",
       "      <td>88.325974</td>\n",
       "    </tr>\n",
       "    <tr>\n",
       "      <th>1:00am</th>\n",
       "      <td>84.413255</td>\n",
       "    </tr>\n",
       "    <tr>\n",
       "      <th>2:00am</th>\n",
       "      <td>76.415205</td>\n",
       "    </tr>\n",
       "    <tr>\n",
       "      <th>3:00am</th>\n",
       "      <td>61.935023</td>\n",
       "    </tr>\n",
       "    <tr>\n",
       "      <th>4:00am</th>\n",
       "      <td>43.697206</td>\n",
       "    </tr>\n",
       "    <tr>\n",
       "      <th>5:00am</th>\n",
       "      <td>26.395062</td>\n",
       "    </tr>\n",
       "    <tr>\n",
       "      <th>6:00am</th>\n",
       "      <td>14.455491</td>\n",
       "    </tr>\n",
       "    <tr>\n",
       "      <th>7:00am</th>\n",
       "      <td>8.369071</td>\n",
       "    </tr>\n",
       "    <tr>\n",
       "      <th>8:00am</th>\n",
       "      <td>6.148148</td>\n",
       "    </tr>\n",
       "    <tr>\n",
       "      <th>9:00am</th>\n",
       "      <td>7.387914</td>\n",
       "    </tr>\n",
       "    <tr>\n",
       "      <th>10:00am</th>\n",
       "      <td>12.713450</td>\n",
       "    </tr>\n",
       "    <tr>\n",
       "      <th>11:00am</th>\n",
       "      <td>22.545159</td>\n",
       "    </tr>\n",
       "    <tr>\n",
       "      <th>12:00pm</th>\n",
       "      <td>33.478233</td>\n",
       "    </tr>\n",
       "    <tr>\n",
       "      <th>1:00pm</th>\n",
       "      <td>41.673814</td>\n",
       "    </tr>\n",
       "    <tr>\n",
       "      <th>2:00pm</th>\n",
       "      <td>47.830409</td>\n",
       "    </tr>\n",
       "    <tr>\n",
       "      <th>3:00pm</th>\n",
       "      <td>51.530214</td>\n",
       "    </tr>\n",
       "    <tr>\n",
       "      <th>4:00pm</th>\n",
       "      <td>53.345679</td>\n",
       "    </tr>\n",
       "    <tr>\n",
       "      <th>5:00pm</th>\n",
       "      <td>55.821313</td>\n",
       "    </tr>\n",
       "    <tr>\n",
       "      <th>6:00pm</th>\n",
       "      <td>57.666667</td>\n",
       "    </tr>\n",
       "    <tr>\n",
       "      <th>7:00pm</th>\n",
       "      <td>59.500325</td>\n",
       "    </tr>\n",
       "    <tr>\n",
       "      <th>8:00pm</th>\n",
       "      <td>62.638726</td>\n",
       "    </tr>\n",
       "    <tr>\n",
       "      <th>9:00pm</th>\n",
       "      <td>69.784276</td>\n",
       "    </tr>\n",
       "    <tr>\n",
       "      <th>10:00pm</th>\n",
       "      <td>80.753736</td>\n",
       "    </tr>\n",
       "    <tr>\n",
       "      <th>11:00pm</th>\n",
       "      <td>88.244314</td>\n",
       "    </tr>\n",
       "  </tbody>\n",
       "</table>\n",
       "</div>"
      ],
      "text/plain": [
       "         Search Trends\n",
       "12:00am      88.325974\n",
       "1:00am       84.413255\n",
       "2:00am       76.415205\n",
       "3:00am       61.935023\n",
       "4:00am       43.697206\n",
       "5:00am       26.395062\n",
       "6:00am       14.455491\n",
       "7:00am        8.369071\n",
       "8:00am        6.148148\n",
       "9:00am        7.387914\n",
       "10:00am      12.713450\n",
       "11:00am      22.545159\n",
       "12:00pm      33.478233\n",
       "1:00pm       41.673814\n",
       "2:00pm       47.830409\n",
       "3:00pm       51.530214\n",
       "4:00pm       53.345679\n",
       "5:00pm       55.821313\n",
       "6:00pm       57.666667\n",
       "7:00pm       59.500325\n",
       "8:00pm       62.638726\n",
       "9:00pm       69.784276\n",
       "10:00pm      80.753736\n",
       "11:00pm      88.244314"
      ]
     },
     "execution_count": 240,
     "metadata": {},
     "output_type": "execute_result"
    }
   ],
   "source": [
    "copy_df = meli_search_df.groupby(meli_search_df.index.hour).mean()\n",
    "index_list = copy_df.index.to_list()\n",
    "index_list = index_list[4:]\n",
    "for x in range(1,4):\n",
    "    index_list.append(x)\n",
    "index_list\n",
    "time_as_str = []\n",
    "am_pm_str = ''\n",
    "for ix in index_list:\n",
    "    if ix < 16: \n",
    "        am_pm_str = 'am'\n",
    "        if ix== 4:\n",
    "            time_as_str.append(f'12:00{am_pm_str}')\n",
    "        else:\n",
    "            time = ix-4\n",
    "            time_as_str.append(f'{time}:00{am_pm_str}')\n",
    "    elif ix >= 16:\n",
    "        am_pm_str = 'pm'\n",
    "        if ix == 16:\n",
    "            time_as_str.append(f'12:00{am_pm_str}')\n",
    "        else:\n",
    "            time = ix-16\n",
    "            time_as_str.append(f'{time}:00{am_pm_str}')\n",
    "\n",
    "time_as_str = time_as_str[:-3]\n",
    "for x in range(8,12):\n",
    "    time_as_str.append(f'{x}:00pm')\n",
    "copy_df.index = time_as_str\n",
    "copy_df\n"
   ]
  },
  {
   "cell_type": "code",
   "execution_count": 241,
   "metadata": {},
   "outputs": [
    {
     "data": {},
     "metadata": {},
     "output_type": "display_data"
    },
    {
     "data": {
      "application/vnd.holoviews_exec.v0+json": "",
      "text/html": [
       "<div id='10715'>\n",
       "\n",
       "\n",
       "\n",
       "\n",
       "\n",
       "  <div class=\"bk-root\" id=\"8ec40d67-ee79-4292-a9ed-8436c7a7c9ca\" data-root-id=\"10715\"></div>\n",
       "</div>\n",
       "<script type=\"application/javascript\">(function(root) {\n",
       "  function embed_document(root) {\n",
       "    var docs_json = {\"44add5e1-7060-449d-99a0-872e215f092a\":{\"defs\":[{\"extends\":null,\"module\":null,\"name\":\"ReactiveHTML1\",\"overrides\":[],\"properties\":[]},{\"extends\":null,\"module\":null,\"name\":\"FlexBox1\",\"overrides\":[],\"properties\":[{\"default\":\"flex-start\",\"kind\":null,\"name\":\"align_content\"},{\"default\":\"flex-start\",\"kind\":null,\"name\":\"align_items\"},{\"default\":\"row\",\"kind\":null,\"name\":\"flex_direction\"},{\"default\":\"wrap\",\"kind\":null,\"name\":\"flex_wrap\"},{\"default\":\"flex-start\",\"kind\":null,\"name\":\"justify_content\"}]},{\"extends\":null,\"module\":null,\"name\":\"TemplateActions1\",\"overrides\":[],\"properties\":[{\"default\":0,\"kind\":null,\"name\":\"open_modal\"},{\"default\":0,\"kind\":null,\"name\":\"close_modal\"}]},{\"extends\":null,\"module\":null,\"name\":\"MaterialTemplateActions1\",\"overrides\":[],\"properties\":[{\"default\":0,\"kind\":null,\"name\":\"open_modal\"},{\"default\":0,\"kind\":null,\"name\":\"close_modal\"}]}],\"roots\":{\"references\":[{\"attributes\":{\"tools\":[{\"id\":\"10719\"},{\"id\":\"10736\"},{\"id\":\"10737\"},{\"id\":\"10738\"},{\"id\":\"10739\"},{\"id\":\"10740\"}]},\"id\":\"10742\",\"type\":\"Toolbar\"},{\"attributes\":{},\"id\":\"10727\",\"type\":\"LinearScale\"},{\"attributes\":{},\"id\":\"10733\",\"type\":\"BasicTicker\"},{\"attributes\":{},\"id\":\"10730\",\"type\":\"CategoricalTicker\"},{\"attributes\":{\"bottom_units\":\"screen\",\"coordinates\":null,\"fill_alpha\":0.5,\"fill_color\":\"lightgrey\",\"group\":null,\"left_units\":\"screen\",\"level\":\"overlay\",\"line_alpha\":1.0,\"line_color\":\"black\",\"line_dash\":[4,4],\"line_width\":2,\"right_units\":\"screen\",\"syncable\":false,\"top_units\":\"screen\"},\"id\":\"10741\",\"type\":\"BoxAnnotation\"},{\"attributes\":{\"axis_label\":\"Search Trends\",\"coordinates\":null,\"formatter\":{\"id\":\"10764\"},\"group\":null,\"major_label_policy\":{\"id\":\"10765\"},\"ticker\":{\"id\":\"10733\"}},\"id\":\"10732\",\"type\":\"LinearAxis\"},{\"attributes\":{},\"id\":\"10725\",\"type\":\"CategoricalScale\"},{\"attributes\":{},\"id\":\"10764\",\"type\":\"BasicTickFormatter\"},{\"attributes\":{\"axis\":{\"id\":\"10732\"},\"coordinates\":null,\"dimension\":1,\"grid_line_color\":null,\"group\":null,\"ticker\":null},\"id\":\"10735\",\"type\":\"Grid\"},{\"attributes\":{},\"id\":\"10765\",\"type\":\"AllLabels\"},{\"attributes\":{\"callback\":null,\"renderers\":[{\"id\":\"10758\"}],\"tags\":[\"hv_created\"],\"tooltips\":[[\"index\",\"@{index}\"],[\"Search Trends\",\"@{Search_Trends}\"]]},\"id\":\"10719\",\"type\":\"HoverTool\"},{\"attributes\":{\"fill_color\":{\"field\":\"color\",\"transform\":{\"id\":\"10749\"}},\"hatch_color\":{\"field\":\"color\",\"transform\":{\"id\":\"10749\"}},\"top\":{\"field\":\"Search_Trends\"},\"width\":{\"value\":0.8},\"x\":{\"field\":\"index\"}},\"id\":\"10755\",\"type\":\"VBar\"},{\"attributes\":{\"margin\":[5,5,5,5],\"name\":\"HSpacer15968\",\"sizing_mode\":\"stretch_width\"},\"id\":\"10716\",\"type\":\"Spacer\"},{\"attributes\":{\"below\":[{\"id\":\"10729\"}],\"center\":[{\"id\":\"10731\"},{\"id\":\"10735\"}],\"height\":300,\"left\":[{\"id\":\"10732\"}],\"margin\":[5,5,5,5],\"min_border_bottom\":10,\"min_border_left\":10,\"min_border_right\":10,\"min_border_top\":10,\"renderers\":[{\"id\":\"10758\"}],\"sizing_mode\":\"fixed\",\"title\":{\"id\":\"10721\"},\"toolbar\":{\"id\":\"10742\"},\"width\":700,\"x_range\":{\"id\":\"10717\"},\"x_scale\":{\"id\":\"10725\"},\"y_range\":{\"id\":\"10718\"},\"y_scale\":{\"id\":\"10727\"}},\"id\":\"10720\",\"subtype\":\"Figure\",\"type\":\"Plot\"},{\"attributes\":{\"margin\":[5,5,5,5],\"name\":\"HSpacer15969\",\"sizing_mode\":\"stretch_width\"},\"id\":\"10786\",\"type\":\"Spacer\"},{\"attributes\":{\"coordinates\":null,\"group\":null,\"text\":\"Hourly Search Traffic Average\",\"text_color\":\"black\",\"text_font_size\":\"12pt\"},\"id\":\"10721\",\"type\":\"Title\"},{\"attributes\":{\"high\":88.32597402597402,\"low\":6.148148148148148,\"palette\":[\"#892889\",\"#892889\",\"#872b8b\",\"#852e8d\",\"#83318f\",\"#813491\",\"#803793\",\"#7e3a95\",\"#7c3d97\",\"#7a4099\",\"#79449b\",\"#77479d\",\"#754a9f\",\"#734da1\",\"#7150a3\",\"#7053a5\",\"#6e56a7\",\"#6c59a9\",\"#6a5cab\",\"#6960ae\",\"#6763b0\",\"#6566b2\",\"#6369b4\",\"#616cb6\",\"#606fb8\",\"#5e72ba\",\"#5c75bc\",\"#5a78be\",\"#597cc0\",\"#577fc2\",\"#5582c4\",\"#5385c6\",\"#5188c8\",\"#508bca\",\"#4e8ecc\",\"#4c91ce\",\"#4a94d0\",\"#4998d3\",\"#4698d1\",\"#4499d0\",\"#4299cf\",\"#409ace\",\"#3e9acd\",\"#3c9bcc\",\"#3a9bcb\",\"#389cca\",\"#369cc9\",\"#349dc8\",\"#329dc7\",\"#309ec6\",\"#2e9ec5\",\"#2c9fc4\",\"#2a9fc3\",\"#28a0c2\",\"#26a0c1\",\"#24a1c0\",\"#22a1bf\",\"#20a2be\",\"#1ea2bd\",\"#1ca3bc\",\"#1aa3bb\",\"#18a4ba\",\"#16a4b9\",\"#14a5b8\",\"#12a5b7\",\"#10a6b6\",\"#0ea6b5\",\"#0ca7b4\",\"#0aa7b3\",\"#08a8b2\",\"#06a8b1\",\"#04a9b0\",\"#02a9af\",\"#00aaae\",\"#00aaab\",\"#01aaa9\",\"#02aaa6\",\"#03aaa4\",\"#04aba1\",\"#05ab9f\",\"#06ab9c\",\"#07ab9a\",\"#08ac97\",\"#08ac95\",\"#09ac92\",\"#09ac92\",\"#0aac90\",\"#0bac8d\",\"#0cad8b\",\"#0dad88\",\"#0ead86\",\"#0fad83\",\"#10ae81\",\"#10ae7e\",\"#11ae7c\",\"#12ae79\",\"#13ae77\",\"#14af74\",\"#15af72\",\"#16af6f\",\"#17af6d\",\"#18b06a\",\"#18b068\",\"#19b065\",\"#1ab063\",\"#1bb060\",\"#1cb15e\",\"#1db15b\",\"#1eb159\",\"#1fb156\",\"#20b254\",\"#23b253\",\"#27b352\",\"#2bb451\",\"#2eb551\",\"#32b550\",\"#36b64f\",\"#39b74e\",\"#3db84e\",\"#41b84d\",\"#44b94c\",\"#48ba4b\",\"#4cbb4b\",\"#50bb4a\",\"#53bc49\",\"#57bd48\",\"#5bbe48\",\"#5ebe47\",\"#62bf46\",\"#66c045\",\"#69c145\",\"#6dc144\",\"#71c243\",\"#74c342\",\"#78c442\",\"#7cc441\",\"#80c540\",\"#83c63f\",\"#87c73f\",\"#8bc73e\",\"#8ec83d\",\"#92c93c\",\"#96ca3c\",\"#99ca3b\",\"#9dcb3a\",\"#a1cc39\",\"#a5cd39\",\"#a7cc38\",\"#a9cb37\",\"#abca36\",\"#aec935\",\"#b0c834\",\"#b2c734\",\"#b4c633\",\"#b7c532\",\"#b9c431\",\"#bbc330\",\"#bdc22f\",\"#c0c12f\",\"#c2c02e\",\"#c4bf2d\",\"#c6be2c\",\"#c9bd2b\",\"#cbbc2a\",\"#cdbb2a\",\"#cfba29\",\"#d2b928\",\"#d4b827\",\"#d6b726\",\"#d8b625\",\"#d8b625\",\"#dbb525\",\"#ddb424\",\"#dfb323\",\"#e1b222\",\"#e4b121\",\"#e6b020\",\"#e8af20\",\"#eaae1f\",\"#edad1e\",\"#efac1d\",\"#f1ab1c\",\"#f3aa1b\",\"#f6a91b\",\"#f5a61b\",\"#f5a41b\",\"#f5a11b\",\"#f59f1b\",\"#f59c1c\",\"#f59a1c\",\"#f4981c\",\"#f4951c\",\"#f4931d\",\"#f4901d\",\"#f48e1d\",\"#f48c1d\",\"#f3891d\",\"#f3871e\",\"#f3841e\",\"#f3821e\",\"#f37f1e\",\"#f37d1f\",\"#f27b1f\",\"#f2781f\",\"#f2761f\",\"#f2731f\",\"#f27120\",\"#f26f20\",\"#f16c20\",\"#f16a20\",\"#f16721\",\"#f16521\",\"#f16221\",\"#f16021\",\"#f05e21\",\"#f05b22\",\"#f05922\",\"#f05622\",\"#f05422\",\"#f05223\",\"#ef5024\",\"#ef4e25\",\"#ef4c27\",\"#ef4b28\",\"#ef492a\",\"#ef472b\",\"#ef452d\",\"#ef442e\",\"#ee4230\",\"#ee4031\",\"#ee3e33\",\"#ee3d34\",\"#ee3b36\",\"#ee3937\",\"#ee3739\",\"#ee363a\",\"#ee343c\",\"#ed323d\",\"#ed303f\",\"#ed2f40\",\"#ed2d42\",\"#ed2b43\",\"#ed2945\",\"#ed2846\",\"#ed2648\",\"#ed2449\",\"#ec224b\",\"#ec214c\",\"#ec1f4e\",\"#ec1d4f\",\"#ec1b51\",\"#ec1a52\",\"#ec1854\",\"#ec1655\",\"#ec1557\",\"#ec1557\"]},\"id\":\"10749\",\"type\":\"LinearColorMapper\"},{\"attributes\":{\"axis_label\":\"\",\"coordinates\":null,\"formatter\":{\"id\":\"10761\"},\"group\":null,\"major_label_orientation\":1.5707963267948966,\"major_label_policy\":{\"id\":\"10762\"},\"ticker\":{\"id\":\"10730\"}},\"id\":\"10729\",\"type\":\"CategoricalAxis\"},{\"attributes\":{\"data\":{\"Search_Trends\":{\"__ndarray__\":\"2TkpwtwUVkCnsZzGchpVQKmtpLaSGlNAJgpB0673TkA/2KQLPtlFQKhb88MiZTpAPtmiDzbpLEAlYejZ9rwgQHsJ7SW0lxhA1FhOYzmNHUDVVlJbSW0pQA6Ojo2PizZAKVn4uTa9QEAPOOWKP9ZEQKW2ktpK6kdAPoT3EN7DSUAZeLo1P6xKQOfb8sQg6UtAVVVVVVXVTECr/lelCsBNQMfHxcnBUU9AzrnhkTFyUUBZ+Lk2PTBUQKULPtmiD1ZA\",\"dtype\":\"float64\",\"order\":\"little\",\"shape\":[24]},\"color\":{\"__ndarray__\":\"2TkpwtwUVkCnsZzGchpVQKmtpLaSGlNAJgpB0673TkA/2KQLPtlFQKhb88MiZTpAPtmiDzbpLEAlYejZ9rwgQHsJ7SW0lxhA1FhOYzmNHUDVVlJbSW0pQA6Ojo2PizZAKVn4uTa9QEAPOOWKP9ZEQKW2ktpK6kdAPoT3EN7DSUAZeLo1P6xKQOfb8sQg6UtAVVVVVVXVTECr/lelCsBNQMfHxcnBUU9AzrnhkTFyUUBZ+Lk2PTBUQKULPtmiD1ZA\",\"dtype\":\"float64\",\"order\":\"little\",\"shape\":[24]},\"index\":[\"12:00am\",\"1:00am\",\"2:00am\",\"3:00am\",\"4:00am\",\"5:00am\",\"6:00am\",\"7:00am\",\"8:00am\",\"9:00am\",\"10:00am\",\"11:00am\",\"12:00pm\",\"1:00pm\",\"2:00pm\",\"3:00pm\",\"4:00pm\",\"5:00pm\",\"6:00pm\",\"7:00pm\",\"8:00pm\",\"9:00pm\",\"10:00pm\",\"11:00pm\"]},\"selected\":{\"id\":\"10751\"},\"selection_policy\":{\"id\":\"10773\"}},\"id\":\"10750\",\"type\":\"ColumnDataSource\"},{\"attributes\":{},\"id\":\"10773\",\"type\":\"UnionRenderers\"},{\"attributes\":{\"end\":96.54375661375661,\"reset_end\":96.54375661375661,\"reset_start\":0.0,\"tags\":[[[\"Search Trends\",\"Search Trends\",null]]]},\"id\":\"10718\",\"type\":\"Range1d\"},{\"attributes\":{},\"id\":\"10736\",\"type\":\"SaveTool\"},{\"attributes\":{\"fill_color\":{\"field\":\"color\",\"transform\":{\"id\":\"10749\"}},\"hatch_color\":{\"field\":\"color\",\"transform\":{\"id\":\"10749\"}},\"top\":{\"field\":\"Search_Trends\"},\"width\":{\"value\":0.8},\"x\":{\"field\":\"index\"}},\"id\":\"10753\",\"type\":\"VBar\"},{\"attributes\":{},\"id\":\"10737\",\"type\":\"PanTool\"},{\"attributes\":{},\"id\":\"10761\",\"type\":\"CategoricalTickFormatter\"},{\"attributes\":{},\"id\":\"10740\",\"type\":\"ResetTool\"},{\"attributes\":{\"coordinates\":null,\"data_source\":{\"id\":\"10750\"},\"glyph\":{\"id\":\"10753\"},\"group\":null,\"hover_glyph\":{\"id\":\"10756\"},\"muted_glyph\":{\"id\":\"10757\"},\"nonselection_glyph\":{\"id\":\"10754\"},\"selection_glyph\":{\"id\":\"10755\"},\"view\":{\"id\":\"10759\"}},\"id\":\"10758\",\"type\":\"GlyphRenderer\"},{\"attributes\":{},\"id\":\"10738\",\"type\":\"WheelZoomTool\"},{\"attributes\":{\"fill_alpha\":{\"value\":0.1},\"fill_color\":{\"field\":\"color\",\"transform\":{\"id\":\"10749\"}},\"hatch_alpha\":{\"value\":0.1},\"hatch_color\":{\"field\":\"color\",\"transform\":{\"id\":\"10749\"}},\"line_alpha\":{\"value\":0.1},\"top\":{\"field\":\"Search_Trends\"},\"width\":{\"value\":0.8},\"x\":{\"field\":\"index\"}},\"id\":\"10754\",\"type\":\"VBar\"},{\"attributes\":{\"children\":[{\"id\":\"10716\"},{\"id\":\"10720\"},{\"id\":\"10786\"}],\"margin\":[0,0,0,0],\"name\":\"Row15964\",\"tags\":[\"embedded\"]},\"id\":\"10715\",\"type\":\"Row\"},{\"attributes\":{\"overlay\":{\"id\":\"10741\"}},\"id\":\"10739\",\"type\":\"BoxZoomTool\"},{\"attributes\":{},\"id\":\"10762\",\"type\":\"AllLabels\"},{\"attributes\":{\"factors\":[\"12:00am\",\"1:00am\",\"2:00am\",\"3:00am\",\"4:00am\",\"5:00am\",\"6:00am\",\"7:00am\",\"8:00am\",\"9:00am\",\"10:00am\",\"11:00am\",\"12:00pm\",\"1:00pm\",\"2:00pm\",\"3:00pm\",\"4:00pm\",\"5:00pm\",\"6:00pm\",\"7:00pm\",\"8:00pm\",\"9:00pm\",\"10:00pm\",\"11:00pm\"],\"tags\":[[[\"index\",\"index\",null]]]},\"id\":\"10717\",\"type\":\"FactorRange\"},{\"attributes\":{\"fill_color\":{\"field\":\"color\",\"transform\":{\"id\":\"10749\"}},\"hatch_color\":{\"field\":\"color\",\"transform\":{\"id\":\"10749\"}},\"top\":{\"field\":\"Search_Trends\"},\"width\":{\"value\":0.8},\"x\":{\"field\":\"index\"}},\"id\":\"10756\",\"type\":\"VBar\"},{\"attributes\":{\"fill_alpha\":{\"value\":0.2},\"fill_color\":{\"field\":\"color\",\"transform\":{\"id\":\"10749\"}},\"hatch_alpha\":{\"value\":0.2},\"hatch_color\":{\"field\":\"color\",\"transform\":{\"id\":\"10749\"}},\"line_alpha\":{\"value\":0.2},\"top\":{\"field\":\"Search_Trends\"},\"width\":{\"value\":0.8},\"x\":{\"field\":\"index\"}},\"id\":\"10757\",\"type\":\"VBar\"},{\"attributes\":{},\"id\":\"10751\",\"type\":\"Selection\"},{\"attributes\":{\"source\":{\"id\":\"10750\"}},\"id\":\"10759\",\"type\":\"CDSView\"},{\"attributes\":{\"axis\":{\"id\":\"10729\"},\"coordinates\":null,\"grid_line_color\":null,\"group\":null,\"ticker\":null},\"id\":\"10731\",\"type\":\"Grid\"}],\"root_ids\":[\"10715\"]},\"title\":\"Bokeh Application\",\"version\":\"2.4.2\"}};\n",
       "    var render_items = [{\"docid\":\"44add5e1-7060-449d-99a0-872e215f092a\",\"root_ids\":[\"10715\"],\"roots\":{\"10715\":\"8ec40d67-ee79-4292-a9ed-8436c7a7c9ca\"}}];\n",
       "    root.Bokeh.embed.embed_items_notebook(docs_json, render_items);\n",
       "  }\n",
       "  if (root.Bokeh !== undefined && root.Bokeh.Panel !== undefined) {\n",
       "    embed_document(root);\n",
       "  } else {\n",
       "    var attempts = 0;\n",
       "    var timer = setInterval(function(root) {\n",
       "      if (root.Bokeh !== undefined && root.Bokeh.Panel !== undefined) {\n",
       "        clearInterval(timer);\n",
       "        embed_document(root);\n",
       "      } else if (document.readyState == \"complete\") {\n",
       "        attempts++;\n",
       "        if (attempts > 200) {\n",
       "          clearInterval(timer);\n",
       "          console.log(\"Bokeh: ERROR: Unable to run BokehJS code because BokehJS library is missing\");\n",
       "        }\n",
       "      }\n",
       "    }, 25, root)\n",
       "  }\n",
       "})(window);</script>"
      ],
      "text/plain": [
       ":Bars   [index]   (Search Trends)"
      ]
     },
     "execution_count": 241,
     "metadata": {
      "application/vnd.holoviews_exec.v0+json": {
       "id": "10715"
      }
     },
     "output_type": "execute_result"
    }
   ],
   "source": [
    "copy_df.hvplot.bar(\n",
    "    title= 'Hourly Search Traffic Average',\n",
    "    rot = 90,\n",
    "     color='Search Trends', cmap= 'bokeh')\n"
   ]
  },
  {
   "cell_type": "markdown",
   "metadata": {},
   "source": [
    "## Highest Search Volume times: 9:00 pm to 1:00 am EST\n",
    "## Worst Search Volume times: 1:00 am to 7:00 am EST"
   ]
  },
  {
   "cell_type": "code",
   "execution_count": 272,
   "metadata": {},
   "outputs": [
    {
     "name": "stderr",
     "output_type": "stream",
     "text": [
      "C:\\Users\\Laramie\\anaconda3\\envs\\dev\\lib\\site-packages\\ipykernel_launcher.py:1: FutureWarning: weekofyear and week have been deprecated, please use DatetimeIndex.isocalendar().week instead, which returns a Series.  To exactly reproduce the behavior of week and weekofyear and return an Index, you may call pd.Int64Index(idx.isocalendar().week)\n",
      "  \"\"\"Entry point for launching an IPython kernel.\n"
     ]
    }
   ],
   "source": [
    "big_season_df = meli_search_df.groupby(meli_search_df.index.weekofyear).mean()\n",
    "median = float(big_season_df.median())\n",
    "big_season_df['6 Week Avg'] = big_season_df.rolling(6).mean()\n",
    "big_season_df= big_season_df.dropna()\n"
   ]
  },
  {
   "cell_type": "code",
   "execution_count": 274,
   "metadata": {},
   "outputs": [
    {
     "data": {},
     "metadata": {},
     "output_type": "display_data"
    },
    {
     "data": {
      "application/vnd.holoviews_exec.v0+json": "",
      "text/html": [
       "<div id='12254'>\n",
       "\n",
       "\n",
       "\n",
       "\n",
       "\n",
       "  <div class=\"bk-root\" id=\"6f442fda-fec9-4722-af9a-9b95fa339eda\" data-root-id=\"12254\"></div>\n",
       "</div>\n",
       "<script type=\"application/javascript\">(function(root) {\n",
       "  function embed_document(root) {\n",
       "    var docs_json = {\"ae1193db-31ab-464d-a605-cc237432b6c7\":{\"defs\":[{\"extends\":null,\"module\":null,\"name\":\"ReactiveHTML1\",\"overrides\":[],\"properties\":[]},{\"extends\":null,\"module\":null,\"name\":\"FlexBox1\",\"overrides\":[],\"properties\":[{\"default\":\"flex-start\",\"kind\":null,\"name\":\"align_content\"},{\"default\":\"flex-start\",\"kind\":null,\"name\":\"align_items\"},{\"default\":\"row\",\"kind\":null,\"name\":\"flex_direction\"},{\"default\":\"wrap\",\"kind\":null,\"name\":\"flex_wrap\"},{\"default\":\"flex-start\",\"kind\":null,\"name\":\"justify_content\"}]},{\"extends\":null,\"module\":null,\"name\":\"TemplateActions1\",\"overrides\":[],\"properties\":[{\"default\":0,\"kind\":null,\"name\":\"open_modal\"},{\"default\":0,\"kind\":null,\"name\":\"close_modal\"}]},{\"extends\":null,\"module\":null,\"name\":\"MaterialTemplateActions1\",\"overrides\":[],\"properties\":[{\"default\":0,\"kind\":null,\"name\":\"open_modal\"},{\"default\":0,\"kind\":null,\"name\":\"close_modal\"}]}],\"roots\":{\"references\":[{\"attributes\":{},\"id\":\"12267\",\"type\":\"LinearScale\"},{\"attributes\":{},\"id\":\"12292\",\"type\":\"AllLabels\"},{\"attributes\":{\"coordinates\":null,\"data_source\":{\"id\":\"12317\"},\"glyph\":{\"id\":\"12320\"},\"group\":null,\"hover_glyph\":null,\"muted_glyph\":{\"id\":\"12322\"},\"nonselection_glyph\":{\"id\":\"12321\"},\"selection_glyph\":{\"id\":\"12338\"},\"view\":{\"id\":\"12324\"}},\"id\":\"12323\",\"type\":\"GlyphRenderer\"},{\"attributes\":{\"axis_label\":\"\",\"coordinates\":null,\"formatter\":{\"id\":\"12294\"},\"group\":null,\"major_label_policy\":{\"id\":\"12295\"},\"ticker\":{\"id\":\"12274\"}},\"id\":\"12273\",\"type\":\"LinearAxis\"},{\"attributes\":{\"axis_label\":\"Date\",\"coordinates\":null,\"formatter\":{\"id\":\"12291\"},\"group\":null,\"major_label_policy\":{\"id\":\"12292\"},\"ticker\":{\"id\":\"12270\"}},\"id\":\"12269\",\"type\":\"LinearAxis\"},{\"attributes\":{\"bottom_units\":\"screen\",\"coordinates\":null,\"fill_alpha\":0.5,\"fill_color\":\"lightgrey\",\"group\":null,\"left_units\":\"screen\",\"level\":\"overlay\",\"line_alpha\":1.0,\"line_color\":\"black\",\"line_dash\":[4,4],\"line_width\":2,\"right_units\":\"screen\",\"syncable\":false,\"top_units\":\"screen\"},\"id\":\"12282\",\"type\":\"BoxAnnotation\"},{\"attributes\":{\"coordinates\":null,\"group\":null,\"level\":\"glyph\",\"line_color\":\"orange\",\"line_dash\":[6],\"line_width\":2.0,\"location\":48.169940476190476},\"id\":\"12425\",\"type\":\"Span\"},{\"attributes\":{\"tools\":[{\"id\":\"12258\"},{\"id\":\"12277\"},{\"id\":\"12278\"},{\"id\":\"12279\"},{\"id\":\"12280\"},{\"id\":\"12281\"}]},\"id\":\"12283\",\"type\":\"Toolbar\"},{\"attributes\":{},\"id\":\"12311\",\"type\":\"UnionRenderers\"},{\"attributes\":{\"source\":{\"id\":\"12317\"}},\"id\":\"12324\",\"type\":\"CDSView\"},{\"attributes\":{\"line_alpha\":0.1,\"line_color\":\"#fc4f30\",\"line_width\":2,\"x\":{\"field\":\"Date\"},\"y\":{\"field\":\"value\"}},\"id\":\"12321\",\"type\":\"Line\"},{\"attributes\":{\"axis\":{\"id\":\"12273\"},\"coordinates\":null,\"dimension\":1,\"grid_line_color\":null,\"group\":null,\"ticker\":null},\"id\":\"12276\",\"type\":\"Grid\"},{\"attributes\":{\"end\":51.39449404761905,\"reset_end\":51.39449404761905,\"reset_start\":43.82127976190476,\"start\":43.82127976190476,\"tags\":[[[\"value\",\"value\",null]]]},\"id\":\"12257\",\"type\":\"Range1d\"},{\"attributes\":{},\"id\":\"12270\",\"type\":\"BasicTicker\"},{\"attributes\":{\"coordinates\":null,\"group\":null,\"text\":\"Average Search Traffic by Week of Year\",\"text_color\":\"black\",\"text_font_size\":\"12pt\"},\"id\":\"12261\",\"type\":\"Title\"},{\"attributes\":{\"line_color\":\"#30a2da\",\"line_width\":2,\"x\":{\"field\":\"Date\"},\"y\":{\"field\":\"value\"}},\"id\":\"12299\",\"type\":\"Line\"},{\"attributes\":{\"line_color\":\"#fc4f30\",\"line_width\":2,\"x\":{\"field\":\"Date\"},\"y\":{\"field\":\"value\"}},\"id\":\"12320\",\"type\":\"Line\"},{\"attributes\":{\"line_color\":\"#fc4f30\",\"line_width\":2,\"x\":{\"field\":\"Date\"},\"y\":{\"field\":\"value\"}},\"id\":\"12338\",\"type\":\"Line\"},{\"attributes\":{},\"id\":\"12294\",\"type\":\"BasicTickFormatter\"},{\"attributes\":{\"line_alpha\":0.2,\"line_color\":\"#fc4f30\",\"line_width\":2,\"x\":{\"field\":\"Date\"},\"y\":{\"field\":\"value\"}},\"id\":\"12322\",\"type\":\"Line\"},{\"attributes\":{\"label\":{\"value\":\"Search Trends\"},\"renderers\":[{\"id\":\"12302\"}]},\"id\":\"12315\",\"type\":\"LegendItem\"},{\"attributes\":{},\"id\":\"12318\",\"type\":\"Selection\"},{\"attributes\":{\"children\":[{\"id\":\"12255\"},{\"id\":\"12260\"},{\"id\":\"12534\"}],\"margin\":[0,0,0,0],\"name\":\"Row18924\",\"tags\":[\"embedded\"]},\"id\":\"12254\",\"type\":\"Row\"},{\"attributes\":{\"label\":{\"value\":\"6 Week Avg\"},\"renderers\":[{\"id\":\"12323\"}]},\"id\":\"12337\",\"type\":\"LegendItem\"},{\"attributes\":{\"coordinates\":null,\"data_source\":{\"id\":\"12296\"},\"glyph\":{\"id\":\"12299\"},\"group\":null,\"hover_glyph\":null,\"muted_glyph\":{\"id\":\"12301\"},\"nonselection_glyph\":{\"id\":\"12300\"},\"selection_glyph\":{\"id\":\"12316\"},\"view\":{\"id\":\"12303\"}},\"id\":\"12302\",\"type\":\"GlyphRenderer\"},{\"attributes\":{\"data\":{\"Date\":[6,7,8,9,10,11,12,13,14,15,16,17,18,19,20,21,22,23,24,25,26,27,28,29,30,31,32,33,34,35,36,37,38,39,40,41,42,43,44,45,46,47,48,49,50,51,52],\"Variable\":[\"6 Week Avg\",\"6 Week Avg\",\"6 Week Avg\",\"6 Week Avg\",\"6 Week Avg\",\"6 Week Avg\",\"6 Week Avg\",\"6 Week Avg\",\"6 Week Avg\",\"6 Week Avg\",\"6 Week Avg\",\"6 Week Avg\",\"6 Week Avg\",\"6 Week Avg\",\"6 Week Avg\",\"6 Week Avg\",\"6 Week Avg\",\"6 Week Avg\",\"6 Week Avg\",\"6 Week Avg\",\"6 Week Avg\",\"6 Week Avg\",\"6 Week Avg\",\"6 Week Avg\",\"6 Week Avg\",\"6 Week Avg\",\"6 Week Avg\",\"6 Week Avg\",\"6 Week Avg\",\"6 Week Avg\",\"6 Week Avg\",\"6 Week Avg\",\"6 Week Avg\",\"6 Week Avg\",\"6 Week Avg\",\"6 Week Avg\",\"6 Week Avg\",\"6 Week Avg\",\"6 Week Avg\",\"6 Week Avg\",\"6 Week Avg\",\"6 Week Avg\",\"6 Week Avg\",\"6 Week Avg\",\"6 Week Avg\",\"6 Week Avg\",\"6 Week Avg\"],\"value\":{\"__ndarray__\":\"l2VZlmW1SEBzHMdxHCVJQNu2bdu2M0lAlX4TVSodSUDB3sDV3/FIQBc5Zis67UhAA/QUF/XRSEAPt0UjuJBIQKldr71eaEhAYbLQtQdESEAdzMEczC1IQAzDMAzDGEhA8Pu+7/v+R0BBEARBENpHQAiCIAiCwkdAoyiKoijER0AftqeSh+FHQADVlXSm10dA7I9EYGHmR0Bh4EvVsSFIQJUtHwr/HEhAQ/85t9AXSEBRB3VQB/1HQHdqp3Zq70dAzdmczdncR0C5lEu5lNtHQIQ6qIM68EdAOI7jOI4TSEBkMiZjMi5IQHM2Z3M250dAoGPz3fDjR0DNO3YLyd5HQHFx0K7+okdAI5HLYB6OR0CsJiTqs2RHQFsS35ifgUdA27Zt27ZXR0BN0zRN0zpHQHue53meb0dAJUmSJElgR0D0PM/zPHFHQFmWZVmWv0dAfd/3fd8TSEAEQRAEQUhIQC3LsizLYEhASZIkSZKQSECbpmmapklIQA==\",\"dtype\":\"float64\",\"order\":\"little\",\"shape\":[47]}},\"selected\":{\"id\":\"12318\"},\"selection_policy\":{\"id\":\"12334\"}},\"id\":\"12317\",\"type\":\"ColumnDataSource\"},{\"attributes\":{\"margin\":[5,5,5,5],\"name\":\"HSpacer18928\",\"sizing_mode\":\"stretch_width\"},\"id\":\"12255\",\"type\":\"Spacer\"},{\"attributes\":{\"source\":{\"id\":\"12296\"}},\"id\":\"12303\",\"type\":\"CDSView\"},{\"attributes\":{},\"id\":\"12277\",\"type\":\"SaveTool\"},{\"attributes\":{},\"id\":\"12334\",\"type\":\"UnionRenderers\"},{\"attributes\":{\"line_color\":\"#30a2da\",\"line_width\":2,\"x\":{\"field\":\"Date\"},\"y\":{\"field\":\"value\"}},\"id\":\"12316\",\"type\":\"Line\"},{\"attributes\":{},\"id\":\"12278\",\"type\":\"PanTool\"},{\"attributes\":{\"below\":[{\"id\":\"12269\"}],\"center\":[{\"id\":\"12272\"},{\"id\":\"12276\"}],\"height\":300,\"left\":[{\"id\":\"12273\"}],\"margin\":[5,5,5,5],\"min_border_bottom\":10,\"min_border_left\":10,\"min_border_right\":10,\"min_border_top\":10,\"renderers\":[{\"id\":\"12302\"},{\"id\":\"12323\"},{\"id\":\"12425\"}],\"right\":[{\"id\":\"12314\"}],\"sizing_mode\":\"fixed\",\"title\":{\"id\":\"12261\"},\"toolbar\":{\"id\":\"12283\"},\"width\":700,\"x_range\":{\"id\":\"12256\"},\"x_scale\":{\"id\":\"12265\"},\"y_range\":{\"id\":\"12257\"},\"y_scale\":{\"id\":\"12267\"}},\"id\":\"12260\",\"subtype\":\"Figure\",\"type\":\"Plot\"},{\"attributes\":{},\"id\":\"12281\",\"type\":\"ResetTool\"},{\"attributes\":{\"margin\":[5,5,5,5],\"name\":\"HSpacer18929\",\"sizing_mode\":\"stretch_width\"},\"id\":\"12534\",\"type\":\"Spacer\"},{\"attributes\":{},\"id\":\"12279\",\"type\":\"WheelZoomTool\"},{\"attributes\":{},\"id\":\"12274\",\"type\":\"BasicTicker\"},{\"attributes\":{\"line_alpha\":0.2,\"line_color\":\"#30a2da\",\"line_width\":2,\"x\":{\"field\":\"Date\"},\"y\":{\"field\":\"value\"}},\"id\":\"12301\",\"type\":\"Line\"},{\"attributes\":{\"overlay\":{\"id\":\"12282\"}},\"id\":\"12280\",\"type\":\"BoxZoomTool\"},{\"attributes\":{\"axis\":{\"id\":\"12269\"},\"coordinates\":null,\"grid_line_color\":null,\"group\":null,\"ticker\":null},\"id\":\"12272\",\"type\":\"Grid\"},{\"attributes\":{},\"id\":\"12297\",\"type\":\"Selection\"},{\"attributes\":{\"line_alpha\":0.1,\"line_color\":\"#30a2da\",\"line_width\":2,\"x\":{\"field\":\"Date\"},\"y\":{\"field\":\"value\"}},\"id\":\"12300\",\"type\":\"Line\"},{\"attributes\":{\"click_policy\":\"mute\",\"coordinates\":null,\"group\":null,\"items\":[{\"id\":\"12315\"},{\"id\":\"12337\"}],\"location\":[0,0]},\"id\":\"12314\",\"type\":\"Legend\"},{\"attributes\":{\"callback\":null,\"renderers\":[{\"id\":\"12302\"},{\"id\":\"12323\"}],\"tags\":[\"hv_created\"],\"tooltips\":[[\"Variable\",\"@{Variable}\"],[\"Date\",\"@{Date}\"],[\"value\",\"@{value}\"]]},\"id\":\"12258\",\"type\":\"HoverTool\"},{\"attributes\":{\"end\":52.0,\"reset_end\":52.0,\"reset_start\":6.0,\"start\":6.0,\"tags\":[[[\"Date\",\"Date\",null]]]},\"id\":\"12256\",\"type\":\"Range1d\"},{\"attributes\":{},\"id\":\"12295\",\"type\":\"AllLabels\"},{\"attributes\":{},\"id\":\"12291\",\"type\":\"BasicTickFormatter\"},{\"attributes\":{},\"id\":\"12265\",\"type\":\"LinearScale\"},{\"attributes\":{\"data\":{\"Date\":[6,7,8,9,10,11,12,13,14,15,16,17,18,19,20,21,22,23,24,25,26,27,28,29,30,31,32,33,34,35,36,37,38,39,40,41,42,43,44,45,46,47,48,49,50,51,52],\"Variable\":[\"Search Trends\",\"Search Trends\",\"Search Trends\",\"Search Trends\",\"Search Trends\",\"Search Trends\",\"Search Trends\",\"Search Trends\",\"Search Trends\",\"Search Trends\",\"Search Trends\",\"Search Trends\",\"Search Trends\",\"Search Trends\",\"Search Trends\",\"Search Trends\",\"Search Trends\",\"Search Trends\",\"Search Trends\",\"Search Trends\",\"Search Trends\",\"Search Trends\",\"Search Trends\",\"Search Trends\",\"Search Trends\",\"Search Trends\",\"Search Trends\",\"Search Trends\",\"Search Trends\",\"Search Trends\",\"Search Trends\",\"Search Trends\",\"Search Trends\",\"Search Trends\",\"Search Trends\",\"Search Trends\",\"Search Trends\",\"Search Trends\",\"Search Trends\",\"Search Trends\",\"Search Trends\",\"Search Trends\",\"Search Trends\",\"Search Trends\",\"Search Trends\",\"Search Trends\",\"Search Trends\"],\"value\":{\"__ndarray__\":\"GIZhGIYNSUBJkiRJkhRJQNu2bdu2YUlAa3ET5ne1SEByHMdxHGdIQHD5lm/57khAnud5nudpSECSJEmSJI1HQHqe53meb0hAt23btm3bR0Dbtm3btuFHQAzDMAzDcEhA9DzP8zzPR0B6nud5nq9GQCVJkiRJ4kdAVVVVVVXlR0DCBx988JFIQFh8xVd8NUhAep7neZ4nSEA4gRM4gRNIQGIYhmEYxkdAZD/2Yz/GR0AUOIETOPFHQD3P8zzP40dAhDqogzq4R0C+4iu+4gtIQCD7sR/7QUhAozVaozWaSEAREREREZFIQJ7neZ7nOUZAkEnxApmkR0DP8zzP8+xHQPQ8z/M820ZAz/M8z/McSEBJkiRJkphHQLdt27Zt50ZAkiRJkiSpRkB6nud5nj9HQAAAAAAAGEhAz/M8z/PAR0AlSZIkSf5HQBiGYRiGvUhAbtu2bduiSECe53me53lIQPQ8z/M8q0hAep7neZ7fSEAMwzAMw1RGQA==\",\"dtype\":\"float64\",\"order\":\"little\",\"shape\":[47]}},\"selected\":{\"id\":\"12297\"},\"selection_policy\":{\"id\":\"12311\"}},\"id\":\"12296\",\"type\":\"ColumnDataSource\"}],\"root_ids\":[\"12254\"]},\"title\":\"Bokeh Application\",\"version\":\"2.4.2\"}};\n",
       "    var render_items = [{\"docid\":\"ae1193db-31ab-464d-a605-cc237432b6c7\",\"root_ids\":[\"12254\"],\"roots\":{\"12254\":\"6f442fda-fec9-4722-af9a-9b95fa339eda\"}}];\n",
       "    root.Bokeh.embed.embed_items_notebook(docs_json, render_items);\n",
       "  }\n",
       "  if (root.Bokeh !== undefined && root.Bokeh.Panel !== undefined) {\n",
       "    embed_document(root);\n",
       "  } else {\n",
       "    var attempts = 0;\n",
       "    var timer = setInterval(function(root) {\n",
       "      if (root.Bokeh !== undefined && root.Bokeh.Panel !== undefined) {\n",
       "        clearInterval(timer);\n",
       "        embed_document(root);\n",
       "      } else if (document.readyState == \"complete\") {\n",
       "        attempts++;\n",
       "        if (attempts > 200) {\n",
       "          clearInterval(timer);\n",
       "          console.log(\"Bokeh: ERROR: Unable to run BokehJS code because BokehJS library is missing\");\n",
       "        }\n",
       "      }\n",
       "    }, 25, root)\n",
       "  }\n",
       "})(window);</script>"
      ],
      "text/plain": [
       ":Overlay\n",
       "   .NdOverlay.I :NdOverlay   [Variable]\n",
       "      :Curve   [Date]   (value)\n",
       "   .HLine.I     :HLine   [x,y]"
      ]
     },
     "execution_count": 274,
     "metadata": {
      "application/vnd.holoviews_exec.v0+json": {
       "id": "12254"
      }
     },
     "output_type": "execute_result"
    }
   ],
   "source": [
    "fig = big_season_df.hvplot(title = 'Average Search Traffic by Week of Year')\n",
    "hline = hv.HLine(median)\n",
    "hline.opts(\n",
    "    color = 'orange',\n",
    "    line_dash= 'dashed',\n",
    "    line_width= 2.0\n",
    ")\n",
    "fig * hline"
   ]
  },
  {
   "cell_type": "markdown",
   "metadata": {},
   "source": [
    "### From Week 40 onward, you see a steady increase in Average Search Trends"
   ]
  },
  {
   "cell_type": "markdown",
   "metadata": {},
   "source": [
    "---"
   ]
  },
  {
   "cell_type": "markdown",
   "metadata": {},
   "source": [
    "## Relating Search Traffic to Stock Price Patterns\n",
    "\n",
    "Suppose the finance team wants to know if there was some coorelation among these search trends and share price -- we can represent graphically the relationship between Google search trends for MercadoLibre and the share price"
   ]
  },
  {
   "cell_type": "code",
   "execution_count": 282,
   "metadata": {},
   "outputs": [
    {
     "data": {
      "text/html": [
       "<div>\n",
       "<style scoped>\n",
       "    .dataframe tbody tr th:only-of-type {\n",
       "        vertical-align: middle;\n",
       "    }\n",
       "\n",
       "    .dataframe tbody tr th {\n",
       "        vertical-align: top;\n",
       "    }\n",
       "\n",
       "    .dataframe thead th {\n",
       "        text-align: right;\n",
       "    }\n",
       "</style>\n",
       "<table border=\"1\" class=\"dataframe\">\n",
       "  <thead>\n",
       "    <tr style=\"text-align: right;\">\n",
       "      <th></th>\n",
       "      <th>date</th>\n",
       "      <th>close</th>\n",
       "    </tr>\n",
       "  </thead>\n",
       "  <tbody>\n",
       "    <tr>\n",
       "      <th>0</th>\n",
       "      <td>2015-01-02 09:00:00</td>\n",
       "      <td>127.67</td>\n",
       "    </tr>\n",
       "    <tr>\n",
       "      <th>1</th>\n",
       "      <td>2015-01-02 10:00:00</td>\n",
       "      <td>125.44</td>\n",
       "    </tr>\n",
       "    <tr>\n",
       "      <th>2</th>\n",
       "      <td>2015-01-02 11:00:00</td>\n",
       "      <td>125.57</td>\n",
       "    </tr>\n",
       "    <tr>\n",
       "      <th>3</th>\n",
       "      <td>2015-01-02 12:00:00</td>\n",
       "      <td>125.40</td>\n",
       "    </tr>\n",
       "    <tr>\n",
       "      <th>4</th>\n",
       "      <td>2015-01-02 13:00:00</td>\n",
       "      <td>125.17</td>\n",
       "    </tr>\n",
       "  </tbody>\n",
       "</table>\n",
       "</div>"
      ],
      "text/plain": [
       "                 date   close\n",
       "0 2015-01-02 09:00:00  127.67\n",
       "1 2015-01-02 10:00:00  125.44\n",
       "2 2015-01-02 11:00:00  125.57\n",
       "3 2015-01-02 12:00:00  125.40\n",
       "4 2015-01-02 13:00:00  125.17"
      ]
     },
     "execution_count": 282,
     "metadata": {},
     "output_type": "execute_result"
    }
   ],
   "source": [
    "meli_stock_df = pd.read_csv('resources/mercado_stock_price.csv')\n",
    "meli_stock_df['date'] = pd.to_datetime(meli_stock_df['date'], infer_datetime_format=True)\n",
    "meli_stock_df.head()"
   ]
  },
  {
   "cell_type": "code",
   "execution_count": 283,
   "metadata": {},
   "outputs": [
    {
     "data": {
      "text/html": [
       "<div>\n",
       "<style scoped>\n",
       "    .dataframe tbody tr th:only-of-type {\n",
       "        vertical-align: middle;\n",
       "    }\n",
       "\n",
       "    .dataframe tbody tr th {\n",
       "        vertical-align: top;\n",
       "    }\n",
       "\n",
       "    .dataframe thead th {\n",
       "        text-align: right;\n",
       "    }\n",
       "</style>\n",
       "<table border=\"1\" class=\"dataframe\">\n",
       "  <thead>\n",
       "    <tr style=\"text-align: right;\">\n",
       "      <th></th>\n",
       "      <th>Search Trends</th>\n",
       "    </tr>\n",
       "    <tr>\n",
       "      <th>Date</th>\n",
       "      <th></th>\n",
       "    </tr>\n",
       "  </thead>\n",
       "  <tbody>\n",
       "    <tr>\n",
       "      <th>2016-06-01 00:00:00+00:00</th>\n",
       "      <td>97</td>\n",
       "    </tr>\n",
       "    <tr>\n",
       "      <th>2016-06-01 01:00:00+00:00</th>\n",
       "      <td>92</td>\n",
       "    </tr>\n",
       "    <tr>\n",
       "      <th>2016-06-01 02:00:00+00:00</th>\n",
       "      <td>76</td>\n",
       "    </tr>\n",
       "    <tr>\n",
       "      <th>2016-06-01 03:00:00+00:00</th>\n",
       "      <td>60</td>\n",
       "    </tr>\n",
       "    <tr>\n",
       "      <th>2016-06-01 04:00:00+00:00</th>\n",
       "      <td>38</td>\n",
       "    </tr>\n",
       "  </tbody>\n",
       "</table>\n",
       "</div>"
      ],
      "text/plain": [
       "                           Search Trends\n",
       "Date                                    \n",
       "2016-06-01 00:00:00+00:00             97\n",
       "2016-06-01 01:00:00+00:00             92\n",
       "2016-06-01 02:00:00+00:00             76\n",
       "2016-06-01 03:00:00+00:00             60\n",
       "2016-06-01 04:00:00+00:00             38"
      ]
     },
     "execution_count": 283,
     "metadata": {},
     "output_type": "execute_result"
    }
   ],
   "source": [
    "meli_search_df.head()"
   ]
  },
  {
   "cell_type": "code",
   "execution_count": null,
   "metadata": {},
   "outputs": [],
   "source": []
  }
 ],
 "metadata": {
  "interpreter": {
   "hash": "317b78edde00bc4256311d4e714376712818880d4f09469ec991bbb7c62c2891"
  },
  "kernelspec": {
   "display_name": "Python 3.7.11 ('base')",
   "language": "python",
   "name": "python3"
  },
  "language_info": {
   "codemirror_mode": {
    "name": "ipython",
    "version": 3
   },
   "file_extension": ".py",
   "mimetype": "text/x-python",
   "name": "python",
   "nbconvert_exporter": "python",
   "pygments_lexer": "ipython3",
   "version": "3.7.11"
  },
  "orig_nbformat": 4
 },
 "nbformat": 4,
 "nbformat_minor": 2
}
