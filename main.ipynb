{
 "cells": [
  {
   "cell_type": "markdown",
   "metadata": {},
   "source": [
    "### Find Unusual Patterns in Hourly Google Search Traffic\n",
    "The goal here is to find out if there is a link between financial events for MercadoLibre and Google search traffic. \n",
    "We will dive into May 2020, when MercadoLibre released a quarterly financial report"
   ]
  },
  {
   "cell_type": "code",
   "execution_count": 92,
   "metadata": {},
   "outputs": [],
   "source": [
    "import pandas as pd\n",
    "import holoviews as hv\n",
    "import hvplot.pandas\n",
    "import seaborn as sns\n",
    "import numpy as np"
   ]
  },
  {
   "cell_type": "code",
   "execution_count": 20,
   "metadata": {},
   "outputs": [],
   "source": [
    "# Read in the search trends data\n",
    "meli_search_df = pd.read_csv('resources/google_hourly_search_trends.csv', infer_datetime_format=True, parse_dates=True)\n",
    "\n",
    "# Slice the frame to just the month of May 2020. We first need to convert our Date column to Datetime\n",
    "meli_search_df['Date'] = pd.to_datetime(meli_search_df['Date'], infer_datetime_format=True, utc=True)\n",
    "\n",
    "# Set the index to our Datetime column for simple lookup / plot statements\n",
    "meli_search_df = meli_search_df.set_index('Date')"
   ]
  },
  {
   "cell_type": "code",
   "execution_count": 118,
   "metadata": {},
   "outputs": [
    {
     "data": {
      "text/html": [
       "<div>\n",
       "<style scoped>\n",
       "    .dataframe tbody tr th:only-of-type {\n",
       "        vertical-align: middle;\n",
       "    }\n",
       "\n",
       "    .dataframe tbody tr th {\n",
       "        vertical-align: top;\n",
       "    }\n",
       "\n",
       "    .dataframe thead th {\n",
       "        text-align: right;\n",
       "    }\n",
       "</style>\n",
       "<table border=\"1\" class=\"dataframe\">\n",
       "  <thead>\n",
       "    <tr style=\"text-align: right;\">\n",
       "      <th></th>\n",
       "      <th>Search Trends</th>\n",
       "    </tr>\n",
       "    <tr>\n",
       "      <th>Date</th>\n",
       "      <th></th>\n",
       "    </tr>\n",
       "  </thead>\n",
       "  <tbody>\n",
       "    <tr>\n",
       "      <th>2020-09-07 20:00:00+00:00</th>\n",
       "      <td>71</td>\n",
       "    </tr>\n",
       "    <tr>\n",
       "      <th>2020-09-07 21:00:00+00:00</th>\n",
       "      <td>83</td>\n",
       "    </tr>\n",
       "    <tr>\n",
       "      <th>2020-09-07 22:00:00+00:00</th>\n",
       "      <td>96</td>\n",
       "    </tr>\n",
       "    <tr>\n",
       "      <th>2020-09-07 23:00:00+00:00</th>\n",
       "      <td>97</td>\n",
       "    </tr>\n",
       "    <tr>\n",
       "      <th>2020-09-08 00:00:00+00:00</th>\n",
       "      <td>96</td>\n",
       "    </tr>\n",
       "  </tbody>\n",
       "</table>\n",
       "</div>"
      ],
      "text/plain": [
       "                           Search Trends\n",
       "Date                                    \n",
       "2020-09-07 20:00:00+00:00             71\n",
       "2020-09-07 21:00:00+00:00             83\n",
       "2020-09-07 22:00:00+00:00             96\n",
       "2020-09-07 23:00:00+00:00             97\n",
       "2020-09-08 00:00:00+00:00             96"
      ]
     },
     "execution_count": 118,
     "metadata": {},
     "output_type": "execute_result"
    }
   ],
   "source": [
    "meli_search_df.tail()"
   ]
  },
  {
   "cell_type": "code",
   "execution_count": 121,
   "metadata": {},
   "outputs": [],
   "source": [
    "# Because the end of the dataset coincides with the beginning of the month, \n",
    "# We will trim data from Sept. 2020 from the data set so that our measures of centrality are more representative\n",
    "\n",
    "meli_search_df = meli_search_df.loc[:'2020-08-31']\n"
   ]
  },
  {
   "cell_type": "markdown",
   "metadata": {},
   "source": [
    "## Zoom in on May 2020, month of Quarterly Financial Report"
   ]
  },
  {
   "cell_type": "code",
   "execution_count": 122,
   "metadata": {},
   "outputs": [
    {
     "data": {},
     "metadata": {},
     "output_type": "display_data"
    },
    {
     "data": {
      "application/vnd.holoviews_exec.v0+json": "",
      "text/html": [
       "<div id='5035'>\n",
       "\n",
       "\n",
       "\n",
       "\n",
       "\n",
       "  <div class=\"bk-root\" id=\"dc5580c1-6b61-4635-ab2d-d097a07768e0\" data-root-id=\"5035\"></div>\n",
       "</div>\n",
       "<script type=\"application/javascript\">(function(root) {\n",
       "  function embed_document(root) {\n",
       "    var docs_json = {\"0edfd38f-be2b-422f-b717-d27e5e6e718a\":{\"defs\":[{\"extends\":null,\"module\":null,\"name\":\"ReactiveHTML1\",\"overrides\":[],\"properties\":[]},{\"extends\":null,\"module\":null,\"name\":\"FlexBox1\",\"overrides\":[],\"properties\":[{\"default\":\"flex-start\",\"kind\":null,\"name\":\"align_content\"},{\"default\":\"flex-start\",\"kind\":null,\"name\":\"align_items\"},{\"default\":\"row\",\"kind\":null,\"name\":\"flex_direction\"},{\"default\":\"wrap\",\"kind\":null,\"name\":\"flex_wrap\"},{\"default\":\"flex-start\",\"kind\":null,\"name\":\"justify_content\"}]},{\"extends\":null,\"module\":null,\"name\":\"TemplateActions1\",\"overrides\":[],\"properties\":[{\"default\":0,\"kind\":null,\"name\":\"open_modal\"},{\"default\":0,\"kind\":null,\"name\":\"close_modal\"}]},{\"extends\":null,\"module\":null,\"name\":\"MaterialTemplateActions1\",\"overrides\":[],\"properties\":[{\"default\":0,\"kind\":null,\"name\":\"open_modal\"},{\"default\":0,\"kind\":null,\"name\":\"close_modal\"}]}],\"roots\":{\"references\":[{\"attributes\":{},\"id\":\"5054\",\"type\":\"BasicTicker\"},{\"attributes\":{\"axis_label\":\"Date\",\"coordinates\":null,\"formatter\":{\"id\":\"5080\"},\"group\":null,\"major_label_policy\":{\"id\":\"5081\"},\"ticker\":{\"id\":\"5050\"}},\"id\":\"5049\",\"type\":\"DatetimeAxis\"},{\"attributes\":{\"margin\":[5,5,5,5],\"name\":\"HSpacer07202\",\"sizing_mode\":\"stretch_width\"},\"id\":\"5129\",\"type\":\"Spacer\"},{\"attributes\":{\"tools\":[{\"id\":\"5039\"},{\"id\":\"5057\"},{\"id\":\"5058\"},{\"id\":\"5059\"},{\"id\":\"5060\"},{\"id\":\"5061\"}]},\"id\":\"5063\",\"type\":\"Toolbar\"},{\"attributes\":{\"data\":{\"Date\":{\"__ndarray__\":\"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\",\"dtype\":\"float64\",\"order\":\"little\",\"shape\":[744]},\"Search Trends\":[80,80,76,66,53,33,19,12,8,6,9,13,21,30,38,41,45,50,53,54,60,68,83,89,88,85,80,69,56,36,22,13,8,7,9,16,25,36,45,51,55,57,58,62,65,72,86,91,87,82,78,72,55,38,24,14,9,7,8,13,22,31,39,45,50,54,57,61,66,77,90,94,89,84,78,68,51,32,18,11,7,6,9,18,29,40,48,56,58,60,62,67,71,83,95,98,119,110,103,89,71,44,23,13,9,9,13,24,38,49,61,66,70,76,79,84,93,105,124,125,98,92,87,74,58,33,18,10,7,8,11,20,32,44,51,57,57,60,61,65,69,79,94,97,95,88,85,71,52,33,18,11,8,8,12,20,32,42,48,54,56,58,62,64,70,80,92,94,93,89,83,70,50,32,17,11,8,8,12,21,34,43,51,54,58,58,61,64,65,74,89,90,86,83,80,68,54,33,19,12,8,8,10,18,29,38,47,51,54,56,58,58,62,69,84,89,83,80,74,67,51,36,21,12,8,7,7,12,21,28,35,41,43,46,50,53,58,71,85,90,85,83,77,64,49,30,18,11,7,7,9,18,29,39,47,54,58,61,63,65,72,82,97,98,95,91,86,70,52,30,16,10,7,6,11,20,31,39,50,54,56,60,62,66,72,83,94,100,95,92,86,70,51,31,17,10,7,7,10,20,33,43,50,55,58,61,64,68,72,82,93,99,95,89,85,70,51,30,17,10,7,7,10,20,32,42,50,55,59,61,63,64,71,81,94,97,94,90,84,71,50,31,17,10,7,7,11,21,34,43,50,54,58,60,60,65,68,75,89,94,92,88,84,70,53,35,21,12,9,8,11,19,31,39,47,52,55,59,61,62,63,73,86,91,87,85,81,74,57,37,23,13,9,8,9,14,23,32,41,47,53,55,58,61,65,77,92,96,91,88,83,69,50,32,18,10,7,7,10,19,32,43,52,57,61,63,66,70,74,83,95,100,96,93,88,70,49,30,16,10,7,7,12,21,32,44,51,57,60,64,65,68,72,82,95,97,96,88,81,69,50,32,17,10,8,7,11,21,34,44,49,54,59,60,62,67,67,78,89,93,90,87,82,70,50,30,16,10,7,8,11,20,33,42,51,55,58,61,64,69,68,80,93,94,90,89,83,71,53,34,19,11,7,7,11,21,32,43,49,55,57,60,62,66,70,77,90,93,91,88,84,70,53,36,21,13,8,7,10,17,28,38,45,50,53,58,58,61,63,73,86,86,86,82,80,71,54,36,22,13,8,7,8,13,23,31,41,47,52,54,57,61,66,76,91,99,97,91,82,74,52,33,19,11,7,6,8,14,24,34,43,51,55,57,61,63,68,78,94,98,95,89,85,68,52,30,17,9,6,6,10,19,30,39,48,52,58,60,62,63,70,82,98,100,96,93,85,69,49,29,17,9,7,7,10,18,30,39,48,54,56,61,62,63,66,80,92,99,95,91,85,70,48,29,16,10,7,7,10,18,28,39,47,54,56,60,61,65,68,76,93,97,95,92,83,67,49,30,16,10,7,7,11,19,30,40,47,52,54,57,60,63,66,73,87,94,91,86,82,69,50,33,20,12,8,8,10,17,27,38,46,51,55,57,59,56,64,72,88,94,90,84,80,69,53,35,22,13,8,7,8,13,21,32,40,47,52,51,57,59,64,76,90,96],\"Search_Trends\":[80,80,76,66,53,33,19,12,8,6,9,13,21,30,38,41,45,50,53,54,60,68,83,89,88,85,80,69,56,36,22,13,8,7,9,16,25,36,45,51,55,57,58,62,65,72,86,91,87,82,78,72,55,38,24,14,9,7,8,13,22,31,39,45,50,54,57,61,66,77,90,94,89,84,78,68,51,32,18,11,7,6,9,18,29,40,48,56,58,60,62,67,71,83,95,98,119,110,103,89,71,44,23,13,9,9,13,24,38,49,61,66,70,76,79,84,93,105,124,125,98,92,87,74,58,33,18,10,7,8,11,20,32,44,51,57,57,60,61,65,69,79,94,97,95,88,85,71,52,33,18,11,8,8,12,20,32,42,48,54,56,58,62,64,70,80,92,94,93,89,83,70,50,32,17,11,8,8,12,21,34,43,51,54,58,58,61,64,65,74,89,90,86,83,80,68,54,33,19,12,8,8,10,18,29,38,47,51,54,56,58,58,62,69,84,89,83,80,74,67,51,36,21,12,8,7,7,12,21,28,35,41,43,46,50,53,58,71,85,90,85,83,77,64,49,30,18,11,7,7,9,18,29,39,47,54,58,61,63,65,72,82,97,98,95,91,86,70,52,30,16,10,7,6,11,20,31,39,50,54,56,60,62,66,72,83,94,100,95,92,86,70,51,31,17,10,7,7,10,20,33,43,50,55,58,61,64,68,72,82,93,99,95,89,85,70,51,30,17,10,7,7,10,20,32,42,50,55,59,61,63,64,71,81,94,97,94,90,84,71,50,31,17,10,7,7,11,21,34,43,50,54,58,60,60,65,68,75,89,94,92,88,84,70,53,35,21,12,9,8,11,19,31,39,47,52,55,59,61,62,63,73,86,91,87,85,81,74,57,37,23,13,9,8,9,14,23,32,41,47,53,55,58,61,65,77,92,96,91,88,83,69,50,32,18,10,7,7,10,19,32,43,52,57,61,63,66,70,74,83,95,100,96,93,88,70,49,30,16,10,7,7,12,21,32,44,51,57,60,64,65,68,72,82,95,97,96,88,81,69,50,32,17,10,8,7,11,21,34,44,49,54,59,60,62,67,67,78,89,93,90,87,82,70,50,30,16,10,7,8,11,20,33,42,51,55,58,61,64,69,68,80,93,94,90,89,83,71,53,34,19,11,7,7,11,21,32,43,49,55,57,60,62,66,70,77,90,93,91,88,84,70,53,36,21,13,8,7,10,17,28,38,45,50,53,58,58,61,63,73,86,86,86,82,80,71,54,36,22,13,8,7,8,13,23,31,41,47,52,54,57,61,66,76,91,99,97,91,82,74,52,33,19,11,7,6,8,14,24,34,43,51,55,57,61,63,68,78,94,98,95,89,85,68,52,30,17,9,6,6,10,19,30,39,48,52,58,60,62,63,70,82,98,100,96,93,85,69,49,29,17,9,7,7,10,18,30,39,48,54,56,61,62,63,66,80,92,99,95,91,85,70,48,29,16,10,7,7,10,18,28,39,47,54,56,60,61,65,68,76,93,97,95,92,83,67,49,30,16,10,7,7,11,19,30,40,47,52,54,57,60,63,66,73,87,94,91,86,82,69,50,33,20,12,8,8,10,17,27,38,46,51,55,57,59,56,64,72,88,94,90,84,80,69,53,35,22,13,8,7,8,13,21,32,40,47,52,51,57,59,64,76,90,96]},\"selected\":{\"id\":\"5071\"},\"selection_policy\":{\"id\":\"5092\"}},\"id\":\"5070\",\"type\":\"ColumnDataSource\"},{\"attributes\":{\"num_minor_ticks\":5,\"tickers\":[{\"id\":\"5095\"},{\"id\":\"5096\"},{\"id\":\"5097\"},{\"id\":\"5098\"},{\"id\":\"5099\"},{\"id\":\"5100\"},{\"id\":\"5101\"},{\"id\":\"5102\"},{\"id\":\"5103\"},{\"id\":\"5104\"},{\"id\":\"5105\"},{\"id\":\"5106\"}]},\"id\":\"5050\",\"type\":\"DatetimeTicker\"},{\"attributes\":{\"axis_label\":\"Search Trends\",\"coordinates\":null,\"formatter\":{\"id\":\"5083\"},\"group\":null,\"major_label_policy\":{\"id\":\"5084\"},\"ticker\":{\"id\":\"5054\"}},\"id\":\"5053\",\"type\":\"LinearAxis\"},{\"attributes\":{\"days\":[1,2,3,4,5,6,7,8,9,10,11,12,13,14,15,16,17,18,19,20,21,22,23,24,25,26,27,28,29,30,31]},\"id\":\"5098\",\"type\":\"DaysTicker\"},{\"attributes\":{\"axis\":{\"id\":\"5049\"},\"coordinates\":null,\"grid_line_color\":null,\"group\":null,\"ticker\":null},\"id\":\"5052\",\"type\":\"Grid\"},{\"attributes\":{},\"id\":\"5092\",\"type\":\"UnionRenderers\"},{\"attributes\":{\"base\":60,\"mantissas\":[1,2,5,10,15,20,30],\"max_interval\":1800000.0,\"min_interval\":1000.0,\"num_minor_ticks\":0},\"id\":\"5096\",\"type\":\"AdaptiveTicker\"},{\"attributes\":{\"end\":1590966000000.0,\"reset_end\":1590966000000.0,\"reset_start\":1588291200000.0,\"start\":1588291200000.0,\"tags\":[[[\"Date\",\"Date\",null]]]},\"id\":\"5037\",\"type\":\"Range1d\"},{\"attributes\":{\"margin\":[5,5,5,5],\"name\":\"HSpacer07201\",\"sizing_mode\":\"stretch_width\"},\"id\":\"5036\",\"type\":\"Spacer\"},{\"attributes\":{\"base\":24,\"mantissas\":[1,2,4,6,8,12],\"max_interval\":43200000.0,\"min_interval\":3600000.0,\"num_minor_ticks\":0},\"id\":\"5097\",\"type\":\"AdaptiveTicker\"},{\"attributes\":{\"days\":[1,4,7,10,13,16,19,22,25,28]},\"id\":\"5099\",\"type\":\"DaysTicker\"},{\"attributes\":{\"axis\":{\"id\":\"5053\"},\"coordinates\":null,\"dimension\":1,\"grid_line_color\":null,\"group\":null,\"ticker\":null},\"id\":\"5056\",\"type\":\"Grid\"},{\"attributes\":{},\"id\":\"5071\",\"type\":\"Selection\"},{\"attributes\":{\"line_alpha\":0.1,\"line_color\":\"#30a2da\",\"line_width\":2,\"x\":{\"field\":\"Date\"},\"y\":{\"field\":\"Search Trends\"}},\"id\":\"5074\",\"type\":\"Line\"},{\"attributes\":{\"line_alpha\":0.2,\"line_color\":\"#30a2da\",\"line_width\":2,\"x\":{\"field\":\"Date\"},\"y\":{\"field\":\"Search Trends\"}},\"id\":\"5075\",\"type\":\"Line\"},{\"attributes\":{\"months\":[0,1,2,3,4,5,6,7,8,9,10,11]},\"id\":\"5102\",\"type\":\"MonthsTicker\"},{\"attributes\":{\"line_color\":\"#30a2da\",\"line_width\":2,\"x\":{\"field\":\"Date\"},\"y\":{\"field\":\"Search Trends\"}},\"id\":\"5078\",\"type\":\"Line\"},{\"attributes\":{\"end\":136.9,\"reset_end\":136.9,\"reset_start\":-5.9,\"start\":-5.9,\"tags\":[[[\"Search Trends\",\"Search Trends\",null]]]},\"id\":\"5038\",\"type\":\"Range1d\"},{\"attributes\":{\"coordinates\":null,\"data_source\":{\"id\":\"5070\"},\"glyph\":{\"id\":\"5073\"},\"group\":null,\"hover_glyph\":null,\"muted_glyph\":{\"id\":\"5075\"},\"nonselection_glyph\":{\"id\":\"5074\"},\"selection_glyph\":{\"id\":\"5078\"},\"view\":{\"id\":\"5077\"}},\"id\":\"5076\",\"type\":\"GlyphRenderer\"},{\"attributes\":{\"days\":[1,8,15,22]},\"id\":\"5100\",\"type\":\"DaysTicker\"},{\"attributes\":{\"callback\":null,\"formatters\":{\"@{Date}\":\"datetime\"},\"renderers\":[{\"id\":\"5076\"}],\"tags\":[\"hv_created\"],\"tooltips\":[[\"Date\",\"@{Date}{%F %T}\"],[\"Search Trends\",\"@{Search_Trends}\"]]},\"id\":\"5039\",\"type\":\"HoverTool\"},{\"attributes\":{\"mantissas\":[1,2,5],\"max_interval\":500.0,\"num_minor_ticks\":0},\"id\":\"5095\",\"type\":\"AdaptiveTicker\"},{\"attributes\":{\"days\":[1,15]},\"id\":\"5101\",\"type\":\"DaysTicker\"},{\"attributes\":{\"source\":{\"id\":\"5070\"}},\"id\":\"5077\",\"type\":\"CDSView\"},{\"attributes\":{\"below\":[{\"id\":\"5049\"}],\"center\":[{\"id\":\"5052\"},{\"id\":\"5056\"}],\"height\":300,\"left\":[{\"id\":\"5053\"}],\"margin\":[5,5,5,5],\"min_border_bottom\":10,\"min_border_left\":10,\"min_border_right\":10,\"min_border_top\":10,\"renderers\":[{\"id\":\"5076\"}],\"sizing_mode\":\"fixed\",\"title\":{\"id\":\"5041\"},\"toolbar\":{\"id\":\"5063\"},\"width\":700,\"x_range\":{\"id\":\"5037\"},\"x_scale\":{\"id\":\"5045\"},\"y_range\":{\"id\":\"5038\"},\"y_scale\":{\"id\":\"5047\"}},\"id\":\"5040\",\"subtype\":\"Figure\",\"type\":\"Plot\"},{\"attributes\":{},\"id\":\"5045\",\"type\":\"LinearScale\"},{\"attributes\":{\"line_color\":\"#30a2da\",\"line_width\":2,\"x\":{\"field\":\"Date\"},\"y\":{\"field\":\"Search Trends\"}},\"id\":\"5073\",\"type\":\"Line\"},{\"attributes\":{},\"id\":\"5083\",\"type\":\"BasicTickFormatter\"},{\"attributes\":{},\"id\":\"5080\",\"type\":\"DatetimeTickFormatter\"},{\"attributes\":{\"months\":[0,2,4,6,8,10]},\"id\":\"5103\",\"type\":\"MonthsTicker\"},{\"attributes\":{},\"id\":\"5106\",\"type\":\"YearsTicker\"},{\"attributes\":{\"coordinates\":null,\"group\":null,\"text\":\"May 2020 Search Trend Data\",\"text_color\":\"black\",\"text_font_size\":\"12pt\"},\"id\":\"5041\",\"type\":\"Title\"},{\"attributes\":{\"bottom_units\":\"screen\",\"coordinates\":null,\"fill_alpha\":0.5,\"fill_color\":\"lightgrey\",\"group\":null,\"left_units\":\"screen\",\"level\":\"overlay\",\"line_alpha\":1.0,\"line_color\":\"black\",\"line_dash\":[4,4],\"line_width\":2,\"right_units\":\"screen\",\"syncable\":false,\"top_units\":\"screen\"},\"id\":\"5062\",\"type\":\"BoxAnnotation\"},{\"attributes\":{},\"id\":\"5057\",\"type\":\"SaveTool\"},{\"attributes\":{},\"id\":\"5058\",\"type\":\"PanTool\"},{\"attributes\":{},\"id\":\"5081\",\"type\":\"AllLabels\"},{\"attributes\":{\"months\":[0,4,8]},\"id\":\"5104\",\"type\":\"MonthsTicker\"},{\"attributes\":{},\"id\":\"5061\",\"type\":\"ResetTool\"},{\"attributes\":{},\"id\":\"5059\",\"type\":\"WheelZoomTool\"},{\"attributes\":{\"months\":[0,6]},\"id\":\"5105\",\"type\":\"MonthsTicker\"},{\"attributes\":{\"overlay\":{\"id\":\"5062\"}},\"id\":\"5060\",\"type\":\"BoxZoomTool\"},{\"attributes\":{},\"id\":\"5084\",\"type\":\"AllLabels\"},{\"attributes\":{\"children\":[{\"id\":\"5036\"},{\"id\":\"5040\"},{\"id\":\"5129\"}],\"margin\":[0,0,0,0],\"name\":\"Row07197\",\"tags\":[\"embedded\"]},\"id\":\"5035\",\"type\":\"Row\"},{\"attributes\":{},\"id\":\"5047\",\"type\":\"LinearScale\"}],\"root_ids\":[\"5035\"]},\"title\":\"Bokeh Application\",\"version\":\"2.4.2\"}};\n",
       "    var render_items = [{\"docid\":\"0edfd38f-be2b-422f-b717-d27e5e6e718a\",\"root_ids\":[\"5035\"],\"roots\":{\"5035\":\"dc5580c1-6b61-4635-ab2d-d097a07768e0\"}}];\n",
       "    root.Bokeh.embed.embed_items_notebook(docs_json, render_items);\n",
       "  }\n",
       "  if (root.Bokeh !== undefined && root.Bokeh.Panel !== undefined) {\n",
       "    embed_document(root);\n",
       "  } else {\n",
       "    var attempts = 0;\n",
       "    var timer = setInterval(function(root) {\n",
       "      if (root.Bokeh !== undefined && root.Bokeh.Panel !== undefined) {\n",
       "        clearInterval(timer);\n",
       "        embed_document(root);\n",
       "      } else if (document.readyState == \"complete\") {\n",
       "        attempts++;\n",
       "        if (attempts > 200) {\n",
       "          clearInterval(timer);\n",
       "          console.log(\"Bokeh: ERROR: Unable to run BokehJS code because BokehJS library is missing\");\n",
       "        }\n",
       "      }\n",
       "    }, 25, root)\n",
       "  }\n",
       "})(window);</script>"
      ],
      "text/plain": [
       ":Curve   [Date]   (Search Trends)"
      ]
     },
     "execution_count": 122,
     "metadata": {
      "application/vnd.holoviews_exec.v0+json": {
       "id": "5035"
      }
     },
     "output_type": "execute_result"
    }
   ],
   "source": [
    "\n",
    "fig_march = meli_search_df.loc['2020-05'].hvplot(title= 'May 2020 Search Trend Data')\n",
    "fig_march"
   ]
  },
  {
   "cell_type": "markdown",
   "metadata": {},
   "source": [
    "### Interesting Spikes on May 5th \n",
    "The chart appears to be a stochastic process oscillating between ~10 and ~100 with reliable cyclicality. However, the data for **May 5th** seems elevated relative to the rest of the month. Let's see if the entire month was anomalous.\n",
    "\n",
    "### Compare May 2020 to Monthly Median\n"
   ]
  },
  {
   "cell_type": "code",
   "execution_count": 123,
   "metadata": {},
   "outputs": [
    {
     "name": "stdout",
     "output_type": "stream",
     "text": [
      "Median Google Search Traffic: 35201.0\n",
      "Total for May, 2020: 38181.0, an 8.47% increase in search traffic\n"
     ]
    }
   ],
   "source": [
    "#Group the data by year and month, so that we see a time series of years and months\n",
    "df_yr_mnth_group = meli_search_df.groupby(by=[meli_search_df.index.year, meli_search_df.index.month]).sum()\n",
    "my_median = df_yr_mnth_group.median()\n",
    "may_2020_total = float(df_yr_mnth_group.loc[(2020, 5)])\n",
    "print(f'Median Google Search Traffic: {float(my_median)}')\n",
    "print(f'Total for May, 2020: {may_2020_total}, an {round(float(((may_2020_total-my_median)/my_median)*100),2)}% increase in search traffic')"
   ]
  },
  {
   "cell_type": "markdown",
   "metadata": {},
   "source": [
    "## The month of May, 2020 brought a meaningful increase in our search traffic above the median\n",
    "We could use this data to aid our marketing team and our investor relations team coordinate SEO and other marketing efforts to drive search traffic towards our own press releases or paid sponsorship articles."
   ]
  },
  {
   "cell_type": "code",
   "execution_count": 90,
   "metadata": {},
   "outputs": [
    {
     "data": {
      "text/html": [
       "<div>\n",
       "<style scoped>\n",
       "    .dataframe tbody tr th:only-of-type {\n",
       "        vertical-align: middle;\n",
       "    }\n",
       "\n",
       "    .dataframe tbody tr th {\n",
       "        vertical-align: top;\n",
       "    }\n",
       "\n",
       "    .dataframe thead th {\n",
       "        text-align: right;\n",
       "    }\n",
       "</style>\n",
       "<table border=\"1\" class=\"dataframe\">\n",
       "  <thead>\n",
       "    <tr style=\"text-align: right;\">\n",
       "      <th></th>\n",
       "      <th></th>\n",
       "      <th>Search Trends</th>\n",
       "    </tr>\n",
       "    <tr>\n",
       "      <th>Date</th>\n",
       "      <th>Date</th>\n",
       "      <th></th>\n",
       "    </tr>\n",
       "  </thead>\n",
       "  <tbody>\n",
       "    <tr>\n",
       "      <th rowspan=\"7\" valign=\"top\">2016</th>\n",
       "      <th>6</th>\n",
       "      <td>33196</td>\n",
       "    </tr>\n",
       "    <tr>\n",
       "      <th>7</th>\n",
       "      <td>33898</td>\n",
       "    </tr>\n",
       "    <tr>\n",
       "      <th>8</th>\n",
       "      <td>34459</td>\n",
       "    </tr>\n",
       "    <tr>\n",
       "      <th>9</th>\n",
       "      <td>32376</td>\n",
       "    </tr>\n",
       "    <tr>\n",
       "      <th>10</th>\n",
       "      <td>32334</td>\n",
       "    </tr>\n",
       "    <tr>\n",
       "      <th>11</th>\n",
       "      <td>33793</td>\n",
       "    </tr>\n",
       "    <tr>\n",
       "      <th>12</th>\n",
       "      <td>33789</td>\n",
       "    </tr>\n",
       "    <tr>\n",
       "      <th rowspan=\"12\" valign=\"top\">2017</th>\n",
       "      <th>1</th>\n",
       "      <td>32984</td>\n",
       "    </tr>\n",
       "    <tr>\n",
       "      <th>2</th>\n",
       "      <td>31901</td>\n",
       "    </tr>\n",
       "    <tr>\n",
       "      <th>3</th>\n",
       "      <td>35363</td>\n",
       "    </tr>\n",
       "    <tr>\n",
       "      <th>4</th>\n",
       "      <td>32522</td>\n",
       "    </tr>\n",
       "    <tr>\n",
       "      <th>5</th>\n",
       "      <td>33216</td>\n",
       "    </tr>\n",
       "    <tr>\n",
       "      <th>6</th>\n",
       "      <td>34211</td>\n",
       "    </tr>\n",
       "    <tr>\n",
       "      <th>7</th>\n",
       "      <td>34988</td>\n",
       "    </tr>\n",
       "    <tr>\n",
       "      <th>8</th>\n",
       "      <td>36113</td>\n",
       "    </tr>\n",
       "    <tr>\n",
       "      <th>9</th>\n",
       "      <td>33693</td>\n",
       "    </tr>\n",
       "    <tr>\n",
       "      <th>10</th>\n",
       "      <td>32842</td>\n",
       "    </tr>\n",
       "    <tr>\n",
       "      <th>11</th>\n",
       "      <td>35144</td>\n",
       "    </tr>\n",
       "    <tr>\n",
       "      <th>12</th>\n",
       "      <td>35420</td>\n",
       "    </tr>\n",
       "    <tr>\n",
       "      <th rowspan=\"12\" valign=\"top\">2018</th>\n",
       "      <th>1</th>\n",
       "      <td>37347</td>\n",
       "    </tr>\n",
       "    <tr>\n",
       "      <th>2</th>\n",
       "      <td>33748</td>\n",
       "    </tr>\n",
       "    <tr>\n",
       "      <th>3</th>\n",
       "      <td>36051</td>\n",
       "    </tr>\n",
       "    <tr>\n",
       "      <th>4</th>\n",
       "      <td>35283</td>\n",
       "    </tr>\n",
       "    <tr>\n",
       "      <th>5</th>\n",
       "      <td>35309</td>\n",
       "    </tr>\n",
       "    <tr>\n",
       "      <th>6</th>\n",
       "      <td>34115</td>\n",
       "    </tr>\n",
       "    <tr>\n",
       "      <th>7</th>\n",
       "      <td>35927</td>\n",
       "    </tr>\n",
       "    <tr>\n",
       "      <th>8</th>\n",
       "      <td>37012</td>\n",
       "    </tr>\n",
       "    <tr>\n",
       "      <th>9</th>\n",
       "      <td>34037</td>\n",
       "    </tr>\n",
       "    <tr>\n",
       "      <th>10</th>\n",
       "      <td>35879</td>\n",
       "    </tr>\n",
       "    <tr>\n",
       "      <th>11</th>\n",
       "      <td>34686</td>\n",
       "    </tr>\n",
       "    <tr>\n",
       "      <th>12</th>\n",
       "      <td>35245</td>\n",
       "    </tr>\n",
       "    <tr>\n",
       "      <th rowspan=\"12\" valign=\"top\">2019</th>\n",
       "      <th>1</th>\n",
       "      <td>38505</td>\n",
       "    </tr>\n",
       "    <tr>\n",
       "      <th>2</th>\n",
       "      <td>34129</td>\n",
       "    </tr>\n",
       "    <tr>\n",
       "      <th>3</th>\n",
       "      <td>37331</td>\n",
       "    </tr>\n",
       "    <tr>\n",
       "      <th>4</th>\n",
       "      <td>35505</td>\n",
       "    </tr>\n",
       "    <tr>\n",
       "      <th>5</th>\n",
       "      <td>34983</td>\n",
       "    </tr>\n",
       "    <tr>\n",
       "      <th>6</th>\n",
       "      <td>36120</td>\n",
       "    </tr>\n",
       "    <tr>\n",
       "      <th>7</th>\n",
       "      <td>37089</td>\n",
       "    </tr>\n",
       "    <tr>\n",
       "      <th>8</th>\n",
       "      <td>37540</td>\n",
       "    </tr>\n",
       "    <tr>\n",
       "      <th>9</th>\n",
       "      <td>35201</td>\n",
       "    </tr>\n",
       "    <tr>\n",
       "      <th>10</th>\n",
       "      <td>37212</td>\n",
       "    </tr>\n",
       "    <tr>\n",
       "      <th>11</th>\n",
       "      <td>36280</td>\n",
       "    </tr>\n",
       "    <tr>\n",
       "      <th>12</th>\n",
       "      <td>37825</td>\n",
       "    </tr>\n",
       "    <tr>\n",
       "      <th rowspan=\"9\" valign=\"top\">2020</th>\n",
       "      <th>1</th>\n",
       "      <td>39177</td>\n",
       "    </tr>\n",
       "    <tr>\n",
       "      <th>2</th>\n",
       "      <td>30838</td>\n",
       "    </tr>\n",
       "    <tr>\n",
       "      <th>3</th>\n",
       "      <td>24805</td>\n",
       "    </tr>\n",
       "    <tr>\n",
       "      <th>4</th>\n",
       "      <td>35229</td>\n",
       "    </tr>\n",
       "    <tr>\n",
       "      <th>5</th>\n",
       "      <td>38181</td>\n",
       "    </tr>\n",
       "    <tr>\n",
       "      <th>6</th>\n",
       "      <td>35758</td>\n",
       "    </tr>\n",
       "    <tr>\n",
       "      <th>7</th>\n",
       "      <td>35620</td>\n",
       "    </tr>\n",
       "    <tr>\n",
       "      <th>8</th>\n",
       "      <td>33530</td>\n",
       "    </tr>\n",
       "    <tr>\n",
       "      <th>9</th>\n",
       "      <td>8126</td>\n",
       "    </tr>\n",
       "  </tbody>\n",
       "</table>\n",
       "</div>"
      ],
      "text/plain": [
       "           Search Trends\n",
       "Date Date               \n",
       "2016 6             33196\n",
       "     7             33898\n",
       "     8             34459\n",
       "     9             32376\n",
       "     10            32334\n",
       "     11            33793\n",
       "     12            33789\n",
       "2017 1             32984\n",
       "     2             31901\n",
       "     3             35363\n",
       "     4             32522\n",
       "     5             33216\n",
       "     6             34211\n",
       "     7             34988\n",
       "     8             36113\n",
       "     9             33693\n",
       "     10            32842\n",
       "     11            35144\n",
       "     12            35420\n",
       "2018 1             37347\n",
       "     2             33748\n",
       "     3             36051\n",
       "     4             35283\n",
       "     5             35309\n",
       "     6             34115\n",
       "     7             35927\n",
       "     8             37012\n",
       "     9             34037\n",
       "     10            35879\n",
       "     11            34686\n",
       "     12            35245\n",
       "2019 1             38505\n",
       "     2             34129\n",
       "     3             37331\n",
       "     4             35505\n",
       "     5             34983\n",
       "     6             36120\n",
       "     7             37089\n",
       "     8             37540\n",
       "     9             35201\n",
       "     10            37212\n",
       "     11            36280\n",
       "     12            37825\n",
       "2020 1             39177\n",
       "     2             30838\n",
       "     3             24805\n",
       "     4             35229\n",
       "     5             38181\n",
       "     6             35758\n",
       "     7             35620\n",
       "     8             33530\n",
       "     9              8126"
      ]
     },
     "execution_count": 90,
     "metadata": {},
     "output_type": "execute_result"
    }
   ],
   "source": [
    "# Question for Cam-- the directions say:\n",
    "#  Calculate the TOTAL search traffic for the month (38181),\n",
    "#    and then compare the value to the monthly median across all months (44 - 57)\n",
    "#  Do we need to take May 2020 total traffic, and then compare that to the Median Totals (35172.5) of each month\n",
    "meli_search_df.groupby(by=[meli_search_df.index.year, meli_search_df.index.month]).sum()"
   ]
  },
  {
   "cell_type": "markdown",
   "metadata": {},
   "source": [
    "## Mine the Search Traffic Data for Seasonality\n",
    "Next we want to see if we can *track* and *predict* interest in the company to help our marketing team concentrate their efforts around more optimal hours and days of the week. To do this we'll very cimple plot a heat map. Along the x-axis you'll see the hour of the day (military time), and alond the y-axis you'll see the day of week"
   ]
  },
  {
   "cell_type": "code",
   "execution_count": 124,
   "metadata": {},
   "outputs": [
    {
     "data": {},
     "metadata": {},
     "output_type": "display_data"
    },
    {
     "data": {
      "application/vnd.holoviews_exec.v0+json": "",
      "text/html": [
       "<div id='5241'>\n",
       "\n",
       "\n",
       "\n",
       "\n",
       "\n",
       "  <div class=\"bk-root\" id=\"63e0f795-02b8-4b8c-94ca-b393cce4feb3\" data-root-id=\"5241\"></div>\n",
       "</div>\n",
       "<script type=\"application/javascript\">(function(root) {\n",
       "  function embed_document(root) {\n",
       "    var docs_json = {\"ebd3d98c-91fc-4ff5-b499-68af527bc897\":{\"defs\":[{\"extends\":null,\"module\":null,\"name\":\"ReactiveHTML1\",\"overrides\":[],\"properties\":[]},{\"extends\":null,\"module\":null,\"name\":\"FlexBox1\",\"overrides\":[],\"properties\":[{\"default\":\"flex-start\",\"kind\":null,\"name\":\"align_content\"},{\"default\":\"flex-start\",\"kind\":null,\"name\":\"align_items\"},{\"default\":\"row\",\"kind\":null,\"name\":\"flex_direction\"},{\"default\":\"wrap\",\"kind\":null,\"name\":\"flex_wrap\"},{\"default\":\"flex-start\",\"kind\":null,\"name\":\"justify_content\"}]},{\"extends\":null,\"module\":null,\"name\":\"TemplateActions1\",\"overrides\":[],\"properties\":[{\"default\":0,\"kind\":null,\"name\":\"open_modal\"},{\"default\":0,\"kind\":null,\"name\":\"close_modal\"}]},{\"extends\":null,\"module\":null,\"name\":\"MaterialTemplateActions1\",\"overrides\":[],\"properties\":[{\"default\":0,\"kind\":null,\"name\":\"open_modal\"},{\"default\":0,\"kind\":null,\"name\":\"close_modal\"}]}],\"roots\":{\"references\":[{\"attributes\":{\"high\":95.13636363636364,\"low\":5.572727272727272,\"nan_color\":\"white\",\"palette\":[\"#3a4cc0\",\"#3b4dc1\",\"#3c4fc3\",\"#3e51c4\",\"#3f53c6\",\"#4054c7\",\"#4156c9\",\"#4258ca\",\"#435acc\",\"#455bcd\",\"#465dcf\",\"#475fd0\",\"#4860d1\",\"#4962d3\",\"#4b64d4\",\"#4c66d6\",\"#4d67d7\",\"#4e69d8\",\"#506bda\",\"#516cdb\",\"#526edc\",\"#5370dd\",\"#5571de\",\"#5673e0\",\"#5775e1\",\"#5876e2\",\"#5a78e3\",\"#5b79e4\",\"#5c7be5\",\"#5d7de6\",\"#5f7ee7\",\"#6080e8\",\"#6182ea\",\"#6383ea\",\"#6485eb\",\"#6586ec\",\"#6788ed\",\"#6889ee\",\"#698bef\",\"#6b8df0\",\"#6c8ef1\",\"#6d90f1\",\"#6f91f2\",\"#7093f3\",\"#7194f4\",\"#7395f4\",\"#7497f5\",\"#7598f6\",\"#779af6\",\"#789bf7\",\"#7a9df8\",\"#7b9ef8\",\"#7ca0f9\",\"#7ea1f9\",\"#7fa2fa\",\"#80a4fa\",\"#82a5fb\",\"#83a6fb\",\"#85a8fb\",\"#86a9fc\",\"#87aafc\",\"#89acfc\",\"#8aadfd\",\"#8baefd\",\"#8daffd\",\"#8eb1fd\",\"#90b2fe\",\"#91b3fe\",\"#92b4fe\",\"#94b5fe\",\"#95b7fe\",\"#97b8fe\",\"#98b9fe\",\"#99bafe\",\"#9bbbfe\",\"#9cbcfe\",\"#9dbdfe\",\"#9fbefe\",\"#a0bffe\",\"#a2c0fe\",\"#a3c1fe\",\"#a4c2fe\",\"#a6c3fd\",\"#a7c4fd\",\"#a8c5fd\",\"#aac6fd\",\"#abc7fc\",\"#acc8fc\",\"#aec9fc\",\"#afcafb\",\"#b0cbfb\",\"#b2cbfb\",\"#b3ccfa\",\"#b4cdfa\",\"#b6cef9\",\"#b7cff9\",\"#b8cff8\",\"#b9d0f8\",\"#bbd1f7\",\"#bcd1f6\",\"#bdd2f6\",\"#bed3f5\",\"#c0d3f5\",\"#c1d4f4\",\"#c2d4f3\",\"#c3d5f2\",\"#c5d5f2\",\"#c6d6f1\",\"#c7d6f0\",\"#c8d7ef\",\"#c9d7ee\",\"#cad8ee\",\"#ccd8ed\",\"#cdd9ec\",\"#ced9eb\",\"#cfd9ea\",\"#d0dae9\",\"#d1dae8\",\"#d2dae7\",\"#d3dbe6\",\"#d5dbe5\",\"#d6dbe4\",\"#d7dbe2\",\"#d8dbe1\",\"#d9dce0\",\"#dadcdf\",\"#dbdcde\",\"#dcdcdd\",\"#dddcdb\",\"#dedbda\",\"#dfdbd9\",\"#e0dad7\",\"#e1dad6\",\"#e2d9d4\",\"#e3d9d3\",\"#e4d8d1\",\"#e5d8d0\",\"#e6d7cf\",\"#e7d6cd\",\"#e7d6cc\",\"#e8d5ca\",\"#e9d4c9\",\"#ead3c7\",\"#ebd3c6\",\"#ecd2c4\",\"#ecd1c3\",\"#edd0c1\",\"#edcfc0\",\"#eecfbe\",\"#efcebc\",\"#efcdbb\",\"#f0ccb9\",\"#f1cbb8\",\"#f1cab6\",\"#f2c9b5\",\"#f2c8b3\",\"#f2c7b2\",\"#f3c6b0\",\"#f3c5af\",\"#f4c4ad\",\"#f4c3ab\",\"#f4c2aa\",\"#f5c1a8\",\"#f5c0a7\",\"#f5bfa5\",\"#f6bda4\",\"#f6bca2\",\"#f6bba0\",\"#f6ba9f\",\"#f6b99d\",\"#f6b79c\",\"#f6b69a\",\"#f7b598\",\"#f7b397\",\"#f7b295\",\"#f7b194\",\"#f7b092\",\"#f7ae91\",\"#f7ad8f\",\"#f6ab8d\",\"#f6aa8c\",\"#f6a98a\",\"#f6a789\",\"#f6a687\",\"#f6a486\",\"#f6a384\",\"#f5a182\",\"#f5a081\",\"#f59e7f\",\"#f49d7e\",\"#f49b7c\",\"#f49a7b\",\"#f39879\",\"#f39678\",\"#f39576\",\"#f29375\",\"#f29173\",\"#f19072\",\"#f18e70\",\"#f08d6f\",\"#f08b6d\",\"#ef896c\",\"#ee876a\",\"#ee8669\",\"#ed8467\",\"#ec8266\",\"#ec8064\",\"#eb7f63\",\"#ea7d61\",\"#ea7b60\",\"#e9795e\",\"#e8775d\",\"#e7755c\",\"#e6745a\",\"#e67259\",\"#e57057\",\"#e46e56\",\"#e36c54\",\"#e26a53\",\"#e16852\",\"#e06650\",\"#df644f\",\"#de624e\",\"#dd604c\",\"#dc5e4b\",\"#db5c4a\",\"#da5a48\",\"#d95847\",\"#d85646\",\"#d75444\",\"#d65243\",\"#d44f42\",\"#d34d40\",\"#d24b3f\",\"#d1493e\",\"#cf463d\",\"#ce443c\",\"#cd423a\",\"#cc3f39\",\"#ca3d38\",\"#c93b37\",\"#c83835\",\"#c63534\",\"#c53233\",\"#c43032\",\"#c22d31\",\"#c12a30\",\"#bf282e\",\"#be232d\",\"#bc1f2c\",\"#bb1a2b\",\"#b9162a\",\"#b81129\",\"#b60d28\",\"#b50827\",\"#b30326\"]},\"id\":\"5276\",\"type\":\"LinearColorMapper\"},{\"attributes\":{\"fill_alpha\":{\"value\":0.2},\"fill_color\":{\"field\":\"zvalues\",\"transform\":{\"id\":\"5276\"}},\"hatch_alpha\":{\"value\":0.2},\"height\":{\"field\":\"height\"},\"line_alpha\":{\"value\":0},\"line_color\":{\"value\":\"#1f77b4\"},\"width\":{\"field\":\"width\"},\"x\":{\"field\":\"index_full_stop_hour\"},\"y\":{\"field\":\"index_full_stop_dayofweek\"}},\"id\":\"5283\",\"type\":\"Rect\"},{\"attributes\":{\"axis\":{\"id\":\"5259\"},\"coordinates\":null,\"dimension\":1,\"grid_line_color\":null,\"group\":null,\"ticker\":null},\"id\":\"5262\",\"type\":\"Grid\"},{\"attributes\":{\"end\":23.5,\"reset_end\":23.5,\"reset_start\":-0.5,\"start\":-0.5,\"tags\":[[[\"index.hour\",\"index.hour\",null]]]},\"id\":\"5243\",\"type\":\"Range1d\"},{\"attributes\":{},\"id\":\"5256\",\"type\":\"BasicTicker\"},{\"attributes\":{},\"id\":\"5289\",\"type\":\"BasicTickFormatter\"},{\"attributes\":{\"tools\":[{\"id\":\"5245\"},{\"id\":\"5263\"},{\"id\":\"5264\"},{\"id\":\"5265\"},{\"id\":\"5266\"},{\"id\":\"5267\"}]},\"id\":\"5269\",\"type\":\"Toolbar\"},{\"attributes\":{\"data\":{\"Search_Trends\":[\"86.905\",\"94.918\",\"92.48\",\"91.405\",\"89.805\",\"84.455\",\"78.327\",\"81.968\",\"90.178\",\"88.45\",\"87.191\",\"85.827\",\"81.491\",\"75.814\",\"74.477\",\"80.68\",\"79.259\",\"78.364\",\"77.323\",\"74.582\",\"70.241\",\"60.727\",\"63.539\",\"62.941\",\"62.218\",\"61.864\",\"62.064\",\"60.2\",\"42.368\",\"43.329\",\"42.927\",\"42.718\",\"43.027\",\"45.459\",\"46.05\",\"25.295\",\"25.027\",\"24.786\",\"24.941\",\"25.309\",\"28.645\",\"30.755\",\"13.377\",\"13.224\",\"13.095\",\"13.241\",\"13.55\",\"16.441\",\"18.255\",\"7.6727\",\"7.6438\",\"7.5455\",\"7.7091\",\"7.9273\",\"9.6136\",\"10.468\",\"5.5727\",\"5.9361\",\"5.8909\",\"5.9636\",\"6.1455\",\"6.7682\",\"6.7591\",\"6.7955\",\"7.7808\",\"7.8591\",\"7.9364\",\"8.0909\",\"7.2591\",\"5.9955\",\"12.023\",\"14.014\",\"14.25\",\"14.25\",\"14.409\",\"11.686\",\"8.3682\",\"22.2\",\"24.927\",\"25.214\",\"25.264\",\"25.182\",\"20.35\",\"14.691\",\"34.059\",\"36.379\",\"36.786\",\"36.668\",\"36.591\",\"30.505\",\"23.373\",\"43.036\",\"44.251\",\"44.786\",\"44.527\",\"44.373\",\"38.968\",\"31.786\",\"50.109\",\"50.557\",\"50.95\",\"50.414\",\"50.036\",\"44.491\",\"38.268\",\"54.568\",\"54.489\",\"54.591\",\"53.886\",\"53.264\",\"47.595\",\"42.332\",\"56.595\",\"56.32\",\"56.3\",\"55.595\",\"54.564\",\"49.423\",\"44.636\",\"59.541\",\"59.009\",\"58.836\",\"58.264\",\"57.014\",\"51.105\",\"46.995\",\"61.65\",\"60.721\",\"60.791\",\"60.486\",\"59.191\",\"51.973\",\"48.868\",\"63.891\",\"62.785\",\"62.559\",\"62.5\",\"61.127\",\"53.045\",\"50.609\",\"67.527\",\"66.059\",\"65.577\",\"65.464\",\"63.159\",\"55.841\",\"54.859\",\"75.445\",\"73.689\",\"72.973\",\"71.936\",\"68.441\",\"62.15\",\"63.873\",\"87.441\",\"85.598\",\"84.336\",\"82.473\",\"77.186\",\"71.191\",\"77.073\",\"95.136\",\"93.005\",\"91.818\",\"89.514\",\"83.645\",\"77.827\",\"86.786\"],\"height\":{\"__ndarray__\":\"AAAAAAAA8D8AAAAAAADwPwAAAAAAAPA/AAAAAAAA8D8AAAAAAADwPwAAAAAAAPA/AAAAAAAA8D8AAAAAAADwPwAAAAAAAPA/AAAAAAAA8D8AAAAAAADwPwAAAAAAAPA/AAAAAAAA8D8AAAAAAADwPwAAAAAAAPA/AAAAAAAA8D8AAAAAAADwPwAAAAAAAPA/AAAAAAAA8D8AAAAAAADwPwAAAAAAAPA/AAAAAAAA8D8AAAAAAADwPwAAAAAAAPA/AAAAAAAA8D8AAAAAAADwPwAAAAAAAPA/AAAAAAAA8D8AAAAAAADwPwAAAAAAAPA/AAAAAAAA8D8AAAAAAADwPwAAAAAAAPA/AAAAAAAA8D8AAAAAAADwPwAAAAAAAPA/AAAAAAAA8D8AAAAAAADwPwAAAAAAAPA/AAAAAAAA8D8AAAAAAADwPwAAAAAAAPA/AAAAAAAA8D8AAAAAAADwPwAAAAAAAPA/AAAAAAAA8D8AAAAAAADwPwAAAAAAAPA/AAAAAAAA8D8AAAAAAADwPwAAAAAAAPA/AAAAAAAA8D8AAAAAAADwPwAAAAAAAPA/AAAAAAAA8D8AAAAAAADwPwAAAAAAAPA/AAAAAAAA8D8AAAAAAADwPwAAAAAAAPA/AAAAAAAA8D8AAAAAAADwPwAAAAAAAPA/AAAAAAAA8D8AAAAAAADwPwAAAAAAAPA/AAAAAAAA8D8AAAAAAADwPwAAAAAAAPA/AAAAAAAA8D8AAAAAAADwPwAAAAAAAPA/AAAAAAAA8D8AAAAAAADwPwAAAAAAAPA/AAAAAAAA8D8AAAAAAADwPwAAAAAAAPA/AAAAAAAA8D8AAAAAAADwPwAAAAAAAPA/AAAAAAAA8D8AAAAAAADwPwAAAAAAAPA/AAAAAAAA8D8AAAAAAADwPwAAAAAAAPA/AAAAAAAA8D8AAAAAAADwPwAAAAAAAPA/AAAAAAAA8D8AAAAAAADwPwAAAAAAAPA/AAAAAAAA8D8AAAAAAADwPwAAAAAAAPA/AAAAAAAA8D8AAAAAAADwPwAAAAAAAPA/AAAAAAAA8D8AAAAAAADwPwAAAAAAAPA/AAAAAAAA8D8AAAAAAADwPwAAAAAAAPA/AAAAAAAA8D8AAAAAAADwPwAAAAAAAPA/AAAAAAAA8D8AAAAAAADwPwAAAAAAAPA/AAAAAAAA8D8AAAAAAADwPwAAAAAAAPA/AAAAAAAA8D8AAAAAAADwPwAAAAAAAPA/AAAAAAAA8D8AAAAAAADwPwAAAAAAAPA/AAAAAAAA8D8AAAAAAADwPwAAAAAAAPA/AAAAAAAA8D8AAAAAAADwPwAAAAAAAPA/AAAAAAAA8D8AAAAAAADwPwAAAAAAAPA/AAAAAAAA8D8AAAAAAADwPwAAAAAAAPA/AAAAAAAA8D8AAAAAAADwPwAAAAAAAPA/AAAAAAAA8D8AAAAAAADwPwAAAAAAAPA/AAAAAAAA8D8AAAAAAADwPwAAAAAAAPA/AAAAAAAA8D8AAAAAAADwPwAAAAAAAPA/AAAAAAAA8D8AAAAAAADwPwAAAAAAAPA/AAAAAAAA8D8AAAAAAADwPwAAAAAAAPA/AAAAAAAA8D8AAAAAAADwPwAAAAAAAPA/AAAAAAAA8D8AAAAAAADwPwAAAAAAAPA/AAAAAAAA8D8AAAAAAADwPwAAAAAAAPA/AAAAAAAA8D8AAAAAAADwPwAAAAAAAPA/AAAAAAAA8D8AAAAAAADwPwAAAAAAAPA/AAAAAAAA8D8AAAAAAADwPwAAAAAAAPA/\",\"dtype\":\"float64\",\"order\":\"little\",\"shape\":[168]},\"index_full_stop_dayofweek\":[0,1,2,3,4,5,6,0,1,2,3,4,5,6,0,1,2,3,4,5,6,0,1,2,3,4,5,6,0,1,2,3,4,5,6,0,1,2,3,4,5,6,0,1,2,3,4,5,6,0,1,2,3,4,5,6,0,1,2,3,4,5,6,0,1,2,3,4,5,6,0,1,2,3,4,5,6,0,1,2,3,4,5,6,0,1,2,3,4,5,6,0,1,2,3,4,5,6,0,1,2,3,4,5,6,0,1,2,3,4,5,6,0,1,2,3,4,5,6,0,1,2,3,4,5,6,0,1,2,3,4,5,6,0,1,2,3,4,5,6,0,1,2,3,4,5,6,0,1,2,3,4,5,6,0,1,2,3,4,5,6,0,1,2,3,4,5,6],\"index_full_stop_hour\":[0,0,0,0,0,0,0,1,1,1,1,1,1,1,2,2,2,2,2,2,2,3,3,3,3,3,3,3,4,4,4,4,4,4,4,5,5,5,5,5,5,5,6,6,6,6,6,6,6,7,7,7,7,7,7,7,8,8,8,8,8,8,8,9,9,9,9,9,9,9,10,10,10,10,10,10,10,11,11,11,11,11,11,11,12,12,12,12,12,12,12,13,13,13,13,13,13,13,14,14,14,14,14,14,14,15,15,15,15,15,15,15,16,16,16,16,16,16,16,17,17,17,17,17,17,17,18,18,18,18,18,18,18,19,19,19,19,19,19,19,20,20,20,20,20,20,20,21,21,21,21,21,21,21,22,22,22,22,22,22,22,23,23,23,23,23,23,23],\"width\":{\"__ndarray__\":\"AAAAAAAA8D8AAAAAAADwPwAAAAAAAPA/AAAAAAAA8D8AAAAAAADwPwAAAAAAAPA/AAAAAAAA8D8AAAAAAADwPwAAAAAAAPA/AAAAAAAA8D8AAAAAAADwPwAAAAAAAPA/AAAAAAAA8D8AAAAAAADwPwAAAAAAAPA/AAAAAAAA8D8AAAAAAADwPwAAAAAAAPA/AAAAAAAA8D8AAAAAAADwPwAAAAAAAPA/AAAAAAAA8D8AAAAAAADwPwAAAAAAAPA/AAAAAAAA8D8AAAAAAADwPwAAAAAAAPA/AAAAAAAA8D8AAAAAAADwPwAAAAAAAPA/AAAAAAAA8D8AAAAAAADwPwAAAAAAAPA/AAAAAAAA8D8AAAAAAADwPwAAAAAAAPA/AAAAAAAA8D8AAAAAAADwPwAAAAAAAPA/AAAAAAAA8D8AAAAAAADwPwAAAAAAAPA/AAAAAAAA8D8AAAAAAADwPwAAAAAAAPA/AAAAAAAA8D8AAAAAAADwPwAAAAAAAPA/AAAAAAAA8D8AAAAAAADwPwAAAAAAAPA/AAAAAAAA8D8AAAAAAADwPwAAAAAAAPA/AAAAAAAA8D8AAAAAAADwPwAAAAAAAPA/AAAAAAAA8D8AAAAAAADwPwAAAAAAAPA/AAAAAAAA8D8AAAAAAADwPwAAAAAAAPA/AAAAAAAA8D8AAAAAAADwPwAAAAAAAPA/AAAAAAAA8D8AAAAAAADwPwAAAAAAAPA/AAAAAAAA8D8AAAAAAADwPwAAAAAAAPA/AAAAAAAA8D8AAAAAAADwPwAAAAAAAPA/AAAAAAAA8D8AAAAAAADwPwAAAAAAAPA/AAAAAAAA8D8AAAAAAADwPwAAAAAAAPA/AAAAAAAA8D8AAAAAAADwPwAAAAAAAPA/AAAAAAAA8D8AAAAAAADwPwAAAAAAAPA/AAAAAAAA8D8AAAAAAADwPwAAAAAAAPA/AAAAAAAA8D8AAAAAAADwPwAAAAAAAPA/AAAAAAAA8D8AAAAAAADwPwAAAAAAAPA/AAAAAAAA8D8AAAAAAADwPwAAAAAAAPA/AAAAAAAA8D8AAAAAAADwPwAAAAAAAPA/AAAAAAAA8D8AAAAAAADwPwAAAAAAAPA/AAAAAAAA8D8AAAAAAADwPwAAAAAAAPA/AAAAAAAA8D8AAAAAAADwPwAAAAAAAPA/AAAAAAAA8D8AAAAAAADwPwAAAAAAAPA/AAAAAAAA8D8AAAAAAADwPwAAAAAAAPA/AAAAAAAA8D8AAAAAAADwPwAAAAAAAPA/AAAAAAAA8D8AAAAAAADwPwAAAAAAAPA/AAAAAAAA8D8AAAAAAADwPwAAAAAAAPA/AAAAAAAA8D8AAAAAAADwPwAAAAAAAPA/AAAAAAAA8D8AAAAAAADwPwAAAAAAAPA/AAAAAAAA8D8AAAAAAADwPwAAAAAAAPA/AAAAAAAA8D8AAAAAAADwPwAAAAAAAPA/AAAAAAAA8D8AAAAAAADwPwAAAAAAAPA/AAAAAAAA8D8AAAAAAADwPwAAAAAAAPA/AAAAAAAA8D8AAAAAAADwPwAAAAAAAPA/AAAAAAAA8D8AAAAAAADwPwAAAAAAAPA/AAAAAAAA8D8AAAAAAADwPwAAAAAAAPA/AAAAAAAA8D8AAAAAAADwPwAAAAAAAPA/AAAAAAAA8D8AAAAAAADwPwAAAAAAAPA/AAAAAAAA8D8AAAAAAADwPwAAAAAAAPA/AAAAAAAA8D8AAAAAAADwPwAAAAAAAPA/AAAAAAAA8D8AAAAAAADwPwAAAAAAAPA/\",\"dtype\":\"float64\",\"order\":\"little\",\"shape\":[168]},\"zvalues\":{\"__ndarray__\":\"KkGeEuS5VUCsV69evbpXQGSynmOyHldAKkGeEuTZVkDD2jesfXNWQF100UUXHVVAlSBPCfKUU0AOa9+w9n1UQLZs2bJli1ZAzczMzMwcVkCsfcPaN8xVQJUgTwnydFVA37D2DWtfVEDkKUGeEvRSQC+66KKLnlJAucbiGosrVEAhTwnylNBTQBdddNFFl1NABXlKkKdUU0AlyFOCPKVSQN+w9g1rj1FAXXTRRRddTkBP9D3R98RPQFj7hrVveE9AHNa+Ye0bT0Avuuiii+5OQMhTgjwlCE9AmpmZmZkZTkBPCfKUIC9FQKFChQoVqkVA9w1r37B2RUAc1r5h7VtFQMPaN6x9g0VA2zesfcO6RkBmZmZmZgZHQIwuuuiiSzlAcODAgQMHOUAJ8pQgT8k4QLH2DWvf8DhATwnylCBPOUAlyFOCPKU8QEGeEuQpwT5AQZ4S5CnBKkApp6OcjnIqQLH2DWvfMCpA+4a1b1h7KkCamZmZmRkrQLH2DWvfcDBAQZ4S5ClBMkCx9g1r37AeQDVp0qRJkx5AL7rooosuHkDWvmHtG9YeQLZvWPuGtR9Auuiiiy46I0BwWPuGte8kQEqQpwR5ShZA6Xui74m+F0CQpwR5SpAXQNs3rH3D2hdAlSBPCfKUGEAT5ClBnhIbQAnylCBPCRtAL7rooosuG0D58ePHjx8fQHBY+4a1bx9Av2HtG9a+H0Avuuiiiy4gQAnylCBPCR1A+4a1b1j7F0CMLrroogsoQHDgwIEDByxAAAAAAACALEAAAAAAAIAsQNFFF1100SxA37D2DWtfJ0A9JchTgrwgQDMzMzMzMzZA1f5S+0vtOED3DWvfsDY5QMPaN6x9QzlAL7rooosuOUCamZmZmVk0QGLtG9a+YS1AqAR5SpAHQUAIuyDsgjBCQAV5SpCnZEJAtm9Y+4ZVQkCMLrrooktCQEGeEuQpgT5A37D2DWtfN0AFeUqQp4RFQAJaCWglIEZABXlKkKdkRkDD2jesfUNGQHBY+4a1L0ZAHNa+Ye17Q0AJ8pQgT8k/QA5r37D2DUlAdZTTUU5HSUCamZmZmXlJQJUgTwnyNElABXlKkKcESUC/Ye0b1j5GQII8JchTIkNA6aKLLrpIS0Dpe6LviT5LQIwuuuiiS0tA0UUXXXTxSkBi7RvWvqFKQKx9w9o3zEdASpCnBHkqRUCsfcPaN0xMQI9yOsrpKExAZmZmZmYmTECsfcPaN8xLQMhTgjwlSEtA1r5h7Ru2SEDRRRdddFFGQCXIU4I8xU1AE9BKQCuBTUBr37D2DWtNQGLtG9a+IU1AYu0b1r6BTEDtG9a+YY1JQN+w9g1rf0dAMzMzMzPTTkDGNRbXWFxOQCXIU4I8ZU5AnhLkKUE+TkBY+4a1b5hNQD0lyFOC/ElATwnylCBvSEDylCBPCfJPQEjmIZmHZE9AqAR5SpBHT0AAAAAAAEBPQJCnBHlKkE5ARhdddNGFSkAOa9+w9k1JQGLtG9a+4VBAPSTzkMyDUECVIE8J8mRQQH7D2jesXVBAdNFFF12UT0CMLrrooutLQA5r37D2bUtAPSXIU4LcUkDCLgi7IGxSQJ4S5ClBPlJAHNa+Ye37UUCsfcPaNxxRQDMzMzMzE09AcFj7hrXvT0CsfcPaN9xVQGUeknlIZlVAtm9Y+4YVVUCeEuQpQZ5UQBzWvmHtS1NArH3D2jfMUUAFeUqQp0RTQOmiiy66yFdABbQS0EpAV0B00UUXXfRWQLH2DWvfYFZACfKUIE/pVECVIE8J8nRTQII8JchTslVA\",\"dtype\":\"float64\",\"order\":\"little\",\"shape\":[168]}},\"selected\":{\"id\":\"5278\"},\"selection_policy\":{\"id\":\"5302\"}},\"id\":\"5277\",\"type\":\"ColumnDataSource\"},{\"attributes\":{},\"id\":\"5290\",\"type\":\"AllLabels\"},{\"attributes\":{\"children\":[{\"id\":\"5242\"},{\"id\":\"5246\"},{\"id\":\"5316\"}],\"margin\":[0,0,0,0],\"name\":\"Row07363\",\"tags\":[\"embedded\"]},\"id\":\"5241\",\"type\":\"Row\"},{\"attributes\":{\"bottom_units\":\"screen\",\"coordinates\":null,\"fill_alpha\":0.5,\"fill_color\":\"lightgrey\",\"group\":null,\"left_units\":\"screen\",\"level\":\"overlay\",\"line_alpha\":1.0,\"line_color\":\"black\",\"line_dash\":[4,4],\"line_width\":2,\"right_units\":\"screen\",\"syncable\":false,\"top_units\":\"screen\"},\"id\":\"5268\",\"type\":\"BoxAnnotation\"},{\"attributes\":{\"coordinates\":null,\"group\":null,\"text\":\"Daily HeatMap by Hour\",\"text_color\":\"black\",\"text_font_size\":\"12pt\"},\"id\":\"5247\",\"type\":\"Title\"},{\"attributes\":{},\"id\":\"5263\",\"type\":\"SaveTool\"},{\"attributes\":{},\"id\":\"5292\",\"type\":\"BasicTickFormatter\"},{\"attributes\":{},\"id\":\"5264\",\"type\":\"PanTool\"},{\"attributes\":{\"fill_color\":{\"field\":\"zvalues\",\"transform\":{\"id\":\"5276\"}},\"height\":{\"field\":\"height\"},\"line_alpha\":{\"value\":0},\"line_color\":{\"value\":\"#1f77b4\"},\"width\":{\"field\":\"width\"},\"x\":{\"field\":\"index_full_stop_hour\"},\"y\":{\"field\":\"index_full_stop_dayofweek\"}},\"id\":\"5280\",\"type\":\"Rect\"},{\"attributes\":{},\"id\":\"5267\",\"type\":\"ResetTool\"},{\"attributes\":{},\"id\":\"5265\",\"type\":\"WheelZoomTool\"},{\"attributes\":{\"margin\":[5,5,5,5],\"name\":\"HSpacer07367\",\"sizing_mode\":\"stretch_width\"},\"id\":\"5242\",\"type\":\"Spacer\"},{\"attributes\":{\"coordinates\":null,\"data_source\":{\"id\":\"5277\"},\"glyph\":{\"id\":\"5280\"},\"group\":null,\"hover_glyph\":null,\"muted_glyph\":{\"id\":\"5283\"},\"nonselection_glyph\":{\"id\":\"5281\"},\"selection_glyph\":{\"id\":\"5282\"},\"view\":{\"id\":\"5285\"}},\"id\":\"5284\",\"type\":\"GlyphRenderer\"},{\"attributes\":{\"overlay\":{\"id\":\"5268\"}},\"id\":\"5266\",\"type\":\"BoxZoomTool\"},{\"attributes\":{\"below\":[{\"id\":\"5255\"}],\"center\":[{\"id\":\"5258\"},{\"id\":\"5262\"}],\"height\":300,\"left\":[{\"id\":\"5259\"}],\"margin\":[5,5,5,5],\"min_border_bottom\":10,\"min_border_left\":10,\"min_border_right\":10,\"min_border_top\":10,\"renderers\":[{\"id\":\"5284\"}],\"right\":[{\"id\":\"5287\"}],\"sizing_mode\":\"fixed\",\"title\":{\"id\":\"5247\"},\"toolbar\":{\"id\":\"5269\"},\"width\":700,\"x_range\":{\"id\":\"5243\"},\"x_scale\":{\"id\":\"5251\"},\"y_range\":{\"id\":\"5244\"},\"y_scale\":{\"id\":\"5253\"}},\"id\":\"5246\",\"subtype\":\"Figure\",\"type\":\"Plot\"},{\"attributes\":{},\"id\":\"5251\",\"type\":\"LinearScale\"},{\"attributes\":{\"fill_alpha\":{\"value\":0.1},\"fill_color\":{\"field\":\"zvalues\",\"transform\":{\"id\":\"5276\"}},\"hatch_alpha\":{\"value\":0.1},\"height\":{\"field\":\"height\"},\"line_alpha\":{\"value\":0},\"line_color\":{\"value\":\"#1f77b4\"},\"width\":{\"field\":\"width\"},\"x\":{\"field\":\"index_full_stop_hour\"},\"y\":{\"field\":\"index_full_stop_dayofweek\"}},\"id\":\"5281\",\"type\":\"Rect\"},{\"attributes\":{},\"id\":\"5293\",\"type\":\"AllLabels\"},{\"attributes\":{},\"id\":\"5260\",\"type\":\"BasicTicker\"},{\"attributes\":{},\"id\":\"5302\",\"type\":\"UnionRenderers\"},{\"attributes\":{},\"id\":\"5278\",\"type\":\"Selection\"},{\"attributes\":{\"callback\":null,\"renderers\":[{\"id\":\"5284\"}],\"tags\":[\"hv_created\"],\"tooltips\":[[\"index.hour\",\"@{index_full_stop_hour}\"],[\"index.dayofweek\",\"@{index_full_stop_dayofweek}\"],[\"Search Trends\",\"@{Search_Trends}\"]]},\"id\":\"5245\",\"type\":\"HoverTool\"},{\"attributes\":{},\"id\":\"5286\",\"type\":\"BasicTicker\"},{\"attributes\":{\"axis\":{\"id\":\"5255\"},\"coordinates\":null,\"grid_line_color\":null,\"group\":null,\"ticker\":null},\"id\":\"5258\",\"type\":\"Grid\"},{\"attributes\":{\"margin\":[5,5,5,5],\"name\":\"HSpacer07368\",\"sizing_mode\":\"stretch_width\"},\"id\":\"5316\",\"type\":\"Spacer\"},{\"attributes\":{\"fill_color\":{\"field\":\"zvalues\",\"transform\":{\"id\":\"5276\"}},\"height\":{\"field\":\"height\"},\"line_alpha\":{\"value\":0},\"line_color\":{\"value\":\"#1f77b4\"},\"width\":{\"field\":\"width\"},\"x\":{\"field\":\"index_full_stop_hour\"},\"y\":{\"field\":\"index_full_stop_dayofweek\"}},\"id\":\"5282\",\"type\":\"Rect\"},{\"attributes\":{\"bar_line_color\":\"black\",\"color_mapper\":{\"id\":\"5276\"},\"coordinates\":null,\"group\":null,\"label_standoff\":8,\"location\":[0,0],\"major_label_policy\":{\"id\":\"5298\"},\"major_tick_line_color\":\"black\",\"ticker\":{\"id\":\"5286\"}},\"id\":\"5287\",\"type\":\"ColorBar\"},{\"attributes\":{},\"id\":\"5253\",\"type\":\"LinearScale\"},{\"attributes\":{\"axis_label\":\"index.dayofweek\",\"coordinates\":null,\"formatter\":{\"id\":\"5292\"},\"group\":null,\"major_label_policy\":{\"id\":\"5293\"},\"ticker\":{\"id\":\"5260\"}},\"id\":\"5259\",\"type\":\"LinearAxis\"},{\"attributes\":{\"axis_label\":\"index.hour\",\"coordinates\":null,\"formatter\":{\"id\":\"5289\"},\"group\":null,\"major_label_policy\":{\"id\":\"5290\"},\"ticker\":{\"id\":\"5256\"}},\"id\":\"5255\",\"type\":\"LinearAxis\"},{\"attributes\":{},\"id\":\"5298\",\"type\":\"NoOverlap\"},{\"attributes\":{\"end\":6.5,\"reset_end\":6.5,\"reset_start\":-0.5,\"start\":-0.5,\"tags\":[[[\"index.dayofweek\",\"index.dayofweek\",null]]]},\"id\":\"5244\",\"type\":\"Range1d\"},{\"attributes\":{\"source\":{\"id\":\"5277\"}},\"id\":\"5285\",\"type\":\"CDSView\"}],\"root_ids\":[\"5241\"]},\"title\":\"Bokeh Application\",\"version\":\"2.4.2\"}};\n",
       "    var render_items = [{\"docid\":\"ebd3d98c-91fc-4ff5-b499-68af527bc897\",\"root_ids\":[\"5241\"],\"roots\":{\"5241\":\"63e0f795-02b8-4b8c-94ca-b393cce4feb3\"}}];\n",
       "    root.Bokeh.embed.embed_items_notebook(docs_json, render_items);\n",
       "  }\n",
       "  if (root.Bokeh !== undefined && root.Bokeh.Panel !== undefined) {\n",
       "    embed_document(root);\n",
       "  } else {\n",
       "    var attempts = 0;\n",
       "    var timer = setInterval(function(root) {\n",
       "      if (root.Bokeh !== undefined && root.Bokeh.Panel !== undefined) {\n",
       "        clearInterval(timer);\n",
       "        embed_document(root);\n",
       "      } else if (document.readyState == \"complete\") {\n",
       "        attempts++;\n",
       "        if (attempts > 200) {\n",
       "          clearInterval(timer);\n",
       "          console.log(\"Bokeh: ERROR: Unable to run BokehJS code because BokehJS library is missing\");\n",
       "        }\n",
       "      }\n",
       "    }, 25, root)\n",
       "  }\n",
       "})(window);</script>"
      ],
      "text/plain": [
       ":HeatMap   [index.hour,index.dayofweek]   (Search Trends)"
      ]
     },
     "execution_count": 124,
     "metadata": {
      "application/vnd.holoviews_exec.v0+json": {
       "id": "5241"
      }
     },
     "output_type": "execute_result"
    }
   ],
   "source": [
    "# Plot a heat map with the hour as X and the Day of week as Y\n",
    "meli_search_df.hvplot.heatmap(\n",
    "    title = 'Daily HeatMap by Hour',\n",
    "    x='index.hour',\n",
    "    y='index.dayofweek',\n",
    "    C= 'Search Trends',\n",
    "    cmap= 'coolwarm'\n",
    ").aggregate(function=np.mean)"
   ]
  },
  {
   "cell_type": "markdown",
   "metadata": {},
   "source": [
    "## Tuesday-Thursday "
   ]
  },
  {
   "cell_type": "code",
   "execution_count": 149,
   "metadata": {},
   "outputs": [
    {
     "name": "stderr",
     "output_type": "stream",
     "text": [
      "C:\\Users\\Laramie\\anaconda3\\envs\\dev\\lib\\site-packages\\ipykernel_launcher.py:1: FutureWarning: weekofyear and week have been deprecated, please use DatetimeIndex.isocalendar().week instead, which returns a Series.  To exactly reproduce the behavior of week and weekofyear and return an Index, you may call pd.Int64Index(idx.isocalendar().week)\n",
      "  \"\"\"Entry point for launching an IPython kernel.\n"
     ]
    },
    {
     "data": {},
     "metadata": {},
     "output_type": "display_data"
    },
    {
     "data": {
      "application/vnd.holoviews_exec.v0+json": "",
      "text/html": [
       "<div id='7494'>\n",
       "\n",
       "\n",
       "\n",
       "\n",
       "\n",
       "  <div class=\"bk-root\" id=\"270d85ef-0b99-4481-8ccc-ee0f1d39fc97\" data-root-id=\"7494\"></div>\n",
       "</div>\n",
       "<script type=\"application/javascript\">(function(root) {\n",
       "  function embed_document(root) {\n",
       "    var docs_json = {\"acde41f6-6e82-44e4-8663-254e53fca44e\":{\"defs\":[{\"extends\":null,\"module\":null,\"name\":\"ReactiveHTML1\",\"overrides\":[],\"properties\":[]},{\"extends\":null,\"module\":null,\"name\":\"FlexBox1\",\"overrides\":[],\"properties\":[{\"default\":\"flex-start\",\"kind\":null,\"name\":\"align_content\"},{\"default\":\"flex-start\",\"kind\":null,\"name\":\"align_items\"},{\"default\":\"row\",\"kind\":null,\"name\":\"flex_direction\"},{\"default\":\"wrap\",\"kind\":null,\"name\":\"flex_wrap\"},{\"default\":\"flex-start\",\"kind\":null,\"name\":\"justify_content\"}]},{\"extends\":null,\"module\":null,\"name\":\"TemplateActions1\",\"overrides\":[],\"properties\":[{\"default\":0,\"kind\":null,\"name\":\"open_modal\"},{\"default\":0,\"kind\":null,\"name\":\"close_modal\"}]},{\"extends\":null,\"module\":null,\"name\":\"MaterialTemplateActions1\",\"overrides\":[],\"properties\":[{\"default\":0,\"kind\":null,\"name\":\"open_modal\"},{\"default\":0,\"kind\":null,\"name\":\"close_modal\"}]}],\"roots\":{\"references\":[{\"attributes\":{\"axis\":{\"id\":\"7508\"},\"coordinates\":null,\"grid_line_color\":null,\"group\":null,\"ticker\":null},\"id\":\"7511\",\"type\":\"Grid\"},{\"attributes\":{},\"id\":\"7513\",\"type\":\"BasicTicker\"},{\"attributes\":{},\"id\":\"7509\",\"type\":\"BasicTicker\"},{\"attributes\":{\"axis_label\":\"Search Trends\",\"coordinates\":null,\"formatter\":{\"id\":\"7533\"},\"group\":null,\"major_label_policy\":{\"id\":\"7534\"},\"ticker\":{\"id\":\"7513\"}},\"id\":\"7512\",\"type\":\"LinearAxis\"},{\"attributes\":{\"line_color\":\"#30a2da\",\"line_width\":2,\"x\":{\"field\":\"Date\"},\"y\":{\"field\":\"Search Trends\"}},\"id\":\"7543\",\"type\":\"Line\"},{\"attributes\":{\"axis\":{\"id\":\"7512\"},\"coordinates\":null,\"dimension\":1,\"grid_line_color\":null,\"group\":null,\"ticker\":null},\"id\":\"7515\",\"type\":\"Grid\"},{\"attributes\":{\"below\":[{\"id\":\"7508\"}],\"center\":[{\"id\":\"7511\"},{\"id\":\"7515\"}],\"height\":300,\"left\":[{\"id\":\"7512\"}],\"margin\":[5,5,5,5],\"min_border_bottom\":10,\"min_border_left\":10,\"min_border_right\":10,\"min_border_top\":10,\"renderers\":[{\"id\":\"7541\"},{\"id\":\"7546\"}],\"sizing_mode\":\"fixed\",\"title\":{\"id\":\"7500\"},\"toolbar\":{\"id\":\"7522\"},\"width\":700,\"x_range\":{\"id\":\"7496\"},\"x_scale\":{\"id\":\"7504\"},\"y_range\":{\"id\":\"7497\"},\"y_scale\":{\"id\":\"7506\"}},\"id\":\"7499\",\"subtype\":\"Figure\",\"type\":\"Plot\"},{\"attributes\":{\"margin\":[5,5,5,5],\"name\":\"HSpacer11688\",\"sizing_mode\":\"stretch_width\"},\"id\":\"7637\",\"type\":\"Spacer\"},{\"attributes\":{\"end\":52.0,\"reset_end\":52.0,\"reset_start\":1.0,\"start\":1.0,\"tags\":[[[\"Date\",\"Date\",null]]]},\"id\":\"7496\",\"type\":\"Range1d\"},{\"attributes\":{},\"id\":\"7554\",\"type\":\"UnionRenderers\"},{\"attributes\":{\"callback\":null,\"renderers\":[{\"id\":\"7541\"}],\"tags\":[\"hv_created\"],\"tooltips\":[[\"Date\",\"@{Date}\"],[\"Search Trends\",\"@{Search_Trends}\"]]},\"id\":\"7498\",\"type\":\"HoverTool\"},{\"attributes\":{\"axis_label\":\"Date\",\"coordinates\":null,\"formatter\":{\"id\":\"7530\"},\"group\":null,\"major_label_policy\":{\"id\":\"7531\"},\"ticker\":{\"id\":\"7509\"}},\"id\":\"7508\",\"type\":\"LinearAxis\"},{\"attributes\":{\"coordinates\":null,\"group\":null,\"level\":\"glyph\",\"line_color\":\"orange\",\"line_dash\":[6],\"line_width\":2.0,\"location\":48.169940476190476},\"id\":\"7546\",\"type\":\"Span\"},{\"attributes\":{\"tools\":[{\"id\":\"7498\"},{\"id\":\"7516\"},{\"id\":\"7517\"},{\"id\":\"7518\"},{\"id\":\"7519\"},{\"id\":\"7520\"}]},\"id\":\"7522\",\"type\":\"Toolbar\"},{\"attributes\":{},\"id\":\"7530\",\"type\":\"BasicTickFormatter\"},{\"attributes\":{\"bottom_units\":\"screen\",\"coordinates\":null,\"fill_alpha\":0.5,\"fill_color\":\"lightgrey\",\"group\":null,\"left_units\":\"screen\",\"level\":\"overlay\",\"line_alpha\":1.0,\"line_color\":\"black\",\"line_dash\":[4,4],\"line_width\":2,\"right_units\":\"screen\",\"syncable\":false,\"top_units\":\"screen\"},\"id\":\"7521\",\"type\":\"BoxAnnotation\"},{\"attributes\":{\"source\":{\"id\":\"7535\"}},\"id\":\"7542\",\"type\":\"CDSView\"},{\"attributes\":{},\"id\":\"7516\",\"type\":\"SaveTool\"},{\"attributes\":{},\"id\":\"7517\",\"type\":\"PanTool\"},{\"attributes\":{},\"id\":\"7520\",\"type\":\"ResetTool\"},{\"attributes\":{},\"id\":\"7534\",\"type\":\"AllLabels\"},{\"attributes\":{},\"id\":\"7531\",\"type\":\"AllLabels\"},{\"attributes\":{},\"id\":\"7518\",\"type\":\"WheelZoomTool\"},{\"attributes\":{\"line_alpha\":0.2,\"line_color\":\"#30a2da\",\"line_width\":2,\"x\":{\"field\":\"Date\"},\"y\":{\"field\":\"Search Trends\"}},\"id\":\"7540\",\"type\":\"Line\"},{\"attributes\":{},\"id\":\"7533\",\"type\":\"BasicTickFormatter\"},{\"attributes\":{},\"id\":\"7536\",\"type\":\"Selection\"},{\"attributes\":{\"overlay\":{\"id\":\"7521\"}},\"id\":\"7519\",\"type\":\"BoxZoomTool\"},{\"attributes\":{\"end\":51.47306547619048,\"reset_end\":51.47306547619048,\"reset_start\":43.8141369047619,\"start\":43.8141369047619,\"tags\":[[[\"Search Trends\",\"Search Trends\",null]]]},\"id\":\"7497\",\"type\":\"Range1d\"},{\"attributes\":{\"coordinates\":null,\"data_source\":{\"id\":\"7535\"},\"glyph\":{\"id\":\"7538\"},\"group\":null,\"hover_glyph\":null,\"muted_glyph\":{\"id\":\"7540\"},\"nonselection_glyph\":{\"id\":\"7539\"},\"selection_glyph\":{\"id\":\"7543\"},\"view\":{\"id\":\"7542\"}},\"id\":\"7541\",\"type\":\"GlyphRenderer\"},{\"attributes\":{},\"id\":\"7504\",\"type\":\"LinearScale\"},{\"attributes\":{\"data\":{\"Date\":[1,2,3,4,5,6,7,8,9,10,11,12,13,14,15,16,17,18,19,20,21,22,23,24,25,26,27,28,29,30,31,32,33,34,35,36,37,38,39,40,41,42,43,44,45,46,47,48,49,50,51,52],\"Search Trends\":{\"__ndarray__\":\"JUmSJEl2RkBiGIZhGApJQAzDMAzDPElAbtu2bdtqSUBu27Zt2wpJQBiGYRiGDUlASZIkSZIUSUDbtm3btmFJQGtxE+Z3tUhAchzHcRxnSEBw+ZZv+e5IQJ7neZ7naUhAkiRJkiSNR0B6nud5nm9IQLdt27Zt20dA27Zt27bhR0AMwzAMw3BIQPQ8z/M8z0dAep7neZ6vRkAlSZIkSeJHQFVVVVVV5UdAwgcffPCRSEBYfMVXfDVIQHqe53meJ0hAOIETOIETSEBiGIZhGMZHQGQ/9mM/xkdAFDiBEzjxR0A9z/M8z+NHQIQ6qIM6uEdAvuIrvuILSEAg+7Ef+0FIQKM1WqM1mkhAERERERGRSECe53me5zlGQJBJ8QKZpEdAz/M8z/PsR0D0PM/zPNtGQM/zPM/zHEhASZIkSZKYR0C3bdu2bedGQJIkSZIkqUZAep7neZ4/R0AAAAAAABhIQM/zPM/zwEdAJUmSJEn+R0AYhmEYhr1IQG7btm3bokhAnud5nud5SED0PM/zPKtIQHqe53me30hADMMwDMNURkA=\",\"dtype\":\"float64\",\"order\":\"little\",\"shape\":[52]},\"Search_Trends\":{\"__ndarray__\":\"JUmSJEl2RkBiGIZhGApJQAzDMAzDPElAbtu2bdtqSUBu27Zt2wpJQBiGYRiGDUlASZIkSZIUSUDbtm3btmFJQGtxE+Z3tUhAchzHcRxnSEBw+ZZv+e5IQJ7neZ7naUhAkiRJkiSNR0B6nud5nm9IQLdt27Zt20dA27Zt27bhR0AMwzAMw3BIQPQ8z/M8z0dAep7neZ6vRkAlSZIkSeJHQFVVVVVV5UdAwgcffPCRSEBYfMVXfDVIQHqe53meJ0hAOIETOIETSEBiGIZhGMZHQGQ/9mM/xkdAFDiBEzjxR0A9z/M8z+NHQIQ6qIM6uEdAvuIrvuILSEAg+7Ef+0FIQKM1WqM1mkhAERERERGRSECe53me5zlGQJBJ8QKZpEdAz/M8z/PsR0D0PM/zPNtGQM/zPM/zHEhASZIkSZKYR0C3bdu2bedGQJIkSZIkqUZAep7neZ4/R0AAAAAAABhIQM/zPM/zwEdAJUmSJEn+R0AYhmEYhr1IQG7btm3bokhAnud5nud5SED0PM/zPKtIQHqe53me30hADMMwDMNURkA=\",\"dtype\":\"float64\",\"order\":\"little\",\"shape\":[52]}},\"selected\":{\"id\":\"7536\"},\"selection_policy\":{\"id\":\"7554\"}},\"id\":\"7535\",\"type\":\"ColumnDataSource\"},{\"attributes\":{\"line_color\":\"#30a2da\",\"line_width\":2,\"x\":{\"field\":\"Date\"},\"y\":{\"field\":\"Search Trends\"}},\"id\":\"7538\",\"type\":\"Line\"},{\"attributes\":{\"margin\":[5,5,5,5],\"name\":\"HSpacer11687\",\"sizing_mode\":\"stretch_width\"},\"id\":\"7495\",\"type\":\"Spacer\"},{\"attributes\":{},\"id\":\"7506\",\"type\":\"LinearScale\"},{\"attributes\":{\"coordinates\":null,\"group\":null,\"text\":\"Average Search Traffic by Week of Year\",\"text_color\":\"black\",\"text_font_size\":\"12pt\"},\"id\":\"7500\",\"type\":\"Title\"},{\"attributes\":{\"line_alpha\":0.1,\"line_color\":\"#30a2da\",\"line_width\":2,\"x\":{\"field\":\"Date\"},\"y\":{\"field\":\"Search Trends\"}},\"id\":\"7539\",\"type\":\"Line\"},{\"attributes\":{\"children\":[{\"id\":\"7495\"},{\"id\":\"7499\"},{\"id\":\"7637\"}],\"margin\":[0,0,0,0],\"name\":\"Row11683\",\"tags\":[\"embedded\"]},\"id\":\"7494\",\"type\":\"Row\"}],\"root_ids\":[\"7494\"]},\"title\":\"Bokeh Application\",\"version\":\"2.4.2\"}};\n",
       "    var render_items = [{\"docid\":\"acde41f6-6e82-44e4-8663-254e53fca44e\",\"root_ids\":[\"7494\"],\"roots\":{\"7494\":\"270d85ef-0b99-4481-8ccc-ee0f1d39fc97\"}}];\n",
       "    root.Bokeh.embed.embed_items_notebook(docs_json, render_items);\n",
       "  }\n",
       "  if (root.Bokeh !== undefined && root.Bokeh.Panel !== undefined) {\n",
       "    embed_document(root);\n",
       "  } else {\n",
       "    var attempts = 0;\n",
       "    var timer = setInterval(function(root) {\n",
       "      if (root.Bokeh !== undefined && root.Bokeh.Panel !== undefined) {\n",
       "        clearInterval(timer);\n",
       "        embed_document(root);\n",
       "      } else if (document.readyState == \"complete\") {\n",
       "        attempts++;\n",
       "        if (attempts > 200) {\n",
       "          clearInterval(timer);\n",
       "          console.log(\"Bokeh: ERROR: Unable to run BokehJS code because BokehJS library is missing\");\n",
       "        }\n",
       "      }\n",
       "    }, 25, root)\n",
       "  }\n",
       "})(window);</script>"
      ],
      "text/plain": [
       ":Overlay\n",
       "   .Curve.I :Curve   [Date]   (Search Trends)\n",
       "   .HLine.I :HLine   [x,y]"
      ]
     },
     "execution_count": 149,
     "metadata": {
      "application/vnd.holoviews_exec.v0+json": {
       "id": "7494"
      }
     },
     "output_type": "execute_result"
    }
   ],
   "source": [
    "big_season_df = meli_search_df.groupby(meli_search_df.index.weekofyear).mean()\n",
    "median = float(big_season_df.median())\n",
    "fig = big_season_df.hvplot(title = 'Average Search Traffic by Week of Year')\n",
    "hline = hv.HLine(median)\n",
    "hline.opts(\n",
    "    color = 'orange',\n",
    "    line_dash= 'dashed',\n",
    "    line_width= 2.0\n",
    ")\n",
    "fig * hline"
   ]
  },
  {
   "cell_type": "code",
   "execution_count": null,
   "metadata": {},
   "outputs": [],
   "source": []
  }
 ],
 "metadata": {
  "interpreter": {
   "hash": "317b78edde00bc4256311d4e714376712818880d4f09469ec991bbb7c62c2891"
  },
  "kernelspec": {
   "display_name": "Python 3.7.11 ('base')",
   "language": "python",
   "name": "python3"
  },
  "language_info": {
   "codemirror_mode": {
    "name": "ipython",
    "version": 3
   },
   "file_extension": ".py",
   "mimetype": "text/x-python",
   "name": "python",
   "nbconvert_exporter": "python",
   "pygments_lexer": "ipython3",
   "version": "3.7.11"
  },
  "orig_nbformat": 4
 },
 "nbformat": 4,
 "nbformat_minor": 2
}
