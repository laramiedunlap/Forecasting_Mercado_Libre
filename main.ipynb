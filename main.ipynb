{
 "cells": [
  {
   "cell_type": "markdown",
   "metadata": {},
   "source": [
    "### Find Unusual Patterns in Hourly Google Search Traffic\n",
    "The goal here is to find out if there is a link between financial events for MercadoLibre and Google search traffic. \n",
    "We will dive into May 2020, when MercadoLibre released a quarterly financial report"
   ]
  },
  {
   "cell_type": "code",
   "execution_count": 28,
   "metadata": {},
   "outputs": [],
   "source": [
    "import pandas as pd\n",
    "import holoviews as hv\n",
    "import hvplot.pandas"
   ]
  },
  {
   "cell_type": "code",
   "execution_count": 20,
   "metadata": {},
   "outputs": [],
   "source": [
    "# Read in the search trends data\n",
    "meli_search_df = pd.read_csv('resources/google_hourly_search_trends.csv', infer_datetime_format=True, parse_dates=True)\n",
    "\n",
    "# Slice the frame to just the month of May 2020. We first need to convert our Date column to Datetime\n",
    "meli_search_df['Date'] = pd.to_datetime(meli_search_df['Date'], infer_datetime_format=True, utc=True)\n",
    "\n",
    "# Set the index to our Datetime column for simple lookup / plot statements\n",
    "meli_search_df = meli_search_df.set_index('Date')"
   ]
  },
  {
   "cell_type": "code",
   "execution_count": 35,
   "metadata": {},
   "outputs": [
    {
     "data": {
      "text/html": [
       "<div>\n",
       "<style scoped>\n",
       "    .dataframe tbody tr th:only-of-type {\n",
       "        vertical-align: middle;\n",
       "    }\n",
       "\n",
       "    .dataframe tbody tr th {\n",
       "        vertical-align: top;\n",
       "    }\n",
       "\n",
       "    .dataframe thead th {\n",
       "        text-align: right;\n",
       "    }\n",
       "</style>\n",
       "<table border=\"1\" class=\"dataframe\">\n",
       "  <thead>\n",
       "    <tr style=\"text-align: right;\">\n",
       "      <th></th>\n",
       "      <th>Search Trends</th>\n",
       "    </tr>\n",
       "    <tr>\n",
       "      <th>Date</th>\n",
       "      <th></th>\n",
       "    </tr>\n",
       "  </thead>\n",
       "  <tbody>\n",
       "    <tr>\n",
       "      <th>2016-06-01 00:00:00+00:00</th>\n",
       "      <td>97</td>\n",
       "    </tr>\n",
       "    <tr>\n",
       "      <th>2016-06-01 01:00:00+00:00</th>\n",
       "      <td>92</td>\n",
       "    </tr>\n",
       "    <tr>\n",
       "      <th>2016-06-01 02:00:00+00:00</th>\n",
       "      <td>76</td>\n",
       "    </tr>\n",
       "    <tr>\n",
       "      <th>2016-06-01 03:00:00+00:00</th>\n",
       "      <td>60</td>\n",
       "    </tr>\n",
       "    <tr>\n",
       "      <th>2016-06-01 04:00:00+00:00</th>\n",
       "      <td>38</td>\n",
       "    </tr>\n",
       "  </tbody>\n",
       "</table>\n",
       "</div>"
      ],
      "text/plain": [
       "                           Search Trends\n",
       "Date                                    \n",
       "2016-06-01 00:00:00+00:00             97\n",
       "2016-06-01 01:00:00+00:00             92\n",
       "2016-06-01 02:00:00+00:00             76\n",
       "2016-06-01 03:00:00+00:00             60\n",
       "2016-06-01 04:00:00+00:00             38"
      ]
     },
     "execution_count": 35,
     "metadata": {},
     "output_type": "execute_result"
    }
   ],
   "source": [
    "meli_search_df.head()"
   ]
  },
  {
   "cell_type": "code",
   "execution_count": 42,
   "metadata": {},
   "outputs": [
    {
     "data": {},
     "metadata": {},
     "output_type": "display_data"
    },
    {
     "data": {
      "application/vnd.holoviews_exec.v0+json": "",
      "text/html": [
       "<div id='1655'>\n",
       "\n",
       "\n",
       "\n",
       "\n",
       "\n",
       "  <div class=\"bk-root\" id=\"b0dac6a1-36ca-4fa6-a1a0-82b188e7f841\" data-root-id=\"1655\"></div>\n",
       "</div>\n",
       "<script type=\"application/javascript\">(function(root) {\n",
       "  function embed_document(root) {\n",
       "    var docs_json = {\"2995ce95-1652-4934-aa6c-6f0825472813\":{\"defs\":[{\"extends\":null,\"module\":null,\"name\":\"ReactiveHTML1\",\"overrides\":[],\"properties\":[]},{\"extends\":null,\"module\":null,\"name\":\"FlexBox1\",\"overrides\":[],\"properties\":[{\"default\":\"flex-start\",\"kind\":null,\"name\":\"align_content\"},{\"default\":\"flex-start\",\"kind\":null,\"name\":\"align_items\"},{\"default\":\"row\",\"kind\":null,\"name\":\"flex_direction\"},{\"default\":\"wrap\",\"kind\":null,\"name\":\"flex_wrap\"},{\"default\":\"flex-start\",\"kind\":null,\"name\":\"justify_content\"}]},{\"extends\":null,\"module\":null,\"name\":\"TemplateActions1\",\"overrides\":[],\"properties\":[{\"default\":0,\"kind\":null,\"name\":\"open_modal\"},{\"default\":0,\"kind\":null,\"name\":\"close_modal\"}]},{\"extends\":null,\"module\":null,\"name\":\"MaterialTemplateActions1\",\"overrides\":[],\"properties\":[{\"default\":0,\"kind\":null,\"name\":\"open_modal\"},{\"default\":0,\"kind\":null,\"name\":\"close_modal\"}]}],\"roots\":{\"references\":[{\"attributes\":{\"source\":{\"id\":\"1690\"}},\"id\":\"1697\",\"type\":\"CDSView\"},{\"attributes\":{\"months\":[0,4,8]},\"id\":\"1724\",\"type\":\"MonthsTicker\"},{\"attributes\":{\"months\":[0,2,4,6,8,10]},\"id\":\"1723\",\"type\":\"MonthsTicker\"},{\"attributes\":{},\"id\":\"1677\",\"type\":\"SaveTool\"},{\"attributes\":{\"months\":[0,6]},\"id\":\"1725\",\"type\":\"MonthsTicker\"},{\"attributes\":{\"coordinates\":null,\"group\":null,\"text\":\"March 2020 Search Trend Data\",\"text_color\":\"black\",\"text_font_size\":\"12pt\"},\"id\":\"1661\",\"type\":\"Title\"},{\"attributes\":{},\"id\":\"1678\",\"type\":\"PanTool\"},{\"attributes\":{},\"id\":\"1700\",\"type\":\"DatetimeTickFormatter\"},{\"attributes\":{},\"id\":\"1665\",\"type\":\"LinearScale\"},{\"attributes\":{},\"id\":\"1681\",\"type\":\"ResetTool\"},{\"attributes\":{},\"id\":\"1679\",\"type\":\"WheelZoomTool\"},{\"attributes\":{\"line_color\":\"#30a2da\",\"line_width\":2,\"x\":{\"field\":\"Date\"},\"y\":{\"field\":\"Search Trends\"}},\"id\":\"1693\",\"type\":\"Line\"},{\"attributes\":{},\"id\":\"1691\",\"type\":\"Selection\"},{\"attributes\":{\"overlay\":{\"id\":\"1682\"}},\"id\":\"1680\",\"type\":\"BoxZoomTool\"},{\"attributes\":{},\"id\":\"1726\",\"type\":\"YearsTicker\"},{\"attributes\":{\"below\":[{\"id\":\"1669\"}],\"center\":[{\"id\":\"1672\"},{\"id\":\"1676\"}],\"height\":300,\"left\":[{\"id\":\"1673\"}],\"margin\":[5,5,5,5],\"min_border_bottom\":10,\"min_border_left\":10,\"min_border_right\":10,\"min_border_top\":10,\"renderers\":[{\"id\":\"1696\"}],\"sizing_mode\":\"fixed\",\"title\":{\"id\":\"1661\"},\"toolbar\":{\"id\":\"1683\"},\"width\":700,\"x_range\":{\"id\":\"1657\"},\"x_scale\":{\"id\":\"1665\"},\"y_range\":{\"id\":\"1658\"},\"y_scale\":{\"id\":\"1667\"}},\"id\":\"1660\",\"subtype\":\"Figure\",\"type\":\"Plot\"},{\"attributes\":{\"children\":[{\"id\":\"1656\"},{\"id\":\"1660\"},{\"id\":\"1749\"}],\"margin\":[0,0,0,0],\"name\":\"Row02749\",\"tags\":[\"embedded\"]},\"id\":\"1655\",\"type\":\"Row\"},{\"attributes\":{\"callback\":null,\"formatters\":{\"@{Date}\":\"datetime\"},\"renderers\":[{\"id\":\"1696\"}],\"tags\":[\"hv_created\"],\"tooltips\":[[\"Date\",\"@{Date}{%F %T}\"],[\"Search Trends\",\"@{Search_Trends}\"]]},\"id\":\"1659\",\"type\":\"HoverTool\"},{\"attributes\":{\"axis_label\":\"Date\",\"coordinates\":null,\"formatter\":{\"id\":\"1700\"},\"group\":null,\"major_label_policy\":{\"id\":\"1701\"},\"ticker\":{\"id\":\"1670\"}},\"id\":\"1669\",\"type\":\"DatetimeAxis\"},{\"attributes\":{\"tools\":[{\"id\":\"1659\"},{\"id\":\"1677\"},{\"id\":\"1678\"},{\"id\":\"1679\"},{\"id\":\"1680\"},{\"id\":\"1681\"}]},\"id\":\"1683\",\"type\":\"Toolbar\"},{\"attributes\":{},\"id\":\"1674\",\"type\":\"BasicTicker\"},{\"attributes\":{\"num_minor_ticks\":5,\"tickers\":[{\"id\":\"1715\"},{\"id\":\"1716\"},{\"id\":\"1717\"},{\"id\":\"1718\"},{\"id\":\"1719\"},{\"id\":\"1720\"},{\"id\":\"1721\"},{\"id\":\"1722\"},{\"id\":\"1723\"},{\"id\":\"1724\"},{\"id\":\"1725\"},{\"id\":\"1726\"}]},\"id\":\"1670\",\"type\":\"DatetimeTicker\"},{\"attributes\":{},\"id\":\"1701\",\"type\":\"AllLabels\"},{\"attributes\":{\"base\":60,\"mantissas\":[1,2,5,10,15,20,30],\"max_interval\":1800000.0,\"min_interval\":1000.0,\"num_minor_ticks\":0},\"id\":\"1716\",\"type\":\"AdaptiveTicker\"},{\"attributes\":{\"data\":{\"Date\":{\"__ndarray__\":\"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\",\"dtype\":\"float64\",\"order\":\"little\",\"shape\":[504]},\"Search Trends\":[76,71,62,47,33,20,11,7,8,11,21,30,39,47,49,52,53,52,53,55,61,66,73,77,76,70,62,51,36,23,12,8,7,9,14,25,33,41,44,45,49,49,52,56,62,73,80,83,84,77,64,48,30,16,10,7,8,13,24,40,51,59,64,66,69,71,72,75,81,92,100,94,92,83,66,47,31,17,11,8,8,16,29,43,52,59,62,63,67,68,72,71,75,84,94,95,96,87,72,54,35,19,10,7,10,17,31,45,53,63,63,67,70,73,75,76,81,88,97,96,91,83,69,52,32,19,10,8,10,16,29,44,56,60,63,65,69,71,74,77,79,89,97,92,91,85,66,49,30,16,10,7,10,16,30,43,52,58,62,60,66,69,69,71,74,78,85,91,85,80,65,53,33,19,11,8,8,13,22,33,44,48,50,53,54,56,58,58,64,70,71,77,76,71,62,48,34,21,13,8,7,10,15,25,33,40,44,47,49,50,54,57,63,71,83,82,79,78,66,51,32,18,10,6,6,10,12,18,27,36,46,48,50,52,58,59,61,68,73,82,79,78,81,67,54,39,25,14,9,7,8,15,24,31,40,44,47,48,52,53,57,59,63,74,73,77,70,64,55,44,27,14,8,7,8,12,20,28,35,40,44,47,52,52,56,61,68,76,77,75,72,69,56,37,23,14,9,7,8,13,20,29,37,43,46,54,56,58,57,61,73,80,80,80,74,70,57,41,23,15,9,7,8,14,22,30,38,44,47,50,54,58,61,66,76,84,81,79,77,70,57,40,25,15,10,7,9,14,24,33,40,47,51,52,58,61,62,55,78,83,82,83,80,74,59,42,25,16,9,8,9,17,27,35,42,48,52,54,56,61,63,71,78,83,82,80,78,70,61,44,26,16,9,8,10,15,26,35,43,48,52,52,58,62,63,70,78,86,87,82,79,73,61,44,30,19,12,10,11,16,24,35,44,47,53,57,57,60,63,66,77,84,85,83,81,78,64,50,31,20,12,9,9,12,20,30,40,45,49,52,56,61,65,73,85,94,92,87,83,77,62,42,28,16,10,8,10,16,27,37,45,53,58,60,64,68,75,80,95,100,100,91,89,79,66,47,33,18,11,9,10,15,26,35,45,53,55,60,63,65,74,83,96,100],\"Search_Trends\":[76,71,62,47,33,20,11,7,8,11,21,30,39,47,49,52,53,52,53,55,61,66,73,77,76,70,62,51,36,23,12,8,7,9,14,25,33,41,44,45,49,49,52,56,62,73,80,83,84,77,64,48,30,16,10,7,8,13,24,40,51,59,64,66,69,71,72,75,81,92,100,94,92,83,66,47,31,17,11,8,8,16,29,43,52,59,62,63,67,68,72,71,75,84,94,95,96,87,72,54,35,19,10,7,10,17,31,45,53,63,63,67,70,73,75,76,81,88,97,96,91,83,69,52,32,19,10,8,10,16,29,44,56,60,63,65,69,71,74,77,79,89,97,92,91,85,66,49,30,16,10,7,10,16,30,43,52,58,62,60,66,69,69,71,74,78,85,91,85,80,65,53,33,19,11,8,8,13,22,33,44,48,50,53,54,56,58,58,64,70,71,77,76,71,62,48,34,21,13,8,7,10,15,25,33,40,44,47,49,50,54,57,63,71,83,82,79,78,66,51,32,18,10,6,6,10,12,18,27,36,46,48,50,52,58,59,61,68,73,82,79,78,81,67,54,39,25,14,9,7,8,15,24,31,40,44,47,48,52,53,57,59,63,74,73,77,70,64,55,44,27,14,8,7,8,12,20,28,35,40,44,47,52,52,56,61,68,76,77,75,72,69,56,37,23,14,9,7,8,13,20,29,37,43,46,54,56,58,57,61,73,80,80,80,74,70,57,41,23,15,9,7,8,14,22,30,38,44,47,50,54,58,61,66,76,84,81,79,77,70,57,40,25,15,10,7,9,14,24,33,40,47,51,52,58,61,62,55,78,83,82,83,80,74,59,42,25,16,9,8,9,17,27,35,42,48,52,54,56,61,63,71,78,83,82,80,78,70,61,44,26,16,9,8,10,15,26,35,43,48,52,52,58,62,63,70,78,86,87,82,79,73,61,44,30,19,12,10,11,16,24,35,44,47,53,57,57,60,63,66,77,84,85,83,81,78,64,50,31,20,12,9,9,12,20,30,40,45,49,52,56,61,65,73,85,94,92,87,83,77,62,42,28,16,10,8,10,16,27,37,45,53,58,60,64,68,75,80,95,100,100,91,89,79,66,47,33,18,11,9,10,15,26,35,45,53,55,60,63,65,74,83,96,100]},\"selected\":{\"id\":\"1691\"},\"selection_policy\":{\"id\":\"1712\"}},\"id\":\"1690\",\"type\":\"ColumnDataSource\"},{\"attributes\":{\"bottom_units\":\"screen\",\"coordinates\":null,\"fill_alpha\":0.5,\"fill_color\":\"lightgrey\",\"group\":null,\"left_units\":\"screen\",\"level\":\"overlay\",\"line_alpha\":1.0,\"line_color\":\"black\",\"line_dash\":[4,4],\"line_width\":2,\"right_units\":\"screen\",\"syncable\":false,\"top_units\":\"screen\"},\"id\":\"1682\",\"type\":\"BoxAnnotation\"},{\"attributes\":{\"mantissas\":[1,2,5],\"max_interval\":500.0,\"num_minor_ticks\":0},\"id\":\"1715\",\"type\":\"AdaptiveTicker\"},{\"attributes\":{},\"id\":\"1667\",\"type\":\"LinearScale\"},{\"attributes\":{\"base\":24,\"mantissas\":[1,2,4,6,8,12],\"max_interval\":43200000.0,\"min_interval\":3600000.0,\"num_minor_ticks\":0},\"id\":\"1717\",\"type\":\"AdaptiveTicker\"},{\"attributes\":{\"days\":[1,4,7,10,13,16,19,22,25,28]},\"id\":\"1719\",\"type\":\"DaysTicker\"},{\"attributes\":{\"axis_label\":\"Search Trends\",\"coordinates\":null,\"formatter\":{\"id\":\"1703\"},\"group\":null,\"major_label_policy\":{\"id\":\"1704\"},\"ticker\":{\"id\":\"1674\"}},\"id\":\"1673\",\"type\":\"LinearAxis\"},{\"attributes\":{\"days\":[1,2,3,4,5,6,7,8,9,10,11,12,13,14,15,16,17,18,19,20,21,22,23,24,25,26,27,28,29,30,31]},\"id\":\"1718\",\"type\":\"DaysTicker\"},{\"attributes\":{\"margin\":[5,5,5,5],\"name\":\"HSpacer02753\",\"sizing_mode\":\"stretch_width\"},\"id\":\"1656\",\"type\":\"Spacer\"},{\"attributes\":{\"axis\":{\"id\":\"1669\"},\"coordinates\":null,\"grid_line_color\":null,\"group\":null,\"ticker\":null},\"id\":\"1672\",\"type\":\"Grid\"},{\"attributes\":{\"end\":1585695600000.0,\"reset_end\":1585695600000.0,\"reset_start\":1583884800000.0,\"start\":1583884800000.0,\"tags\":[[[\"Date\",\"Date\",null]]]},\"id\":\"1657\",\"type\":\"Range1d\"},{\"attributes\":{\"months\":[0,1,2,3,4,5,6,7,8,9,10,11]},\"id\":\"1722\",\"type\":\"MonthsTicker\"},{\"attributes\":{\"line_color\":\"#30a2da\",\"line_width\":2,\"x\":{\"field\":\"Date\"},\"y\":{\"field\":\"Search Trends\"}},\"id\":\"1698\",\"type\":\"Line\"},{\"attributes\":{\"days\":[1,8,15,22]},\"id\":\"1720\",\"type\":\"DaysTicker\"},{\"attributes\":{\"axis\":{\"id\":\"1673\"},\"coordinates\":null,\"dimension\":1,\"grid_line_color\":null,\"group\":null,\"ticker\":null},\"id\":\"1676\",\"type\":\"Grid\"},{\"attributes\":{\"days\":[1,15]},\"id\":\"1721\",\"type\":\"DaysTicker\"},{\"attributes\":{\"end\":109.4,\"reset_end\":109.4,\"reset_start\":-3.4000000000000004,\"start\":-3.4000000000000004,\"tags\":[[[\"Search Trends\",\"Search Trends\",null]]]},\"id\":\"1658\",\"type\":\"Range1d\"},{\"attributes\":{\"line_alpha\":0.1,\"line_color\":\"#30a2da\",\"line_width\":2,\"x\":{\"field\":\"Date\"},\"y\":{\"field\":\"Search Trends\"}},\"id\":\"1694\",\"type\":\"Line\"},{\"attributes\":{\"margin\":[5,5,5,5],\"name\":\"HSpacer02754\",\"sizing_mode\":\"stretch_width\"},\"id\":\"1749\",\"type\":\"Spacer\"},{\"attributes\":{\"line_alpha\":0.2,\"line_color\":\"#30a2da\",\"line_width\":2,\"x\":{\"field\":\"Date\"},\"y\":{\"field\":\"Search Trends\"}},\"id\":\"1695\",\"type\":\"Line\"},{\"attributes\":{},\"id\":\"1704\",\"type\":\"AllLabels\"},{\"attributes\":{},\"id\":\"1712\",\"type\":\"UnionRenderers\"},{\"attributes\":{\"coordinates\":null,\"data_source\":{\"id\":\"1690\"},\"glyph\":{\"id\":\"1693\"},\"group\":null,\"hover_glyph\":null,\"muted_glyph\":{\"id\":\"1695\"},\"nonselection_glyph\":{\"id\":\"1694\"},\"selection_glyph\":{\"id\":\"1698\"},\"view\":{\"id\":\"1697\"}},\"id\":\"1696\",\"type\":\"GlyphRenderer\"},{\"attributes\":{},\"id\":\"1703\",\"type\":\"BasicTickFormatter\"}],\"root_ids\":[\"1655\"]},\"title\":\"Bokeh Application\",\"version\":\"2.4.2\"}};\n",
       "    var render_items = [{\"docid\":\"2995ce95-1652-4934-aa6c-6f0825472813\",\"root_ids\":[\"1655\"],\"roots\":{\"1655\":\"b0dac6a1-36ca-4fa6-a1a0-82b188e7f841\"}}];\n",
       "    root.Bokeh.embed.embed_items_notebook(docs_json, render_items);\n",
       "  }\n",
       "  if (root.Bokeh !== undefined && root.Bokeh.Panel !== undefined) {\n",
       "    embed_document(root);\n",
       "  } else {\n",
       "    var attempts = 0;\n",
       "    var timer = setInterval(function(root) {\n",
       "      if (root.Bokeh !== undefined && root.Bokeh.Panel !== undefined) {\n",
       "        clearInterval(timer);\n",
       "        embed_document(root);\n",
       "      } else if (document.readyState == \"complete\") {\n",
       "        attempts++;\n",
       "        if (attempts > 200) {\n",
       "          clearInterval(timer);\n",
       "          console.log(\"Bokeh: ERROR: Unable to run BokehJS code because BokehJS library is missing\");\n",
       "        }\n",
       "      }\n",
       "    }, 25, root)\n",
       "  }\n",
       "})(window);</script>"
      ],
      "text/plain": [
       ":Curve   [Date]   (Search Trends)"
      ]
     },
     "execution_count": 42,
     "metadata": {
      "application/vnd.holoviews_exec.v0+json": {
       "id": "1655"
      }
     },
     "output_type": "execute_result"
    }
   ],
   "source": [
    "fig_march = meli_search_df.loc['2020-03'].hvplot(title= 'March 2020 Search Trend Data')\n",
    "fig_march"
   ]
  },
  {
   "cell_type": "markdown",
   "metadata": {},
   "source": [
    "### Inconclusive. \n",
    "The chart appears to be a stochastic process oscillating between ~10 and ~100 with reliable cyclicality. You could argue the second week of the month and the last showed excess search traffic, but we would need to use all the other data to give that context. So that's what we'll do! "
   ]
  },
  {
   "cell_type": "code",
   "execution_count": 12,
   "metadata": {},
   "outputs": [
    {
     "data": {
      "text/plain": [
       "RangeIndex(start=0, stop=37106, step=1)"
      ]
     },
     "execution_count": 12,
     "metadata": {},
     "output_type": "execute_result"
    }
   ],
   "source": []
  },
  {
   "cell_type": "code",
   "execution_count": null,
   "metadata": {},
   "outputs": [],
   "source": []
  }
 ],
 "metadata": {
  "interpreter": {
   "hash": "317b78edde00bc4256311d4e714376712818880d4f09469ec991bbb7c62c2891"
  },
  "kernelspec": {
   "display_name": "Python 3.7.11 ('base')",
   "language": "python",
   "name": "python3"
  },
  "language_info": {
   "codemirror_mode": {
    "name": "ipython",
    "version": 3
   },
   "file_extension": ".py",
   "mimetype": "text/x-python",
   "name": "python",
   "nbconvert_exporter": "python",
   "pygments_lexer": "ipython3",
   "version": "3.7.11"
  },
  "orig_nbformat": 4
 },
 "nbformat": 4,
 "nbformat_minor": 2
}
